{
 "cells": [
  {
   "cell_type": "markdown",
   "metadata": {},
   "source": [
    "# Dataset\n",
    "https://www.kaggle.com/mrisdal/fake-news#fake.csv\n",
    "\n",
    "Example domain classifications (in flux) include:\n",
    "\n",
    "  * **Fake News**: Sources that fabricate stories out of whole cloth with the intent of pranking the public.\n",
    "  * **Satire**: Sources that provide humorous commentary on current events in the form of fake news.\n",
    "  *  **Extreme Bias**: Sources that traffic in political propaganda and gross distortions of fact.\n",
    "  *  **Conspiracy Theory**: Sources that are well-known promoters of kooky conspiracy theories.\n",
    "  *  **Rumor Mill**: Sources that traffic in rumors, innuendo, and unverified claims.\n",
    "  *  **State News**: Sources in repressive states operating under government sanction.\n",
    "  *  **Junk Science**: Sources that promote pseudoscience, metaphysics, naturalistic fallacies, and other scientifically dubious claims.\n",
    "  *  **Hate Group**: Sources that actively promote racism, misogyny, homophobia, and other forms of discrimination.\n",
    "  *  **Clickbait:** Sources that are aimed at generating online advertising revenue and rely on sensationalist headlines or eye-catching pictures.\n",
    "  *  **Proceed With Caution**: Sources that may be reliable but whose contents require further verification.\n",
    "  *  The labels of **bs** and **junksci**, etc. do not constitute capital \"t\" Truth\n",
    "\n"
   ]
  },
  {
   "cell_type": "code",
   "execution_count": 103,
   "metadata": {},
   "outputs": [
    {
     "name": "stdout",
     "output_type": "stream",
     "text": [
      "1.9.0\n"
     ]
    }
   ],
   "source": [
    "import tensorflow as tf\n",
    "import numpy as np\n",
    "import matplotlib.pyplot as plt\n",
    "import mlutils\n",
    "%matplotlib inline\n",
    "import pandas as pd\n",
    "import tensorflow_hub as hub \n",
    "import re\n",
    "print tf.__version__\n"
   ]
  },
  {
   "cell_type": "markdown",
   "metadata": {},
   "source": [
    "## Descarga, arregla e inspecciona el dataset Fake news"
   ]
  },
  {
   "cell_type": "code",
   "execution_count": 19,
   "metadata": {},
   "outputs": [
    {
     "name": "stdout",
     "output_type": "stream",
     "text": [
      "--2018-09-01 08:37:15--  https://github.com/chdorrego/tf/raw/master/fake-news.zip\n",
      "Resolving github.com (github.com)... 192.30.253.112, 192.30.253.113\n",
      "Connecting to github.com (github.com)|192.30.253.112|:443... connected.\n",
      "HTTP request sent, awaiting response... 302 Found\n",
      "Location: https://raw.githubusercontent.com/chdorrego/tf/master/fake-news.zip [following]\n",
      "--2018-09-01 08:37:16--  https://raw.githubusercontent.com/chdorrego/tf/master/fake-news.zip\n",
      "Resolving raw.githubusercontent.com (raw.githubusercontent.com)... 151.101.220.133\n",
      "Connecting to raw.githubusercontent.com (raw.githubusercontent.com)|151.101.220.133|:443... connected.\n",
      "HTTP request sent, awaiting response... 200 OK\n",
      "Length: 21412001 (20M) [application/zip]\n",
      "Saving to: ‘dataFake/fake-news.zip’\n",
      "\n",
      "fake-news.zip       100%[===================>]  20.42M  1.87MB/s    in 13s     \n",
      "\n",
      "2018-09-01 08:37:29 (1.57 MB/s) - ‘dataFake/fake-news.zip’ saved [21412001/21412001]\n",
      "\n",
      "Archive:  dataFake/fake-news.zip\n",
      "  inflating: dataFake/fake.csv       \n"
     ]
    }
   ],
   "source": [
    "import os\n",
    "!mkdir -p data\n",
    "if not os.path.exists(\"dataFake/fake.csv\"):\n",
    "    !wget -c -nc https://github.com/chdorrego/tf/raw/master/fake-news.zip -P dataFake\n",
    "    !unzip dataFake/fake-news.zip -d dataFake\n",
    "    with open(\"dataFake/fake.csv\", \"r\") as f:\n",
    "        lines = f.readlines()\n",
    "        lines = [i for i in lines if len(i.replace(\"\\n\", \"\"))>0]\n",
    "    with open(\"dataFake/fake.csv\", \"w\") as f:\n",
    "        f.writelines(lines) "
   ]
  },
  {
   "cell_type": "code",
   "execution_count": 20,
   "metadata": {},
   "outputs": [
    {
     "name": "stdout",
     "output_type": "stream",
     "text": [
      "\"uuid\",\"ord_in_thread\",\"author\",\"published\",\"title\",\"text\",\"language\",\"crawled\",\"site_url\",\"country\",\"domain_rank\",\"thread_title\",\"spam_score\",\"main_img_url\",\"replies_count\",\"participants_count\",\"likes\",\"comments\",\"shares\",\"type\"\r\n",
      "\"6a175f46bcd24d39b3e962ad0f29936721db70db\",0,\"Barracuda Brigade\",\"2016-10-26T21:41:00.000+03:00\",\"Muslims BUSTED: They Stole Millions In Gov’t Benefits\",\"Print They should pay all the back all the money plus interest. The entire family and everyone who came in with them need to be deported asap. Why did it take two years to bust them? \r\n",
      "Here we go again …another group stealing from the government and taxpayers! A group of Somalis stole over four million in government benefits over just 10 months! \r\n",
      "We’ve reported on numerous cases like this one where the Muslim refugees/immigrants commit fraud by scamming our system…It’s way out of control! More Related\",\"english\",\"2016-10-27T01:49:27.168+03:00\",\"100percentfedup.com\",\"US\",25689,\"Muslims BUSTED: They Stole Millions In Gov’t Benefits\",0,\"http://bb4sp.com/wp-content/uploads/2016/10/Fullscreen-capture-10262016-83501-AM.bmp.jpg\",0,1,0,0,0,\"bias\"\r\n",
      "\"2bdc29d12605ef9cf3f09f9875040a7113be5d5b\",0,\"reasoning with facts\",\"2016-10-29T08:47:11.259+03:00\",\"Re: Why Did Attorney General Loretta Lynch Plead The Fifth?\",\"Why Did Attorney General Loretta Lynch Plead The Fifth? Barracuda Brigade 2016-10-28 Print The administration is blocking congressional probe into cash payments to Iran. Of course she needs to plead the 5th. She either can’t recall, refuses to answer, or just plain deflects the question. Straight up corruption at its finest! \r\n"
     ]
    }
   ],
   "source": [
    "!head -5 dataFake/fake.csv"
   ]
  },
  {
   "cell_type": "code",
   "execution_count": 77,
   "metadata": {},
   "outputs": [
    {
     "name": "stdout",
     "output_type": "stream",
     "text": [
      "(12999, 20)\n"
     ]
    },
    {
     "data": {
      "text/html": [
       "<div>\n",
       "<style scoped>\n",
       "    .dataframe tbody tr th:only-of-type {\n",
       "        vertical-align: middle;\n",
       "    }\n",
       "\n",
       "    .dataframe tbody tr th {\n",
       "        vertical-align: top;\n",
       "    }\n",
       "\n",
       "    .dataframe thead th {\n",
       "        text-align: right;\n",
       "    }\n",
       "</style>\n",
       "<table border=\"1\" class=\"dataframe\">\n",
       "  <thead>\n",
       "    <tr style=\"text-align: right;\">\n",
       "      <th></th>\n",
       "      <th>uuid</th>\n",
       "      <th>ord_in_thread</th>\n",
       "      <th>author</th>\n",
       "      <th>published</th>\n",
       "      <th>title</th>\n",
       "      <th>text</th>\n",
       "      <th>language</th>\n",
       "      <th>crawled</th>\n",
       "      <th>site_url</th>\n",
       "      <th>country</th>\n",
       "      <th>domain_rank</th>\n",
       "      <th>thread_title</th>\n",
       "      <th>spam_score</th>\n",
       "      <th>main_img_url</th>\n",
       "      <th>replies_count</th>\n",
       "      <th>participants_count</th>\n",
       "      <th>likes</th>\n",
       "      <th>comments</th>\n",
       "      <th>shares</th>\n",
       "      <th>type_label</th>\n",
       "    </tr>\n",
       "  </thead>\n",
       "  <tbody>\n",
       "    <tr>\n",
       "      <th>0</th>\n",
       "      <td>6a175f46bcd24d39b3e962ad0f29936721db70db</td>\n",
       "      <td>0</td>\n",
       "      <td>Barracuda Brigade</td>\n",
       "      <td>2016-10-26T21:41:00.000+03:00</td>\n",
       "      <td>Muslims BUSTED: They Stole Millions In Gov’t B...</td>\n",
       "      <td>Print They should pay all the back all the mon...</td>\n",
       "      <td>english</td>\n",
       "      <td>2016-10-27T01:49:27.168+03:00</td>\n",
       "      <td>100percentfedup.com</td>\n",
       "      <td>US</td>\n",
       "      <td>25689.0</td>\n",
       "      <td>Muslims BUSTED: They Stole Millions In Gov’t B...</td>\n",
       "      <td>0.000</td>\n",
       "      <td>http://bb4sp.com/wp-content/uploads/2016/10/Fu...</td>\n",
       "      <td>0</td>\n",
       "      <td>1</td>\n",
       "      <td>0</td>\n",
       "      <td>0</td>\n",
       "      <td>0</td>\n",
       "      <td>bias</td>\n",
       "    </tr>\n",
       "    <tr>\n",
       "      <th>1</th>\n",
       "      <td>2bdc29d12605ef9cf3f09f9875040a7113be5d5b</td>\n",
       "      <td>0</td>\n",
       "      <td>reasoning with facts</td>\n",
       "      <td>2016-10-29T08:47:11.259+03:00</td>\n",
       "      <td>Re: Why Did Attorney General Loretta Lynch Ple...</td>\n",
       "      <td>Why Did Attorney General Loretta Lynch Plead T...</td>\n",
       "      <td>english</td>\n",
       "      <td>2016-10-29T08:47:11.259+03:00</td>\n",
       "      <td>100percentfedup.com</td>\n",
       "      <td>US</td>\n",
       "      <td>25689.0</td>\n",
       "      <td>Re: Why Did Attorney General Loretta Lynch Ple...</td>\n",
       "      <td>0.000</td>\n",
       "      <td>http://bb4sp.com/wp-content/uploads/2016/10/Fu...</td>\n",
       "      <td>0</td>\n",
       "      <td>1</td>\n",
       "      <td>0</td>\n",
       "      <td>0</td>\n",
       "      <td>0</td>\n",
       "      <td>bias</td>\n",
       "    </tr>\n",
       "    <tr>\n",
       "      <th>2</th>\n",
       "      <td>c70e149fdd53de5e61c29281100b9de0ed268bc3</td>\n",
       "      <td>0</td>\n",
       "      <td>Barracuda Brigade</td>\n",
       "      <td>2016-10-31T01:41:49.479+02:00</td>\n",
       "      <td>BREAKING: Weiner Cooperating With FBI On Hilla...</td>\n",
       "      <td>Red State : \\nFox News Sunday reported this mo...</td>\n",
       "      <td>english</td>\n",
       "      <td>2016-10-31T01:41:49.479+02:00</td>\n",
       "      <td>100percentfedup.com</td>\n",
       "      <td>US</td>\n",
       "      <td>25689.0</td>\n",
       "      <td>BREAKING: Weiner Cooperating With FBI On Hilla...</td>\n",
       "      <td>0.000</td>\n",
       "      <td>http://bb4sp.com/wp-content/uploads/2016/10/Fu...</td>\n",
       "      <td>0</td>\n",
       "      <td>1</td>\n",
       "      <td>0</td>\n",
       "      <td>0</td>\n",
       "      <td>0</td>\n",
       "      <td>bias</td>\n",
       "    </tr>\n",
       "    <tr>\n",
       "      <th>3</th>\n",
       "      <td>7cf7c15731ac2a116dd7f629bd57ea468ed70284</td>\n",
       "      <td>0</td>\n",
       "      <td>Fed Up</td>\n",
       "      <td>2016-11-01T05:22:00.000+02:00</td>\n",
       "      <td>PIN DROP SPEECH BY FATHER OF DAUGHTER Kidnappe...</td>\n",
       "      <td>Email Kayla Mueller was a prisoner and torture...</td>\n",
       "      <td>english</td>\n",
       "      <td>2016-11-01T15:46:26.304+02:00</td>\n",
       "      <td>100percentfedup.com</td>\n",
       "      <td>US</td>\n",
       "      <td>25689.0</td>\n",
       "      <td>PIN DROP SPEECH BY FATHER OF DAUGHTER Kidnappe...</td>\n",
       "      <td>0.068</td>\n",
       "      <td>http://100percentfedup.com/wp-content/uploads/...</td>\n",
       "      <td>0</td>\n",
       "      <td>0</td>\n",
       "      <td>0</td>\n",
       "      <td>0</td>\n",
       "      <td>0</td>\n",
       "      <td>bias</td>\n",
       "    </tr>\n",
       "    <tr>\n",
       "      <th>4</th>\n",
       "      <td>0206b54719c7e241ffe0ad4315b808290dbe6c0f</td>\n",
       "      <td>0</td>\n",
       "      <td>Fed Up</td>\n",
       "      <td>2016-11-01T21:56:00.000+02:00</td>\n",
       "      <td>FANTASTIC! TRUMP'S 7 POINT PLAN To Reform Heal...</td>\n",
       "      <td>Email HEALTHCARE REFORM TO MAKE AMERICA GREAT ...</td>\n",
       "      <td>english</td>\n",
       "      <td>2016-11-01T23:59:42.266+02:00</td>\n",
       "      <td>100percentfedup.com</td>\n",
       "      <td>US</td>\n",
       "      <td>25689.0</td>\n",
       "      <td>FANTASTIC! TRUMP'S 7 POINT PLAN To Reform Heal...</td>\n",
       "      <td>0.865</td>\n",
       "      <td>http://100percentfedup.com/wp-content/uploads/...</td>\n",
       "      <td>0</td>\n",
       "      <td>0</td>\n",
       "      <td>0</td>\n",
       "      <td>0</td>\n",
       "      <td>0</td>\n",
       "      <td>bias</td>\n",
       "    </tr>\n",
       "  </tbody>\n",
       "</table>\n",
       "</div>"
      ],
      "text/plain": [
       "                                       uuid  ord_in_thread  \\\n",
       "0  6a175f46bcd24d39b3e962ad0f29936721db70db              0   \n",
       "1  2bdc29d12605ef9cf3f09f9875040a7113be5d5b              0   \n",
       "2  c70e149fdd53de5e61c29281100b9de0ed268bc3              0   \n",
       "3  7cf7c15731ac2a116dd7f629bd57ea468ed70284              0   \n",
       "4  0206b54719c7e241ffe0ad4315b808290dbe6c0f              0   \n",
       "\n",
       "                 author                      published  \\\n",
       "0     Barracuda Brigade  2016-10-26T21:41:00.000+03:00   \n",
       "1  reasoning with facts  2016-10-29T08:47:11.259+03:00   \n",
       "2     Barracuda Brigade  2016-10-31T01:41:49.479+02:00   \n",
       "3                Fed Up  2016-11-01T05:22:00.000+02:00   \n",
       "4                Fed Up  2016-11-01T21:56:00.000+02:00   \n",
       "\n",
       "                                               title  \\\n",
       "0  Muslims BUSTED: They Stole Millions In Gov’t B...   \n",
       "1  Re: Why Did Attorney General Loretta Lynch Ple...   \n",
       "2  BREAKING: Weiner Cooperating With FBI On Hilla...   \n",
       "3  PIN DROP SPEECH BY FATHER OF DAUGHTER Kidnappe...   \n",
       "4  FANTASTIC! TRUMP'S 7 POINT PLAN To Reform Heal...   \n",
       "\n",
       "                                                text language  \\\n",
       "0  Print They should pay all the back all the mon...  english   \n",
       "1  Why Did Attorney General Loretta Lynch Plead T...  english   \n",
       "2  Red State : \\nFox News Sunday reported this mo...  english   \n",
       "3  Email Kayla Mueller was a prisoner and torture...  english   \n",
       "4  Email HEALTHCARE REFORM TO MAKE AMERICA GREAT ...  english   \n",
       "\n",
       "                         crawled             site_url country  domain_rank  \\\n",
       "0  2016-10-27T01:49:27.168+03:00  100percentfedup.com      US      25689.0   \n",
       "1  2016-10-29T08:47:11.259+03:00  100percentfedup.com      US      25689.0   \n",
       "2  2016-10-31T01:41:49.479+02:00  100percentfedup.com      US      25689.0   \n",
       "3  2016-11-01T15:46:26.304+02:00  100percentfedup.com      US      25689.0   \n",
       "4  2016-11-01T23:59:42.266+02:00  100percentfedup.com      US      25689.0   \n",
       "\n",
       "                                        thread_title  spam_score  \\\n",
       "0  Muslims BUSTED: They Stole Millions In Gov’t B...       0.000   \n",
       "1  Re: Why Did Attorney General Loretta Lynch Ple...       0.000   \n",
       "2  BREAKING: Weiner Cooperating With FBI On Hilla...       0.000   \n",
       "3  PIN DROP SPEECH BY FATHER OF DAUGHTER Kidnappe...       0.068   \n",
       "4  FANTASTIC! TRUMP'S 7 POINT PLAN To Reform Heal...       0.865   \n",
       "\n",
       "                                        main_img_url  replies_count  \\\n",
       "0  http://bb4sp.com/wp-content/uploads/2016/10/Fu...              0   \n",
       "1  http://bb4sp.com/wp-content/uploads/2016/10/Fu...              0   \n",
       "2  http://bb4sp.com/wp-content/uploads/2016/10/Fu...              0   \n",
       "3  http://100percentfedup.com/wp-content/uploads/...              0   \n",
       "4  http://100percentfedup.com/wp-content/uploads/...              0   \n",
       "\n",
       "   participants_count  likes  comments  shares type_label  \n",
       "0                   1      0         0       0       bias  \n",
       "1                   1      0         0       0       bias  \n",
       "2                   1      0         0       0       bias  \n",
       "3                   0      0         0       0       bias  \n",
       "4                   0      0         0       0       bias  "
      ]
     },
     "execution_count": 77,
     "metadata": {},
     "output_type": "execute_result"
    }
   ],
   "source": [
    "CSV_COLUMNS  = ['uuid','ord_in_thread','author','published','title','text','language','crawled','site_url','country','domain_rank','thread_title','spam_score','main_img_url','replies_count','participants_count','likes','comments','shares','type_label']\n",
    "#CSV_DEFAULTS = [[''],[0],[''],[''],[''],[''],[''],[''],[''],[''],[0],[''],[-1],[''],[-1],[-1],[-1],[-1],[-1],['']]\n",
    "CSV_DEFAULTS = [[''],[''],[''],[''],[''],[''],[''],[''],[''],[''],[''],[''],[''],[''],[''],[''],[''],[''],[''],['']]\n",
    "\n",
    "\n",
    "type_label =  ['bias','conspiracy','hate','state','junksci','satire','fake']\n",
    "no_valid_labels = ['bs']\n",
    "\n",
    "fake= pd.read_csv(\"dataFake/fake.csv\", names = CSV_COLUMNS,skiprows=1)\n",
    "print fake.shape\n",
    "fake.head()"
   ]
  },
  {
   "cell_type": "markdown",
   "metadata": {},
   "source": [
    "### Labels\n",
    "\n",
    "* bs            10919 \n",
    "* conspiracy      412 \n",
    "- bias            354 \n",
    "- hate            246 \n",
    "- state           121 \n",
    "- junksci         102 \n",
    "- satire          100 \n",
    "- fake             19\n"
   ]
  },
  {
   "cell_type": "markdown",
   "metadata": {},
   "source": [
    "## Realizamos la eleminiación de la clase bs debido a la definición del problema y creamos los archivos test y train"
   ]
  },
  {
   "cell_type": "code",
   "execution_count": 144,
   "metadata": {},
   "outputs": [
    {
     "name": "stderr",
     "output_type": "stream",
     "text": [
      "/opt/miniconda/lib/python2.7/site-packages/ipykernel_launcher.py:2: SettingWithCopyWarning: \n",
      "A value is trying to be set on a copy of a slice from a DataFrame.\n",
      "Try using .loc[row_indexer,col_indexer] = value instead\n",
      "\n",
      "See the caveats in the documentation: http://pandas.pydata.org/pandas-docs/stable/indexing.html#indexing-view-versus-copy\n",
      "  \n"
     ]
    },
    {
     "name": "stdout",
     "output_type": "stream",
     "text": [
      "uuid                  1231\n",
      "ord_in_thread         1231\n",
      "author                 836\n",
      "published             1231\n",
      "title                 1139\n",
      "text                  1192\n",
      "language              1231\n",
      "crawled               1231\n",
      "site_url              1231\n",
      "country               1231\n",
      "domain_rank           1080\n",
      "thread_title          1231\n",
      "spam_score            1231\n",
      "main_img_url           979\n",
      "replies_count         1231\n",
      "participants_count    1231\n",
      "likes                 1231\n",
      "comments              1231\n",
      "shares                1231\n",
      "type_label            1231\n",
      "dtype: int64\n",
      "uuid                  276\n",
      "ord_in_thread         276\n",
      "author                192\n",
      "published             276\n",
      "title                 261\n",
      "text                  269\n",
      "language              276\n",
      "crawled               276\n",
      "site_url              276\n",
      "country               276\n",
      "domain_rank           239\n",
      "thread_title          276\n",
      "spam_score            276\n",
      "main_img_url          214\n",
      "replies_count         276\n",
      "participants_count    276\n",
      "likes                 276\n",
      "comments              276\n",
      "shares                276\n",
      "type_label            276\n",
      "dtype: int64\n"
     ]
    },
    {
     "name": "stderr",
     "output_type": "stream",
     "text": [
      "/opt/miniconda/lib/python2.7/site-packages/ipykernel_launcher.py:3: SettingWithCopyWarning: \n",
      "A value is trying to be set on a copy of a slice from a DataFrame.\n",
      "Try using .loc[row_indexer,col_indexer] = value instead\n",
      "\n",
      "See the caveats in the documentation: http://pandas.pydata.org/pandas-docs/stable/indexing.html#indexing-view-versus-copy\n",
      "  This is separate from the ipykernel package so we can avoid doing imports until\n",
      "/opt/miniconda/lib/python2.7/site-packages/ipykernel_launcher.py:4: SettingWithCopyWarning: \n",
      "A value is trying to be set on a copy of a slice from a DataFrame.\n",
      "Try using .loc[row_indexer,col_indexer] = value instead\n",
      "\n",
      "See the caveats in the documentation: http://pandas.pydata.org/pandas-docs/stable/indexing.html#indexing-view-versus-copy\n",
      "  after removing the cwd from sys.path.\n"
     ]
    }
   ],
   "source": [
    "d = fake.loc[fake['type_label'].isin(type_label)]\n",
    "d['title'] = d['title'].str.replace('\\W', ' ')\n",
    "d['text'] =  d['text'].str.replace('\\W', ' ')\n",
    "d['thread_title'] =  d['thread_title'].str.replace('\\W', '')\n",
    "\n",
    "\n",
    "\n",
    "msk = np.random.rand(len(d)) < 0.8\n",
    "\n",
    "d_train = d[msk==True]\n",
    "d_test =  d[msk==False]\n",
    "\n",
    "d_train.to_csv('dataFake/fake_train.csv', sep=';', encoding='utf-8', header=False)\n",
    "d_test.to_csv('dataFake/fake_test.csv', sep=';', encoding='utf-8', header=False)\n",
    "print d_train.count()\n",
    "print d_test.count()"
   ]
  },
  {
   "cell_type": "markdown",
   "metadata": {},
   "source": [
    "## Creamos la funcion para la generacion del `input pipeline`"
   ]
  },
  {
   "cell_type": "code",
   "execution_count": 170,
   "metadata": {},
   "outputs": [
    {
     "name": "stdout",
     "output_type": "stream",
     "text": [
      "INFO:tensorflow:Downloading TF-Hub Module 'https://tfhub.dev/google/random-nnlm-en-dim128/1'.\n",
      "INFO:tensorflow:Downloaded TF-Hub Module 'https://tfhub.dev/google/random-nnlm-en-dim128/1'.\n",
      "INFO:tensorflow:Initialize variable input_layer/title_hub_module_embedding/module/embeddings/part_0:0 from checkpoint /tmp/tfhub_modules/05e7c2dc95ba922793ef7aaa3ec54c8a84974024/variables/variables with embeddings\n"
     ]
    },
    {
     "ename": "NotFoundError",
     "evalue": "Resource localhost/input_layer/title_hub_module_embedding/module/embeddings/part_0/N10tensorflow3VarE does not exist.\n\t [[Node: input_layer/title_hub_module_embedding/module_apply_default/embedding_lookup_sparse/embedding_lookup = ResourceGather[Tindices=DT_INT64, dtype=DT_FLOAT, validate_indices=true, _device=\"/job:localhost/replica:0/task:0/device:CPU:0\"](input_layer/title_hub_module_embedding/module/embeddings/part_0, input_layer/title_hub_module_embedding/module_apply_default/embedding_lookup_sparse/Unique)]]\n\nCaused by op u'input_layer/title_hub_module_embedding/module_apply_default/embedding_lookup_sparse/embedding_lookup', defined at:\n  File \"/opt/miniconda/lib/python2.7/runpy.py\", line 174, in _run_module_as_main\n    \"__main__\", fname, loader, pkg_name)\n  File \"/opt/miniconda/lib/python2.7/runpy.py\", line 72, in _run_code\n    exec code in run_globals\n  File \"/opt/miniconda/lib/python2.7/site-packages/ipykernel_launcher.py\", line 16, in <module>\n    app.launch_new_instance()\n  File \"/opt/miniconda/lib/python2.7/site-packages/traitlets/config/application.py\", line 658, in launch_instance\n    app.start()\n  File \"/opt/miniconda/lib/python2.7/site-packages/ipykernel/kernelapp.py\", line 486, in start\n    self.io_loop.start()\n  File \"/opt/miniconda/lib/python2.7/site-packages/tornado/ioloop.py\", line 1065, in start\n    handler_func(fd_obj, events)\n  File \"/opt/miniconda/lib/python2.7/site-packages/tornado/stack_context.py\", line 276, in null_wrapper\n    return fn(*args, **kwargs)\n  File \"/opt/miniconda/lib/python2.7/site-packages/zmq/eventloop/zmqstream.py\", line 450, in _handle_events\n    self._handle_recv()\n  File \"/opt/miniconda/lib/python2.7/site-packages/zmq/eventloop/zmqstream.py\", line 480, in _handle_recv\n    self._run_callback(callback, msg)\n  File \"/opt/miniconda/lib/python2.7/site-packages/zmq/eventloop/zmqstream.py\", line 432, in _run_callback\n    callback(*args, **kwargs)\n  File \"/opt/miniconda/lib/python2.7/site-packages/tornado/stack_context.py\", line 276, in null_wrapper\n    return fn(*args, **kwargs)\n  File \"/opt/miniconda/lib/python2.7/site-packages/ipykernel/kernelbase.py\", line 283, in dispatcher\n    return self.dispatch_shell(stream, msg)\n  File \"/opt/miniconda/lib/python2.7/site-packages/ipykernel/kernelbase.py\", line 233, in dispatch_shell\n    handler(stream, idents, msg)\n  File \"/opt/miniconda/lib/python2.7/site-packages/ipykernel/kernelbase.py\", line 399, in execute_request\n    user_expressions, allow_stdin)\n  File \"/opt/miniconda/lib/python2.7/site-packages/ipykernel/ipkernel.py\", line 208, in do_execute\n    res = shell.run_cell(code, store_history=store_history, silent=silent)\n  File \"/opt/miniconda/lib/python2.7/site-packages/ipykernel/zmqshell.py\", line 537, in run_cell\n    return super(ZMQInteractiveShell, self).run_cell(*args, **kwargs)\n  File \"/opt/miniconda/lib/python2.7/site-packages/IPython/core/interactiveshell.py\", line 2714, in run_cell\n    interactivity=interactivity, compiler=compiler, result=result)\n  File \"/opt/miniconda/lib/python2.7/site-packages/IPython/core/interactiveshell.py\", line 2818, in run_ast_nodes\n    if self.run_code(code, result):\n  File \"/opt/miniconda/lib/python2.7/site-packages/IPython/core/interactiveshell.py\", line 2878, in run_code\n    exec(code_obj, self.user_global_ns, self.user_ns)\n  File \"<ipython-input-170-8c8f301bd6e6>\", line 60, in <module>\n    features, label = make_data_iterator(\"dataFake/fake_train.csv\", repeat=1, batch_size=10, shuffle=False)\n  File \"<ipython-input-170-8c8f301bd6e6>\", line 52, in make_data_iterator\n    next_X = tf.feature_column.input_layer(features, features_defs)\n  File \"/opt/miniconda/lib/python2.7/site-packages/tensorflow/python/feature_column/feature_column.py\", line 277, in input_layer\n    trainable, cols_to_vars)\n  File \"/opt/miniconda/lib/python2.7/site-packages/tensorflow/python/feature_column/feature_column.py\", line 202, in _internal_input_layer\n    trainable=trainable)\n  File \"/opt/miniconda/lib/python2.7/site-packages/tensorflow_hub/feature_column.py\", line 156, in _get_dense_tensor\n    return m(text_batch)\n  File \"/opt/miniconda/lib/python2.7/site-packages/tensorflow_hub/module.py\", line 203, in __call__\n    name=name)\n  File \"/opt/miniconda/lib/python2.7/site-packages/tensorflow_hub/native_module.py\", line 447, in create_apply_graph\n    restore_collections_predicate=(lambda key: key in import_collections))\n  File \"/opt/miniconda/lib/python2.7/site-packages/tensorflow/python/training/saver.py\", line 1960, in import_meta_graph\n    **kwargs)\n  File \"/opt/miniconda/lib/python2.7/site-packages/tensorflow/python/framework/meta_graph.py\", line 744, in import_scoped_meta_graph\n    producer_op_list=producer_op_list)\n  File \"/opt/miniconda/lib/python2.7/site-packages/tensorflow/python/util/deprecation.py\", line 432, in new_func\n    return func(*args, **kwargs)\n  File \"/opt/miniconda/lib/python2.7/site-packages/tensorflow/python/framework/importer.py\", line 442, in import_graph_def\n    _ProcessNewOps(graph)\n  File \"/opt/miniconda/lib/python2.7/site-packages/tensorflow/python/framework/importer.py\", line 234, in _ProcessNewOps\n    for new_op in graph._add_new_tf_operations(compute_devices=False):  # pylint: disable=protected-access\n  File \"/opt/miniconda/lib/python2.7/site-packages/tensorflow/python/framework/ops.py\", line 3563, in _add_new_tf_operations\n    for c_op in c_api_util.new_tf_operations(self)\n  File \"/opt/miniconda/lib/python2.7/site-packages/tensorflow/python/framework/ops.py\", line 3450, in _create_op_from_tf_operation\n    ret = Operation(c_op, self)\n  File \"/opt/miniconda/lib/python2.7/site-packages/tensorflow/python/framework/ops.py\", line 1740, in __init__\n    self._traceback = self._graph._extract_stack()  # pylint: disable=protected-access\n\nNotFoundError (see above for traceback): Resource localhost/input_layer/title_hub_module_embedding/module/embeddings/part_0/N10tensorflow3VarE does not exist.\n\t [[Node: input_layer/title_hub_module_embedding/module_apply_default/embedding_lookup_sparse/embedding_lookup = ResourceGather[Tindices=DT_INT64, dtype=DT_FLOAT, validate_indices=true, _device=\"/job:localhost/replica:0/task:0/device:CPU:0\"](input_layer/title_hub_module_embedding/module/embeddings/part_0, input_layer/title_hub_module_embedding/module_apply_default/embedding_lookup_sparse/Unique)]]\n",
     "output_type": "error",
     "traceback": [
      "\u001b[0;31m\u001b[0m",
      "\u001b[0;31mNotFoundError\u001b[0mTraceback (most recent call last)",
      "\u001b[0;32m<ipython-input-170-8c8f301bd6e6>\u001b[0m in \u001b[0;36m<module>\u001b[0;34m()\u001b[0m\n\u001b[1;32m     62\u001b[0m \u001b[0;32mwith\u001b[0m \u001b[0mtf\u001b[0m\u001b[0;34m.\u001b[0m\u001b[0mSession\u001b[0m\u001b[0;34m(\u001b[0m\u001b[0;34m)\u001b[0m \u001b[0;32mas\u001b[0m \u001b[0msess\u001b[0m\u001b[0;34m:\u001b[0m\u001b[0;34m\u001b[0m\u001b[0m\n\u001b[1;32m     63\u001b[0m     \u001b[0mtf\u001b[0m\u001b[0;34m.\u001b[0m\u001b[0mtables_initializer\u001b[0m\u001b[0;34m(\u001b[0m\u001b[0;34m)\u001b[0m\u001b[0;34m.\u001b[0m\u001b[0mrun\u001b[0m\u001b[0;34m(\u001b[0m\u001b[0;34m)\u001b[0m\u001b[0;34m\u001b[0m\u001b[0m\n\u001b[0;32m---> 64\u001b[0;31m     \u001b[0mf\u001b[0m\u001b[0;34m,\u001b[0m\u001b[0ml\u001b[0m \u001b[0;34m=\u001b[0m \u001b[0msess\u001b[0m\u001b[0;34m.\u001b[0m\u001b[0mrun\u001b[0m\u001b[0;34m(\u001b[0m\u001b[0;34m[\u001b[0m\u001b[0mfeatures\u001b[0m\u001b[0;34m,\u001b[0m \u001b[0mlabel\u001b[0m\u001b[0;34m]\u001b[0m\u001b[0;34m)\u001b[0m\u001b[0;34m\u001b[0m\u001b[0m\n\u001b[0m\u001b[1;32m     65\u001b[0m \u001b[0;34m\u001b[0m\u001b[0m\n\u001b[1;32m     66\u001b[0m \u001b[0;34m\u001b[0m\u001b[0m\n",
      "\u001b[0;32m/opt/miniconda/lib/python2.7/site-packages/tensorflow/python/client/session.pyc\u001b[0m in \u001b[0;36mrun\u001b[0;34m(self, fetches, feed_dict, options, run_metadata)\u001b[0m\n\u001b[1;32m    898\u001b[0m     \u001b[0;32mtry\u001b[0m\u001b[0;34m:\u001b[0m\u001b[0;34m\u001b[0m\u001b[0m\n\u001b[1;32m    899\u001b[0m       result = self._run(None, fetches, feed_dict, options_ptr,\n\u001b[0;32m--> 900\u001b[0;31m                          run_metadata_ptr)\n\u001b[0m\u001b[1;32m    901\u001b[0m       \u001b[0;32mif\u001b[0m \u001b[0mrun_metadata\u001b[0m\u001b[0;34m:\u001b[0m\u001b[0;34m\u001b[0m\u001b[0m\n\u001b[1;32m    902\u001b[0m         \u001b[0mproto_data\u001b[0m \u001b[0;34m=\u001b[0m \u001b[0mtf_session\u001b[0m\u001b[0;34m.\u001b[0m\u001b[0mTF_GetBuffer\u001b[0m\u001b[0;34m(\u001b[0m\u001b[0mrun_metadata_ptr\u001b[0m\u001b[0;34m)\u001b[0m\u001b[0;34m\u001b[0m\u001b[0m\n",
      "\u001b[0;32m/opt/miniconda/lib/python2.7/site-packages/tensorflow/python/client/session.pyc\u001b[0m in \u001b[0;36m_run\u001b[0;34m(self, handle, fetches, feed_dict, options, run_metadata)\u001b[0m\n\u001b[1;32m   1133\u001b[0m     \u001b[0;32mif\u001b[0m \u001b[0mfinal_fetches\u001b[0m \u001b[0;32mor\u001b[0m \u001b[0mfinal_targets\u001b[0m \u001b[0;32mor\u001b[0m \u001b[0;34m(\u001b[0m\u001b[0mhandle\u001b[0m \u001b[0;32mand\u001b[0m \u001b[0mfeed_dict_tensor\u001b[0m\u001b[0;34m)\u001b[0m\u001b[0;34m:\u001b[0m\u001b[0;34m\u001b[0m\u001b[0m\n\u001b[1;32m   1134\u001b[0m       results = self._do_run(handle, final_targets, final_fetches,\n\u001b[0;32m-> 1135\u001b[0;31m                              feed_dict_tensor, options, run_metadata)\n\u001b[0m\u001b[1;32m   1136\u001b[0m     \u001b[0;32melse\u001b[0m\u001b[0;34m:\u001b[0m\u001b[0;34m\u001b[0m\u001b[0m\n\u001b[1;32m   1137\u001b[0m       \u001b[0mresults\u001b[0m \u001b[0;34m=\u001b[0m \u001b[0;34m[\u001b[0m\u001b[0;34m]\u001b[0m\u001b[0;34m\u001b[0m\u001b[0m\n",
      "\u001b[0;32m/opt/miniconda/lib/python2.7/site-packages/tensorflow/python/client/session.pyc\u001b[0m in \u001b[0;36m_do_run\u001b[0;34m(self, handle, target_list, fetch_list, feed_dict, options, run_metadata)\u001b[0m\n\u001b[1;32m   1314\u001b[0m     \u001b[0;32mif\u001b[0m \u001b[0mhandle\u001b[0m \u001b[0;32mis\u001b[0m \u001b[0mNone\u001b[0m\u001b[0;34m:\u001b[0m\u001b[0;34m\u001b[0m\u001b[0m\n\u001b[1;32m   1315\u001b[0m       return self._do_call(_run_fn, feeds, fetches, targets, options,\n\u001b[0;32m-> 1316\u001b[0;31m                            run_metadata)\n\u001b[0m\u001b[1;32m   1317\u001b[0m     \u001b[0;32melse\u001b[0m\u001b[0;34m:\u001b[0m\u001b[0;34m\u001b[0m\u001b[0m\n\u001b[1;32m   1318\u001b[0m       \u001b[0;32mreturn\u001b[0m \u001b[0mself\u001b[0m\u001b[0;34m.\u001b[0m\u001b[0m_do_call\u001b[0m\u001b[0;34m(\u001b[0m\u001b[0m_prun_fn\u001b[0m\u001b[0;34m,\u001b[0m \u001b[0mhandle\u001b[0m\u001b[0;34m,\u001b[0m \u001b[0mfeeds\u001b[0m\u001b[0;34m,\u001b[0m \u001b[0mfetches\u001b[0m\u001b[0;34m)\u001b[0m\u001b[0;34m\u001b[0m\u001b[0m\n",
      "\u001b[0;32m/opt/miniconda/lib/python2.7/site-packages/tensorflow/python/client/session.pyc\u001b[0m in \u001b[0;36m_do_call\u001b[0;34m(self, fn, *args)\u001b[0m\n\u001b[1;32m   1333\u001b[0m         \u001b[0;32mexcept\u001b[0m \u001b[0mKeyError\u001b[0m\u001b[0;34m:\u001b[0m\u001b[0;34m\u001b[0m\u001b[0m\n\u001b[1;32m   1334\u001b[0m           \u001b[0;32mpass\u001b[0m\u001b[0;34m\u001b[0m\u001b[0m\n\u001b[0;32m-> 1335\u001b[0;31m       \u001b[0;32mraise\u001b[0m \u001b[0mtype\u001b[0m\u001b[0;34m(\u001b[0m\u001b[0me\u001b[0m\u001b[0;34m)\u001b[0m\u001b[0;34m(\u001b[0m\u001b[0mnode_def\u001b[0m\u001b[0;34m,\u001b[0m \u001b[0mop\u001b[0m\u001b[0;34m,\u001b[0m \u001b[0mmessage\u001b[0m\u001b[0;34m)\u001b[0m\u001b[0;34m\u001b[0m\u001b[0m\n\u001b[0m\u001b[1;32m   1336\u001b[0m \u001b[0;34m\u001b[0m\u001b[0m\n\u001b[1;32m   1337\u001b[0m   \u001b[0;32mdef\u001b[0m \u001b[0m_extend_graph\u001b[0m\u001b[0;34m(\u001b[0m\u001b[0mself\u001b[0m\u001b[0;34m)\u001b[0m\u001b[0;34m:\u001b[0m\u001b[0;34m\u001b[0m\u001b[0m\n",
      "\u001b[0;31mNotFoundError\u001b[0m: Resource localhost/input_layer/title_hub_module_embedding/module/embeddings/part_0/N10tensorflow3VarE does not exist.\n\t [[Node: input_layer/title_hub_module_embedding/module_apply_default/embedding_lookup_sparse/embedding_lookup = ResourceGather[Tindices=DT_INT64, dtype=DT_FLOAT, validate_indices=true, _device=\"/job:localhost/replica:0/task:0/device:CPU:0\"](input_layer/title_hub_module_embedding/module/embeddings/part_0, input_layer/title_hub_module_embedding/module_apply_default/embedding_lookup_sparse/Unique)]]\n\nCaused by op u'input_layer/title_hub_module_embedding/module_apply_default/embedding_lookup_sparse/embedding_lookup', defined at:\n  File \"/opt/miniconda/lib/python2.7/runpy.py\", line 174, in _run_module_as_main\n    \"__main__\", fname, loader, pkg_name)\n  File \"/opt/miniconda/lib/python2.7/runpy.py\", line 72, in _run_code\n    exec code in run_globals\n  File \"/opt/miniconda/lib/python2.7/site-packages/ipykernel_launcher.py\", line 16, in <module>\n    app.launch_new_instance()\n  File \"/opt/miniconda/lib/python2.7/site-packages/traitlets/config/application.py\", line 658, in launch_instance\n    app.start()\n  File \"/opt/miniconda/lib/python2.7/site-packages/ipykernel/kernelapp.py\", line 486, in start\n    self.io_loop.start()\n  File \"/opt/miniconda/lib/python2.7/site-packages/tornado/ioloop.py\", line 1065, in start\n    handler_func(fd_obj, events)\n  File \"/opt/miniconda/lib/python2.7/site-packages/tornado/stack_context.py\", line 276, in null_wrapper\n    return fn(*args, **kwargs)\n  File \"/opt/miniconda/lib/python2.7/site-packages/zmq/eventloop/zmqstream.py\", line 450, in _handle_events\n    self._handle_recv()\n  File \"/opt/miniconda/lib/python2.7/site-packages/zmq/eventloop/zmqstream.py\", line 480, in _handle_recv\n    self._run_callback(callback, msg)\n  File \"/opt/miniconda/lib/python2.7/site-packages/zmq/eventloop/zmqstream.py\", line 432, in _run_callback\n    callback(*args, **kwargs)\n  File \"/opt/miniconda/lib/python2.7/site-packages/tornado/stack_context.py\", line 276, in null_wrapper\n    return fn(*args, **kwargs)\n  File \"/opt/miniconda/lib/python2.7/site-packages/ipykernel/kernelbase.py\", line 283, in dispatcher\n    return self.dispatch_shell(stream, msg)\n  File \"/opt/miniconda/lib/python2.7/site-packages/ipykernel/kernelbase.py\", line 233, in dispatch_shell\n    handler(stream, idents, msg)\n  File \"/opt/miniconda/lib/python2.7/site-packages/ipykernel/kernelbase.py\", line 399, in execute_request\n    user_expressions, allow_stdin)\n  File \"/opt/miniconda/lib/python2.7/site-packages/ipykernel/ipkernel.py\", line 208, in do_execute\n    res = shell.run_cell(code, store_history=store_history, silent=silent)\n  File \"/opt/miniconda/lib/python2.7/site-packages/ipykernel/zmqshell.py\", line 537, in run_cell\n    return super(ZMQInteractiveShell, self).run_cell(*args, **kwargs)\n  File \"/opt/miniconda/lib/python2.7/site-packages/IPython/core/interactiveshell.py\", line 2714, in run_cell\n    interactivity=interactivity, compiler=compiler, result=result)\n  File \"/opt/miniconda/lib/python2.7/site-packages/IPython/core/interactiveshell.py\", line 2818, in run_ast_nodes\n    if self.run_code(code, result):\n  File \"/opt/miniconda/lib/python2.7/site-packages/IPython/core/interactiveshell.py\", line 2878, in run_code\n    exec(code_obj, self.user_global_ns, self.user_ns)\n  File \"<ipython-input-170-8c8f301bd6e6>\", line 60, in <module>\n    features, label = make_data_iterator(\"dataFake/fake_train.csv\", repeat=1, batch_size=10, shuffle=False)\n  File \"<ipython-input-170-8c8f301bd6e6>\", line 52, in make_data_iterator\n    next_X = tf.feature_column.input_layer(features, features_defs)\n  File \"/opt/miniconda/lib/python2.7/site-packages/tensorflow/python/feature_column/feature_column.py\", line 277, in input_layer\n    trainable, cols_to_vars)\n  File \"/opt/miniconda/lib/python2.7/site-packages/tensorflow/python/feature_column/feature_column.py\", line 202, in _internal_input_layer\n    trainable=trainable)\n  File \"/opt/miniconda/lib/python2.7/site-packages/tensorflow_hub/feature_column.py\", line 156, in _get_dense_tensor\n    return m(text_batch)\n  File \"/opt/miniconda/lib/python2.7/site-packages/tensorflow_hub/module.py\", line 203, in __call__\n    name=name)\n  File \"/opt/miniconda/lib/python2.7/site-packages/tensorflow_hub/native_module.py\", line 447, in create_apply_graph\n    restore_collections_predicate=(lambda key: key in import_collections))\n  File \"/opt/miniconda/lib/python2.7/site-packages/tensorflow/python/training/saver.py\", line 1960, in import_meta_graph\n    **kwargs)\n  File \"/opt/miniconda/lib/python2.7/site-packages/tensorflow/python/framework/meta_graph.py\", line 744, in import_scoped_meta_graph\n    producer_op_list=producer_op_list)\n  File \"/opt/miniconda/lib/python2.7/site-packages/tensorflow/python/util/deprecation.py\", line 432, in new_func\n    return func(*args, **kwargs)\n  File \"/opt/miniconda/lib/python2.7/site-packages/tensorflow/python/framework/importer.py\", line 442, in import_graph_def\n    _ProcessNewOps(graph)\n  File \"/opt/miniconda/lib/python2.7/site-packages/tensorflow/python/framework/importer.py\", line 234, in _ProcessNewOps\n    for new_op in graph._add_new_tf_operations(compute_devices=False):  # pylint: disable=protected-access\n  File \"/opt/miniconda/lib/python2.7/site-packages/tensorflow/python/framework/ops.py\", line 3563, in _add_new_tf_operations\n    for c_op in c_api_util.new_tf_operations(self)\n  File \"/opt/miniconda/lib/python2.7/site-packages/tensorflow/python/framework/ops.py\", line 3450, in _create_op_from_tf_operation\n    ret = Operation(c_op, self)\n  File \"/opt/miniconda/lib/python2.7/site-packages/tensorflow/python/framework/ops.py\", line 1740, in __init__\n    self._traceback = self._graph._extract_stack()  # pylint: disable=protected-access\n\nNotFoundError (see above for traceback): Resource localhost/input_layer/title_hub_module_embedding/module/embeddings/part_0/N10tensorflow3VarE does not exist.\n\t [[Node: input_layer/title_hub_module_embedding/module_apply_default/embedding_lookup_sparse/embedding_lookup = ResourceGather[Tindices=DT_INT64, dtype=DT_FLOAT, validate_indices=true, _device=\"/job:localhost/replica:0/task:0/device:CPU:0\"](input_layer/title_hub_module_embedding/module/embeddings/part_0, input_layer/title_hub_module_embedding/module_apply_default/embedding_lookup_sparse/Unique)]]\n"
     ]
    }
   ],
   "source": [
    "#occupations = list(np.unique(d.occupation))\n",
    "type_label =  ['bias','conspiracy','hate','state','junksci','satire','fake']\n",
    "CSV_COLUMNS  = ['pd_rowid','uuid','ord_in_thread','author','published','title','text','language','crawled','site_url','country','domain_rank','thread_title','spam_score','main_img_url','replies_count','participants_count','likes','comments','shares','type_label']\n",
    "#CSV_DEFAULTS = [[''],[0],[''],[''],[''],[''],[''],[''],[''],[''],[0],[''],[-1],[''],[-1],[-1],[-1],[-1],[-1],['']]\n",
    "CSV_DEFAULTS = [[0],[''],[''],[''],[''],[''],[''],[''],[''],[''],[''],[''],[''],[''],[''],[''],[''],[''],[''],[''],['']]\n",
    "\n",
    "\n",
    "\n",
    "def parse_csv(rows_string_tensor, use_features):\n",
    "    columns = tf.decode_csv(rows_string_tensor, record_defaults=CSV_DEFAULTS, field_delim=\";\")\n",
    "    features = dict(zip(CSV_COLUMNS, columns))\n",
    "        \n",
    "    label = features.pop(\"type_label\")\n",
    "    \n",
    "    return {k:v for k,v in features.iteritems() if k in use_features}, label\n",
    "\n",
    "\n",
    "\n",
    "def get_dataset(filename, repeat, batch_size, shuffle):\n",
    "    use_features  = ['title','type_label']\n",
    "    \n",
    "    dataset = tf.data.TextLineDataset(filename)\n",
    "    dataset = dataset.repeat(repeat)\n",
    "    if shuffle:\n",
    "        dataset = dataset.shuffle(buffer_size=300)\n",
    "    dataset = dataset.map(lambda x: parse_csv(x, use_features))    \n",
    "    dataset = dataset.batch(batch_size)\n",
    "    return dataset\n",
    "\n",
    "\n",
    "\n",
    "def get_features_defs():\n",
    "    title = hub.text_embedding_column(\n",
    "        key='title', \n",
    "        module_spec='https://tfhub.dev/google/random-nnlm-en-dim128/1')\n",
    "        #module_spec=\"https://tfhub.dev/google/nnlm-en-dim128/1\")\n",
    "    \n",
    "    return [title] \n",
    "\n",
    "def make_data_iterator(filename, repeat, batch_size, shuffle=True):\n",
    "    \n",
    "    dataset = get_dataset(filename, repeat, batch_size, shuffle)\n",
    "    features_defs = get_features_defs()\n",
    "    \n",
    "    features, label = dataset.make_one_shot_iterator().get_next()\n",
    "    \n",
    "    next_X = tf.feature_column.input_layer(features, features_defs)\n",
    "    next_y = label\n",
    "    \n",
    "    return next_X, next_y\n",
    "\n",
    "\n",
    "tf.reset_default_graph()\n",
    "\n",
    "features, label = make_data_iterator(\"dataFake/fake_train.csv\", repeat=1, batch_size=10, shuffle=False)\n",
    "\n",
    "with tf.Session() as sess:\n",
    "    tf.tables_initializer().run()\n",
    "    f,l = sess.run([features, label])   \n",
    "\n",
    "\n"
   ]
  },
  {
   "cell_type": "markdown",
   "metadata": {},
   "source": [
    "### Prueba de parse_csv"
   ]
  },
  {
   "cell_type": "code",
   "execution_count": 156,
   "metadata": {},
   "outputs": [
    {
     "name": "stdout",
     "output_type": "stream",
     "text": [
      "({'title': array(['Muslims BUSTED  They Stole Millions In Gov   t Benefits',\n",
      "       'Re  Why Did Attorney General Loretta Lynch Plead The Fifth '],\n",
      "      dtype=object)}, array(['bias', 'bias'], dtype=object))\n",
      "({'title': array(['BREAKING  Weiner Cooperating With FBI On Hillary Email Investigation',\n",
      "       'PIN DROP SPEECH BY FATHER OF DAUGHTER Kidnapped And Killed By ISIS   I have voted for Donald J  Trump      100percentfedUp com'],\n",
      "      dtype=object)}, array(['bias', 'bias'], dtype=object))\n"
     ]
    }
   ],
   "source": [
    "dataset = tf.data.TextLineDataset(\"dataFake/fake_train.csv\")\n",
    "dataset = dataset.batch(2)\n",
    "use_features  = ['title','type_label']\n",
    "dataset = dataset.map(lambda x: parse_csv(x, use_features))     \n",
    "features = dataset.make_one_shot_iterator().get_next()\n",
    "with tf.Session() as sess:\n",
    "    print sess.run(features)\n",
    "    print sess.run(features)"
   ]
  },
  {
   "cell_type": "markdown",
   "metadata": {},
   "source": [
    "### Prueba de la carga del dataset "
   ]
  },
  {
   "cell_type": "code",
   "execution_count": 142,
   "metadata": {
    "scrolled": true
   },
   "outputs": [
    {
     "name": "stdout",
     "output_type": "stream",
     "text": [
      "['1;2bdc29d12605ef9cf3f09f9875040a7113be5d5b;0;reasoning with facts;2016-10-29T08:47:11.259+03:00;Re: Why Did Attorney General Loretta Lynch Plead The Fifth?;\"Why Did Attorney General Loretta Lynch Plead The Fifth? Barracuda Brigade 2016-10-28 Print The administration is blocking congressional probe into cash payments to Iran. Of course she needs to plead the 5th. She either can\\xe2\\x80\\x99t recall, refuses to answer, or just plain deflects the question. Straight up corruption at its finest! '\n",
      " '100percentfedUp.com ; Talk about covering your ass! Loretta Lynch did just that when she plead the Fifth to avoid incriminating herself over payments to Iran\\xe2\\x80\\xa6Corrupt to the core! Attorney General Loretta Lynch is declining to comply with an investigation by leading members of Congress about the Obama administration\\xe2\\x80\\x99s secret efforts to send Iran $1.7 billion in cash earlier this year, prompting accusations that Lynch has \\xe2\\x80\\x9cpleaded the Fifth\\xe2\\x80\\x9d Amendment to avoid incriminating herself over these payments, according to lawmakers and communications exclusively obtained by the Washington Free Beacon. '\n",
      " 'Sen. Marco Rubio (R., Fla.) and Rep. Mike Pompeo (R., Kan.) initially presented Lynch in October with a series of questions about how the cash payment to Iran was approved and delivered. '\n",
      " 'In an Oct. 24 response, Assistant Attorney General Peter Kadzik responded on Lynch\\xe2\\x80\\x99s behalf, refusing to answer the questions and informing the lawmakers that they are barred from publicly disclosing any details about the cash payment, which was bound up in a ransom deal aimed at freeing several American hostages from Iran. '\n",
      " 'The response from the attorney general\\xe2\\x80\\x99s office is \\xe2\\x80\\x9cunacceptable\\xe2\\x80\\x9d and provides evidence that Lynch has chosen to \\xe2\\x80\\x9cessentially plead the fifth and refuse to respond to inquiries regarding [her]role in providing cash to the world\\xe2\\x80\\x99s foremost state sponsor of terrorism,\\xe2\\x80\\x9d Rubio and Pompeo wrote on Friday in a follow-up letter to Lynch. More Related\";english;2016-10-29T08:47:11.259+03:00;100percentfedup.com;US;25689.0;Re: Why Did Attorney General Loretta Lynch Plead The Fifth?;0.0;http://bb4sp.com/wp-content/uploads/2016/10/Fullscreen-capture-10282016-102616-PM.bmp.jpg;0;1;0;0;0;bias'\n",
      " '3;7cf7c15731ac2a116dd7f629bd57ea468ed70284;0;Fed Up;2016-11-01T05:22:00.000+02:00;\"PIN DROP SPEECH BY FATHER OF DAUGHTER Kidnapped And Killed By ISIS: \"\"I have voted for Donald J. Trump!\"\" \\xc2\\xbb 100percentfedUp.com\";Email Kayla Mueller was a prisoner and tortured by ISIS while no chance of release\\xe2\\x80\\xa6a horrific story. Her father gave a pin drop speech that was so heartfelt you want to give him a hug. Carl Mueller believes Donald Trump will be a great president\\xe2\\x80\\xa6Epic speech! 9.0K shares ;english;2016-11-01T15:46:26.304+02:00;100percentfedup.com;US;25689.0;\"PIN DROP SPEECH BY FATHER OF DAUGHTER Kidnapped And Killed By ISIS: \"\"I have voted for Donald J. Trump!\"\" \\xc2\\xbb 100percentfedUp.com\";0.068;http://100percentfedup.com/wp-content/uploads/2016/10/kayla.jpg;0;0;0;0;0;bias'\n",
      " '4;0206b54719c7e241ffe0ad4315b808290dbe6c0f;0;Fed Up;2016-11-01T21:56:00.000+02:00;FANTASTIC! TRUMP\\'S 7 POINT PLAN To Reform Healthcare Begins With A Bombshell! \\xc2\\xbb 100percentfedUp.com;\"Email HEALTHCARE REFORM TO MAKE AMERICA GREAT AGAIN '\n",
      " 'Since March of 2010, the American people have had to suffer under the incredible economic burden of the Affordable Care Act\\xe2\\x80\\x94Obamacare. This legislation, passed by totally partisan votes in the House and Senate and signed into law by the most divisive and partisan President in American history, has tragically but predictably resulted in runaway costs, websites that don\\xe2\\x80\\x99t work, greater rationing of care, higher premiums, less competition and fewer choices. Obamacare has raised the economic uncertainty of every single person residing in this country. As it appears Obamacare is certain to collapse of its own weight, the damage done by the Democrats and President Obama, and abetted by the Supreme Court, will be difficult to repair unless the next President and a Republican congress lead the effort to bring much-needed free market reforms to the healthcare industry. '\n",
      " 'Congress must act. Our elected representatives in the House and Senate must: '\n",
      " '1. Completely repeal Obamacare. Our elected representatives must eliminate the individual mandate. No person should be required to buy insurance unless he or she wants to. ']\n"
     ]
    }
   ],
   "source": [
    "dataset = tf.data.TextLineDataset(\"dataFake/fake_train.csv\")\n",
    "dataset = dataset.batch(10)\n",
    "features = dataset.make_one_shot_iterator().get_next()\n",
    "with tf.Session() as sess:\n",
    "    print sess.run(features)\n"
   ]
  }
 ],
 "metadata": {
  "kernelspec": {
   "display_name": "Python 2",
   "language": "python",
   "name": "python2"
  },
  "language_info": {
   "codemirror_mode": {
    "name": "ipython",
    "version": 2
   },
   "file_extension": ".py",
   "mimetype": "text/x-python",
   "name": "python",
   "nbconvert_exporter": "python",
   "pygments_lexer": "ipython2",
   "version": "2.7.14"
  }
 },
 "nbformat": 4,
 "nbformat_minor": 2
}
