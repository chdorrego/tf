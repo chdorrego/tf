{
 "cells": [
  {
   "cell_type": "markdown",
   "metadata": {},
   "source": [
    "# Desarrollo de Prueba - Ingeniería de datos \n",
    "### Christian Orrego"
   ]
  },
  {
   "cell_type": "code",
   "execution_count": 1,
   "metadata": {},
   "outputs": [],
   "source": [
    "import pandas as pd\n",
    "import math"
   ]
  },
  {
   "cell_type": "markdown",
   "metadata": {},
   "source": [
    "### Carga de datos"
   ]
  },
  {
   "cell_type": "code",
   "execution_count": 2,
   "metadata": {},
   "outputs": [],
   "source": [
    "df_barrios  = pd.read_csv(\"D:\\Download\\Prueba Tecnica\\exa_trx_clientes\\exa_barrios_cali.csv\",sep=',')\n",
    "df_dispositivos =  pd.read_csv(\"D:\\Download\\Prueba Tecnica\\exa_trx_clientes\\exa_dispositivos_cali.csv\",sep=',')\n",
    "df_trx_cli =   pd.read_csv(\"D:\\Download\\Prueba Tecnica\\exa_trx_clientes\\exa_trx_clientes.csv\",sep=',')"
   ]
  },
  {
   "cell_type": "code",
   "execution_count": 3,
   "metadata": {},
   "outputs": [
    {
     "data": {
      "text/plain": [
       "codigo    337\n",
       "nombre    337\n",
       "dtype: int64"
      ]
     },
     "execution_count": 3,
     "metadata": {},
     "output_type": "execute_result"
    }
   ],
   "source": [
    "#Exploracion inicial de cantidad de registros y estructura\n",
    "#df_barrios.head()\n",
    "#df_dispositivos.head()\n",
    "#df_trx_cli.head()\n",
    "df_barrios.count()\n",
    "#df_dispositivos.count()\n",
    "#df_trx_cli.count()"
   ]
  },
  {
   "cell_type": "code",
   "execution_count": 4,
   "metadata": {},
   "outputs": [],
   "source": [
    "#Renombrar columnas para permitir el merge\n",
    "df_barrios.rename(columns={'codigo':'id_barrio'},inplace=True)\n",
    "df_dispositivos.rename(columns = {'codigo':'cod_dispositivo','tipo':'canal'},inplace=True)"
   ]
  },
  {
   "cell_type": "markdown",
   "metadata": {},
   "source": [
    "## Ejercicios a"
   ]
  },
  {
   "cell_type": "code",
   "execution_count": 5,
   "metadata": {},
   "outputs": [
    {
     "data": {
      "text/plain": [
       "4739"
      ]
     },
     "execution_count": 5,
     "metadata": {},
     "output_type": "execute_result"
    }
   ],
   "source": [
    "# \n",
    "a = df_trx_cli.merge(df_dispositivos,on=['cod_dispositivo','canal']).groupby(['num_doc','tipo_doc']).id_barrio.nunique()\n",
    "a =  a[a>=3]\n",
    "a.count() # Se valida la cantidad de registros contra el SQL\n",
    "#a.to_csv(\"D:\\Download\\Prueba Tecnica\\exa_trx_clientes\\prog_ej_a.csv\")"
   ]
  },
  {
   "cell_type": "markdown",
   "metadata": {},
   "source": [
    "## Ejercicio b"
   ]
  },
  {
   "cell_type": "code",
   "execution_count": 6,
   "metadata": {},
   "outputs": [],
   "source": [
    "#combinar trx cli con dispositivos\n",
    "b =  df_trx_cli.merge(df_dispositivos,on=['cod_dispositivo','canal'])\n",
    "\n",
    "# numero de transacciones por canal y cliente\n",
    "b_sum = b.groupby(['num_doc','tipo_doc','canal'])[\"num_trx\"].sum()\n",
    "\n",
    "# numero de transaccionesp por cliente\n",
    "tot_trx = b.groupby(['num_doc','tipo_doc'])[\"num_trx\"].sum()\n",
    "\n",
    "#combinacion de total y num trx por canal\n",
    "com =  b_sum.to_frame().reset_index()\n",
    "com = com.merge(tot_trx.to_frame(),on=['num_doc','tipo_doc'])\n",
    "com.rename(columns={'num_trx_y':'tot_num_trx'},inplace=True)\n",
    "com[\"porj\"] = com[\"num_trx_x\"]/com[\"tot_num_trx\"]\n",
    "com.sort_values(by=['num_doc','tipo_doc','porj'],ascending=[True,True,False],inplace=True)\n",
    "#com\n",
    "#com.to_csv(\"D:/Download/Prueba Tecnica/temp.csv\")\n",
    "\n",
    "canal_usados= []\n",
    "client=''\n",
    "por_tot = 0\n",
    "\n",
    "#El daframe se recorre de forma ordenada y son seleccionados los canales por cliente hasta que el porcentaje total sea al menos a 0.51\n",
    "for index, fila in com.iterrows():\n",
    "    #print(fila)\n",
    "    id_cli = str(fila['num_doc'])+str(fila['tipo_doc'])\n",
    "    if client != id_cli:\n",
    "        client = id_cli\n",
    "        por_tot = fila['porj']\n",
    "        canal_usados.append([fila['num_doc'],fila['tipo_doc'],fila['canal'],fila['porj']])\n",
    "        #print([fila['num_doc'],fila['tipo_doc'],fila['canal'],fila['porj'],por_tot],)\n",
    "\n",
    "    else:\n",
    "        if por_tot < 0.51:\n",
    "            canal_usados.append([fila['num_doc'],fila['tipo_doc'],fila['canal'],fila['porj']])\n",
    "            #print([fila['num_doc'],fila['tipo_doc'],fila['canal'],fila['porj'],por_tot],)\n",
    "        por_tot = por_tot +  fila['porj']\n",
    "    #print(por_tot)\n",
    "    \n",
    "resultado = pd.DataFrame(canal_usados,columns=['num_doc','tipo_doc','canal','porj'])\n",
    "#resultado\n",
    "#resultado.to_csv(\"D:/Download/Prueba Tecnica/ej_d_python.csv\")"
   ]
  },
  {
   "cell_type": "code",
   "execution_count": 7,
   "metadata": {},
   "outputs": [
    {
     "data": {
      "text/html": [
       "<div>\n",
       "<style scoped>\n",
       "    .dataframe tbody tr th:only-of-type {\n",
       "        vertical-align: middle;\n",
       "    }\n",
       "\n",
       "    .dataframe tbody tr th {\n",
       "        vertical-align: top;\n",
       "    }\n",
       "\n",
       "    .dataframe thead th {\n",
       "        text-align: right;\n",
       "    }\n",
       "</style>\n",
       "<table border=\"1\" class=\"dataframe\">\n",
       "  <thead>\n",
       "    <tr style=\"text-align: right;\">\n",
       "      <th></th>\n",
       "      <th>num_doc</th>\n",
       "      <th>tipo_doc</th>\n",
       "      <th>canal</th>\n",
       "      <th>porj</th>\n",
       "    </tr>\n",
       "  </thead>\n",
       "  <tbody>\n",
       "    <tr>\n",
       "      <th>6173</th>\n",
       "      <td>1004793671201168182</td>\n",
       "      <td>1</td>\n",
       "      <td>DISPENSADOR</td>\n",
       "      <td>0.705882</td>\n",
       "    </tr>\n",
       "  </tbody>\n",
       "</table>\n",
       "</div>"
      ],
      "text/plain": [
       "                  num_doc  tipo_doc        canal      porj\n",
       "6173  1004793671201168182         1  DISPENSADOR  0.705882"
      ]
     },
     "execution_count": 7,
     "metadata": {},
     "output_type": "execute_result"
    }
   ],
   "source": [
    "#test\n",
    "resultado[resultado[\"num_doc\"]==1004793671201168182]"
   ]
  },
  {
   "cell_type": "markdown",
   "metadata": {},
   "source": [
    "## Ejercicio c"
   ]
  },
  {
   "cell_type": "code",
   "execution_count": 8,
   "metadata": {},
   "outputs": [
    {
     "data": {
      "text/plain": [
       "id_barrio  nombre                             \n",
       "737998832  San Pedro                              2101\n",
       "737998251  San Vicente                            1888\n",
       "738000407  Urbanización San Juaquín               1756\n",
       "737998194  Santa Mónica Residencial               1561\n",
       "737998252  Chipichape                             1555\n",
       "738000377  Unicentro Cali                         1498\n",
       "737998124  Urbanización Militar                   1404\n",
       "737999419  El Sena                                1341\n",
       "737998095  Unidad Residencial Santiago de Cali    1327\n",
       "737998087  El Cedro                               1256\n",
       "Name: id_cliente, dtype: int64"
      ]
     },
     "execution_count": 8,
     "metadata": {},
     "output_type": "execute_result"
    }
   ],
   "source": [
    "c = df_trx_cli.merge(df_dispositivos,on=['cod_dispositivo','canal']).merge(df_barrios,on=['id_barrio'])\n",
    "#crear id de cliente\n",
    "c[\"id_cliente\"] = c.apply(lambda x: str(x[\"num_doc\"]) + str(x[\"tipo_doc\"]), axis=1)\n",
    "c = c.groupby(['id_barrio','nombre']).id_cliente.nunique().nlargest(10)\n",
    "c\n",
    "#c.to_csv(\"D:\\Download\\Prueba Tecnica\\exa_trx_clientes\\prog_ej_c.csv\")"
   ]
  },
  {
   "cell_type": "markdown",
   "metadata": {},
   "source": [
    "## Ejercicios d"
   ]
  },
  {
   "cell_type": "code",
   "execution_count": 9,
   "metadata": {},
   "outputs": [],
   "source": [
    "#Funcion para calcular la distancia entre dos puntos\n",
    "def distancia(lat1,lon1,lat2,lon2):\n",
    "    dist = math.sqrt((lat1 - lat2)**2 + (lon1 - lon2)**2)  \n",
    "    return dist  "
   ]
  },
  {
   "cell_type": "code",
   "execution_count": 10,
   "metadata": {},
   "outputs": [
    {
     "data": {
      "text/plain": [
       "765625"
      ]
     },
     "execution_count": 10,
     "metadata": {},
     "output_type": "execute_result"
    }
   ],
   "source": [
    "#Se encuentra el id del barrio\n",
    "id_el_cedro = df_barrios.loc[df_barrios[\"nombre\"] == \"El Cedro\"].id_barrio.values[0]\n",
    "#filtra dispositivos del barrio\n",
    "d = df_dispositivos.loc[df_dispositivos[\"id_barrio\"] == id_el_cedro] \n",
    "comparacion = []\n",
    "#Es calculada la diferencia entre los puntos y se almacena en un arreglo\n",
    "for index_x, fila_x in d.iterrows():\n",
    "    \n",
    "    canal_x =  fila_x[\"canal\"]\n",
    "    cod_dispositivo_x = fila_x[\"cod_dispositivo\"]\n",
    "    \n",
    "    lat1 = fila_x[\"latitud\"]\n",
    "    lon1 = fila_x[\"longitud\"] \n",
    "    \n",
    "    for index_y, fila_y in d.iterrows():\n",
    "        \n",
    "        \n",
    "        canal_y =  fila_y[\"canal\"]\n",
    "        cod_dispositivo_y = fila_y[\"cod_dispositivo\"]\n",
    "        \n",
    "        lat2 = fila_y[\"latitud\"]\n",
    "        lon2 = fila_y[\"longitud\"] \n",
    "        \n",
    "        dif = distancia(lat1,lon1,lat2,lon2)\n",
    "        elemento = [canal_x,cod_dispositivo_x, lat1,lon1, canal_y,cod_dispositivo_y,lat2,lon2,dif]\n",
    "        \n",
    "        comparacion.append(elemento)\n",
    "        \n",
    "len(comparacion)"
   ]
  },
  {
   "cell_type": "code",
   "execution_count": 11,
   "metadata": {},
   "outputs": [
    {
     "data": {
      "text/html": [
       "<div>\n",
       "<style scoped>\n",
       "    .dataframe tbody tr th:only-of-type {\n",
       "        vertical-align: middle;\n",
       "    }\n",
       "\n",
       "    .dataframe tbody tr th {\n",
       "        vertical-align: top;\n",
       "    }\n",
       "\n",
       "    .dataframe thead th {\n",
       "        text-align: right;\n",
       "    }\n",
       "</style>\n",
       "<table border=\"1\" class=\"dataframe\">\n",
       "  <thead>\n",
       "    <tr style=\"text-align: right;\">\n",
       "      <th></th>\n",
       "      <th>canal_x</th>\n",
       "      <th>cod_dispositivo_x</th>\n",
       "      <th>lat1</th>\n",
       "      <th>lon1</th>\n",
       "      <th>canal_y</th>\n",
       "      <th>cod_dispositivo_y</th>\n",
       "      <th>lat2</th>\n",
       "      <th>lon2</th>\n",
       "      <th>dif</th>\n",
       "    </tr>\n",
       "  </thead>\n",
       "  <tbody>\n",
       "    <tr>\n",
       "      <th>369066</th>\n",
       "      <td>POS</td>\n",
       "      <td>12200283</td>\n",
       "      <td>3.436725</td>\n",
       "      <td>-76.538580</td>\n",
       "      <td>POS</td>\n",
       "      <td>4408003715</td>\n",
       "      <td>3.426447</td>\n",
       "      <td>-76.537534</td>\n",
       "      <td>0.010332</td>\n",
       "    </tr>\n",
       "    <tr>\n",
       "      <th>439941</th>\n",
       "      <td>POS</td>\n",
       "      <td>12626370</td>\n",
       "      <td>3.436725</td>\n",
       "      <td>-76.538580</td>\n",
       "      <td>POS</td>\n",
       "      <td>4408003715</td>\n",
       "      <td>3.426447</td>\n",
       "      <td>-76.537534</td>\n",
       "      <td>0.010332</td>\n",
       "    </tr>\n",
       "    <tr>\n",
       "      <th>509941</th>\n",
       "      <td>POS</td>\n",
       "      <td>13249230</td>\n",
       "      <td>3.436725</td>\n",
       "      <td>-76.538580</td>\n",
       "      <td>POS</td>\n",
       "      <td>4408003715</td>\n",
       "      <td>3.426447</td>\n",
       "      <td>-76.537534</td>\n",
       "      <td>0.010332</td>\n",
       "    </tr>\n",
       "    <tr>\n",
       "      <th>605046</th>\n",
       "      <td>POS</td>\n",
       "      <td>4408003715</td>\n",
       "      <td>3.426447</td>\n",
       "      <td>-76.537534</td>\n",
       "      <td>POS</td>\n",
       "      <td>12200283</td>\n",
       "      <td>3.436725</td>\n",
       "      <td>-76.538580</td>\n",
       "      <td>0.010332</td>\n",
       "    </tr>\n",
       "    <tr>\n",
       "      <th>605127</th>\n",
       "      <td>POS</td>\n",
       "      <td>4408003715</td>\n",
       "      <td>3.426447</td>\n",
       "      <td>-76.537534</td>\n",
       "      <td>POS</td>\n",
       "      <td>12626370</td>\n",
       "      <td>3.436725</td>\n",
       "      <td>-76.538580</td>\n",
       "      <td>0.010332</td>\n",
       "    </tr>\n",
       "  </tbody>\n",
       "</table>\n",
       "</div>"
      ],
      "text/plain": [
       "       canal_x  cod_dispositivo_x      lat1       lon1 canal_y  \\\n",
       "369066     POS           12200283  3.436725 -76.538580     POS   \n",
       "439941     POS           12626370  3.436725 -76.538580     POS   \n",
       "509941     POS           13249230  3.436725 -76.538580     POS   \n",
       "605046     POS         4408003715  3.426447 -76.537534     POS   \n",
       "605127     POS         4408003715  3.426447 -76.537534     POS   \n",
       "\n",
       "        cod_dispositivo_y      lat2       lon2       dif  \n",
       "369066         4408003715  3.426447 -76.537534  0.010332  \n",
       "439941         4408003715  3.426447 -76.537534  0.010332  \n",
       "509941         4408003715  3.426447 -76.537534  0.010332  \n",
       "605046           12200283  3.436725 -76.538580  0.010332  \n",
       "605127           12626370  3.436725 -76.538580  0.010332  "
      ]
     },
     "execution_count": 11,
     "metadata": {},
     "output_type": "execute_result"
    }
   ],
   "source": [
    "df_comp = pd.DataFrame(comparacion, columns=['canal_x','cod_dispositivo_x', 'lat1','lon1', 'canal_y','cod_dispositivo_y','lat2','lon2','dif'])\n",
    "#son seleccionados los 5 primeros registros para obtener los dispositivos más lejanos\n",
    "df_comp.nlargest(5,['dif'])"
   ]
  },
  {
   "cell_type": "code",
   "execution_count": null,
   "metadata": {},
   "outputs": [],
   "source": []
  }
 ],
 "metadata": {
  "kernelspec": {
   "display_name": "Python 3",
   "language": "python",
   "name": "python3"
  },
  "language_info": {
   "codemirror_mode": {
    "name": "ipython",
    "version": 3
   },
   "file_extension": ".py",
   "mimetype": "text/x-python",
   "name": "python",
   "nbconvert_exporter": "python",
   "pygments_lexer": "ipython3",
   "version": "3.6.5"
  }
 },
 "nbformat": 4,
 "nbformat_minor": 2
}
