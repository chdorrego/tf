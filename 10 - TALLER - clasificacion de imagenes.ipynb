{
 "cells": [
  {
   "cell_type": "markdown",
   "metadata": {},
   "source": [
    "sugerencias de clasificación binaria con imágenes de queries en google:\n",
    "    \n",
    "- plant/tree\n",
    "- nature/city\n",
    "- futbol/baloncesto\n",
    "- doritos/detodito\n",
    "- people with glasses/portrait\n",
    "\n",
    "experimentos:\n",
    "\n",
    "- imágenes de 64x64, 128x128\n",
    "- más imágenes\n",
    "- más capas (Dense/Convolucionales)\n",
    "- más dropout cuando veas overfitting\n",
    "\n",
    "Sube el notebook a tu drive y ejecútalo con Google Colab"
   ]
  },
  {
   "cell_type": "code",
   "execution_count": 1,
   "metadata": {},
   "outputs": [],
   "source": [
    "import tensorflow as tf\n",
    "from time import time\n",
    "import pandas as pd\n",
    "import matplotlib.pyplot as plt\n",
    "import numpy as np\n",
    "%matplotlib inline"
   ]
  },
  {
   "cell_type": "code",
   "execution_count": 2,
   "metadata": {},
   "outputs": [
    {
     "name": "stdout",
     "output_type": "stream",
     "text": [
      "Collecting google_images_download\n",
      "  Downloading https://files.pythonhosted.org/packages/58/b7/96ce66b09d25ddba3046c71a3a59c6ccba2a04481d65d500d8a50f627fbd/google_images_download-2.4.2.tar.gz\n",
      "Collecting selenium (from google_images_download)\n",
      "  Downloading https://files.pythonhosted.org/packages/b0/c9/52390baa8d6b65c3e3b89f522c3a0fcf58f2b4faf37893ef9d97cddde699/selenium-3.14.1-py2.py3-none-any.whl (902kB)\n",
      "\u001b[K    100% |████████████████████████████████| 911kB 304kB/s ta 0:00:01\n",
      "\u001b[?25hRequirement already satisfied: urllib3 in /opt/miniconda/lib/python2.7/site-packages (from selenium->google_images_download)\n",
      "Building wheels for collected packages: google-images-download\n",
      "  Running setup.py bdist_wheel for google-images-download ... \u001b[?25ldone\n",
      "\u001b[?25h  Stored in directory: /home/user/.cache/pip/wheels/aa/68/b6/913b8a4e2b20c028bf54d3765cd58297c6e7f16323f1827cbe\n",
      "Successfully built google-images-download\n",
      "Installing collected packages: selenium, google-images-download\n",
      "Successfully installed google-images-download-2.4.2 selenium-3.14.1\n",
      "\u001b[33mYou are using pip version 9.0.1, however version 18.0 is available.\n",
      "You should consider upgrading via the 'pip install --upgrade pip' command.\u001b[0m\n"
     ]
    }
   ],
   "source": [
    "!pip install google_images_download"
   ]
  },
  {
   "cell_type": "markdown",
   "metadata": {},
   "source": [
    "### Visualizar imagenes en mosaico"
   ]
  },
  {
   "cell_type": "code",
   "execution_count": 181,
   "metadata": {},
   "outputs": [],
   "source": [
    "def show_image_mosaic(imgs, labels, figsize=(12, 12), idxs=None):\n",
    "\n",
    "    plt.figure(figsize=figsize)\n",
    "    for labi,lab in [i for i in enumerate(np.unique(labels))]:\n",
    "        k = imgs[labels == lab]\n",
    "        _idxs = idxs[:10] if idxs is not None else np.random.permutation(len(k))[:10]\n",
    "        for i, idx in enumerate(_idxs):\n",
    "            if i == 0:\n",
    "                plt.subplot(10, 11, labi*11+1)\n",
    "                plt.title(\"LABEL %d\" % lab)\n",
    "                plt.plot(0, 0)\n",
    "                plt.axis(\"off\")\n",
    "\n",
    "            img = k[idx]\n",
    "            plt.subplot(10, 11, labi*11+i+2)\n",
    "            plt.imshow(img, cmap=plt.cm.Greys_r)\n",
    "            plt.axis(\"off\")"
   ]
  },
  {
   "cell_type": "markdown",
   "metadata": {},
   "source": [
    "# Descarga de imagenes de la web"
   ]
  },
  {
   "cell_type": "code",
   "execution_count": 182,
   "metadata": {},
   "outputs": [],
   "source": [
    "downloads = \"/tmp/downloads\"\n",
    "traintest_imgs = \"/tmp/imgs\"\n",
    "\n",
    "train_pct = .7"
   ]
  },
  {
   "cell_type": "code",
   "execution_count": 183,
   "metadata": {},
   "outputs": [],
   "source": [
    "cfg=\"\"\"\n",
    "{\n",
    "    \"Records\": [\n",
    "        {\n",
    "            \"keywords\": \"ship\",\n",
    "            \"format\": \"jpg\",\n",
    "            \"limit\": 50,\n",
    "            \"type\": \"photo\",\n",
    "            \"size\": \"medium\",\n",
    "            \"output_directory\": \"%s\"\n",
    "        },\n",
    "        {\n",
    "            \"keywords\": \"plane\",\n",
    "            \"format\": \"jpg\",\n",
    "            \"limit\": 50,\n",
    "            \"type\": \"photo\",\n",
    "            \"size\": \"medium\", \n",
    "            \"output_directory\": \"%s\"\n",
    "        }\n",
    "    ]\n",
    "}\n",
    "\"\"\"%(downloads, downloads)"
   ]
  },
  {
   "cell_type": "code",
   "execution_count": 184,
   "metadata": {},
   "outputs": [],
   "source": [
    "!rm -rf $downloads\n",
    "!mkdir $downloads\n",
    "with open(downloads+\"/cfg.txt\", \"w\") as f:\n",
    "    f.write(cfg)"
   ]
  },
  {
   "cell_type": "code",
   "execution_count": 185,
   "metadata": {},
   "outputs": [
    {
     "name": "stdout",
     "output_type": "stream",
     "text": [
      "\n",
      "Item no.: 1 --> Item name = ship\n",
      "Evaluating...\n",
      "Starting Download...\n",
      "Completed Image ====> 1. cruise-ship-cruiser-cruise-ship-144237.jpeg\n",
      "Completed Image ====> 2. hero_bliss_072618.jpg\n",
      "Completed Image ====> 3. norwegian-cruise.jpg\n",
      "Completed Image ====> 4. cruise-903908.jpg\n",
      "Completed Image ====> 5. cunard-new-ship-solo-966x442-v3.jpg\n",
      "Completed Image ====> 6. eight_col_kea_trader.jpg\n",
      "Completed Image ====> 7. 368f7911b809dd2cb6b5a70ca0a35a6c?width=1024.jpg\n",
      "Completed Image ====> 8. cabo-cruiseship-schedule.jpg\n",
      "Completed Image ====> 9. wind-spirit.jpg\n",
      "Completed Image ====> 10. ship-3455779__340.jpg\n",
      "Completed Image ====> 11. 536-large-65658fde58ab3c2b6e5132a39fae7cb9.jpg\n",
      "Completed Image ====> 12. silver-cloud.jpg\n",
      "Completed Image ====> 13. 1519003265163.jpg\n",
      "Completed Image ====> 14. amerigo-vespucci.jpg\n",
      "Completed Image ====> 15. 1200px-container_ship_reecon_whale_on_black_sea_near_constan%c8%9ba_romania.jpg\n",
      "Completed Image ====> 16. nsmv-1.jpg\n",
      "Completed Image ====> 17. cruise-news-royal-caribbean-ship-spectrum-of-the-seas-842276.jpg\n",
      "Completed Image ====> 18. thesymphonyo.jpg\n",
      "Completed Image ====> 19. 565332bc-e62c-42e9-aa4e-967093c60355.jpg\n",
      "Completed Image ====> 20. 180322154449-silver-spirit-cruise-ship-renovation-project16-super-169.jpg\n",
      "Completed Image ====> 21. 6fnetwyt-720.jpg\n",
      "Completed Image ====> 22. armatori-brandwall-oceania-cruises.jpg\n",
      "Completed Image ====> 23. 204908-679x450-cruiseship.jpg\n",
      "Completed Image ====> 24. 700x475_headerimage_breakaway.jpg\n",
      "Completed Image ====> 25. ship-210489_960_720.jpg\n",
      "Completed Image ====> 26. seaprincesscruisingthroughocean.jpg\n",
      "Completed Image ====> 27. andrew-christmas-ship-image-big-500x500.jpg\n",
      "Completed Image ====> 28. scrapping%203.jpg\n",
      "Completed Image ====> 29. company.jpg\n",
      "Completed Image ====> 30. 582227286acfdb1a008b4847-750-563.jpg\n",
      "Completed Image ====> 31. .jpg\n",
      "Completed Image ====> 32. 4a6546c600000578-0-image-a-1_1521628674617.jpg\n",
      "Completed Image ====> 33. latest?cb=20180212185823.jpg\n",
      "Completed Image ====> 34. 158775-004-dfe2356d.jpg\n",
      "Completed Image ====> 35. 1200px-ss1.jpg\n",
      "Completed Image ====> 36. newsengin.21742428_rgb_grand-classica--2-.jpg\n",
      "Completed Image ====> 37. meinschiff_1_merell%c3%a4_2000px-600x490.jpg\n",
      "Completed Image ====> 38. cruise-ships-1.jpg\n",
      "Completed Image ====> 39. 5a2993aba3b47486088b4667-750-375.jpg\n",
      "Completed Image ====> 40. .jpg\n",
      "Completed Image ====> 41. blue_tune-thumb-large-thumb-large.jpg\n",
      "Completed Image ====> 42. 700x475_mainimage_escape_110315.jpg\n",
      "Completed Image ====> 43. istock-cargo-ship.jpg\n",
      "Completed Image ====> 44. cru_drm_10_f179_newweboriginalcompressed.jpg\n",
      "Completed Image ====> 45. 920x920.jpg\n",
      "Completed Image ====> 46. 51735804?wid=488&hei=488&fmt=pjpeg.jpg\n",
      "Completed Image ====> 47. _103129973_gettyimages-498864731.jpg\n",
      "Completed Image ====> 48. cru_dis_17_f008weboriginalcompressed.jpg\n",
      "Completed Image ====> 49. slider-7.jpg\n",
      "Completed Image ====> 50. dutchreview_ship_rotterdam.jpg\n",
      "\n",
      "Errors: 0\n",
      "\n",
      "\n",
      "Everything downloaded!\n",
      "Total time taken: 32.1803319454 Seconds\n",
      "\n",
      "Item no.: 1 --> Item name = plane\n",
      "Evaluating...\n",
      "Starting Download...\n",
      "Completed Image ====> 1. white-plane-sky.jpg\n",
      "Completed Image ====> 2. plane-landing-cr-getty-sb10062851ai-001.jpg\n",
      "Completed Image ====> 3. 1516458735419.jpg\n",
      "Completed Image ====> 4. plane-painted-white-548527.jpg\n",
      "Completed Image ====> 5. electricplane.jpg\n",
      "Completed Image ====> 6. 9994176-3x2-700x467.jpg\n",
      "Completed Image ====> 7. aeroplane_660_031618051422.jpg\n",
      "Completed Image ====> 8. im-18464?width=620&aspect_ratio=1.5.jpg\n",
      "Completed Image ====> 9. 9d2a360ablog_cropped-580.jpg\n",
      "Completed Image ====> 10. hqdefault.jpg\n",
      "Completed Image ====> 11. lead_720_405.jpg\n",
      "Completed Image ====> 12. cessna-182-gty-er-180825_hpmain_12x5_992.jpg\n",
      "Completed Image ====> 13. 1520558819094.jpg\n",
      "Completed Image ====> 14. plane-flying-on-earth-atmosphere.jpg\n",
      "Completed Image ====> 15. 25047058339_5f4a4afce1_o_wide-8e9d3274abd9162a70a88de929c7ba6213d78283-s800-c85.jpg\n",
      "Completed Image ====> 16. plane-landing-feature.jpg\n",
      "Completed Image ====> 17. lead_720_405.jpg\n",
      "Completed Image ====> 18. plane-in-sunset-main__large.jpg\n",
      "Completed Image ====> 19. pexels-photo-358319.jpeg\n",
      "Completed Image ====> 20. ifilpb64_airbus-beluga-xl_625x300_20_july_18.jpg\n",
      "Completed Image ====> 21. http%3a%2f%2fcdn.cnn.com%2fcnnnext%2fdam%2fassets%2f160122120100-futuristic-plane-rendering-detachable-cabin.jpg\n",
      "Completed Image ====> 22. 44661799_303.jpg\n",
      "Completed Image ====> 23. 920x920.jpg\n",
      "Completed Image ====> 24. beluga_airbus_resize_md.jpg\n",
      "Completed Image ====> 25. 180811014742-stolen-plane-sea-tac-super-169.jpg\n",
      "Completed Image ====> 26. _102490736_6767b751-75e5-4674-a9b3-ebfab062d626.jpg\n",
      "Completed Image ====> 27. tmg-article_default_mobile.jpg\n",
      "Completed Image ====> 28. plane-681051.jpg\n",
      "Completed Image ====> 29. plane-crash.jpg\n",
      "Completed Image ====> 30. _103481832_049373589.jpg\n",
      "Completed Image ====> 31. red-wings-plane-engine-fire-video-1006852.jpg\n",
      "Completed Image ====> 32. 180811063035-seattle-plane-crash-super-169.jpg\n",
      "Completed Image ====> 33. an-alaska-airlines-bombardier-dash-8-q400-operated-by-news-photo-1015366496-1534167715.jpg\n",
      "Completed Image ====> 34. plane-react-1-637x397.jpg\n",
      "Completed Image ====> 35. sky-one-plane-bed-circu-magical-furniture-2.jpg\n",
      "Completed Image ====> 36. nasa-quesst-supersonic-plane-2017.jpg\n",
      "Completed Image ====> 37. https%3a%2f%2fblueprint-api-production.s3.amazonaws.com%2fuploads%2fcard%2fimage%2f814106%2f3b7e8b39-0f38-4e3e-a998-d6e8b96c2099.jpg\n",
      "Completed Image ====> 38. merlin_142039353_b94aca34-9451-49f1-b33c-d8c06a6edcd6-articlelarge.jpg\n",
      "Completed Image ====> 39. lockheed-martin-skunk-works-x-plane-for-nasa.jpg\n",
      "Completed Image ====> 40. 1535042236753.jpg\n",
      "Completed Image ====> 41. http%3a%2f%2fo.aolcdn.com%2fhss%2fstorage%2fmidas%2f742bcfcd051b487215e411386a74beaf%2f0%2fpassenger-plane-flies-in-stormy-clouds-picture-id518091218.jpg\n",
      "Completed Image ====> 42. plane-travel-why-do-you-have-to-keep-blinds-up-on-take-off-and-landing-136406892955202601-160620150302.jpg\n",
      "Completed Image ====> 43. 880x495_cmsv2_88df15b6-d69a-54e7-81eb-d63081b2c5e1-3265296.jpg\n",
      "Completed Image ====> 44. _81699931_ba_plane.jpg\n",
      "Completed Image ====> 45. 79d3b8ee81e9b43ad788c09cd1d49b7cf449730b.jpg\n",
      "Completed Image ====> 46. d3c608b3c53f4bc1833c60cf2b9eadfe.jpg\n",
      "Completed Image ====> 47. plane-flying-603258.jpg\n",
      "Completed Image ====> 48. belugaxl-firstflight-1_wide-d94f4e33360e328f7b0a6ac6f00aedf11eb939d2-s800-c85.jpg\n",
      "Completed Image ====> 49. a380drpeters.png\n",
      "Completed Image ====> 50. 0_video-of-plane-making-daring-landing-during-typhoon.jpg\n",
      "\n",
      "Errors: 0\n",
      "\n",
      "\n",
      "Everything downloaded!\n",
      "Total time taken: 19.2797129154 Seconds\n"
     ]
    }
   ],
   "source": [
    "!googleimagesdownload --config_file $downloads/cfg.txt"
   ]
  },
  {
   "cell_type": "markdown",
   "metadata": {},
   "source": [
    "# Se revisan las imagenes y se eliminan las defectuosas"
   ]
  },
  {
   "cell_type": "code",
   "execution_count": 186,
   "metadata": {},
   "outputs": [
    {
     "name": "stdout",
     "output_type": "stream",
     "text": [
      ". . . . . . . . . . . . . . . . \n",
      "removing /tmp/downloads/plane/20. ifilpb64_airbus-beluga-xl_625x300_20_july_18.jpg as cannot be read\n",
      "\n",
      ". . . . . . . . . . . . . . . \n",
      "removing /tmp/downloads/plane/36. nasa-quesst-supersonic-plane-2017.jpg as cannot be read\n",
      "\n",
      ". . . . . . \n",
      "removing /tmp/downloads/plane/1. white-plane-sky.jpg as cannot be read\n",
      "\n",
      ". . . . . . . . . . . . . . . . . . . . . . . . . . . . . . . . . . . . . . . . . . . . . . . . \n",
      "removing /tmp/downloads/ship/7. 368f7911b809dd2cb6b5a70ca0a35a6c?width=1024.jpg as cannot be read\n",
      "\n",
      ". . . . . . . . . . . . . . .\n"
     ]
    }
   ],
   "source": [
    "from skimage import io\n",
    "files = !find $downloads -type f\n",
    "for fname in files:\n",
    "    if fname!=downloads+\"/cfg.txt\":\n",
    "        print \".\",\n",
    "        try:\n",
    "            io.imread(fname)\n",
    "        except:\n",
    "            print \"\\nremoving\",fname,\"as cannot be read\\n\"\n",
    "            !rm '$fname'"
   ]
  },
  {
   "cell_type": "markdown",
   "metadata": {},
   "source": [
    "## Organizamos las imagenes en train y test"
   ]
  },
  {
   "cell_type": "code",
   "execution_count": 187,
   "metadata": {},
   "outputs": [
    {
     "name": "stdout",
     "output_type": "stream",
     "text": [
      "['\"plane\"', '\"ship\"']\n"
     ]
    }
   ],
   "source": [
    "classdirs = !find $downloads -type d\n",
    "classdirs = ['\"'+i.split(\"/\")[-1]+'\"' for i in classdirs if i!=downloads]\n",
    "print classdirs"
   ]
  },
  {
   "cell_type": "code",
   "execution_count": 188,
   "metadata": {},
   "outputs": [],
   "source": [
    "!rm -rf $traintest_imgs"
   ]
  },
  {
   "cell_type": "code",
   "execution_count": 189,
   "metadata": {},
   "outputs": [
    {
     "name": "stdout",
     "output_type": "stream",
     "text": [
      "\"plane\"\n",
      "    splitting files ...  copying files\n",
      "\"ship\"\n",
      "    splitting files ...  copying files\n"
     ]
    }
   ],
   "source": [
    "for classdir in classdirs:\n",
    "    print classdir\n",
    "    print \"    splitting files ... \",\n",
    "    files = !find $downloads/$classdir -type f\n",
    "    files = np.r_[files]\n",
    "    n_train = int(len(files)*train_pct)\n",
    "    files = np.random.permutation(files)\n",
    "    files_train = files[:n_train]\n",
    "    files_test  = files[n_train:]\n",
    "    !mkdir -p $traintest_imgs/train/$classdir\n",
    "    !mkdir -p $traintest_imgs/test/$classdir\n",
    "    print \"copying files\"\n",
    "    for f in files_train:\n",
    "        !cp '$f' $traintest_imgs/train/$classdir\n",
    "    for f in files_test:\n",
    "        !cp '$f' $traintest_imgs/test/$classdir"
   ]
  },
  {
   "cell_type": "markdown",
   "metadata": {},
   "source": [
    "### sanity check 1"
   ]
  },
  {
   "cell_type": "code",
   "execution_count": 190,
   "metadata": {},
   "outputs": [
    {
     "name": "stdout",
     "output_type": "stream",
     "text": [
      "\"plane\"\n",
      "       32 train images\n",
      "       15 test images\n",
      "\"ship\"\n",
      "       34 train images\n",
      "       15 test images\n"
     ]
    }
   ],
   "source": [
    "for classdir in classdirs:\n",
    "    print classdir\n",
    "    files = !find  $traintest_imgs/train/$classdir -type f\n",
    "    print \"      \",len(files), \"train images\"\n",
    "    files = !find  $traintest_imgs/test/$classdir -type f\n",
    "    print \"      \",len(files), \"test images\""
   ]
  },
  {
   "cell_type": "markdown",
   "metadata": {},
   "source": [
    "### sanity check 2\n",
    "\n",
    "see [ImageGenerator](https://keras.io/preprocessing/image/)"
   ]
  },
  {
   "cell_type": "code",
   "execution_count": 191,
   "metadata": {},
   "outputs": [],
   "source": [
    "from tensorflow.keras.preprocessing.image import ImageDataGenerator, array_to_img, img_to_array, load_img"
   ]
  },
  {
   "cell_type": "code",
   "execution_count": 192,
   "metadata": {},
   "outputs": [],
   "source": [
    "datagen = ImageDataGenerator(rescale=1./255, fill_mode='nearest')\n",
    "#datagen.fit() with zca_whitening = True to fit\n",
    "batch_size = 10\n",
    "img_size = 32\n",
    "train_generator_fn = lambda: datagen.flow_from_directory(\n",
    "        traintest_imgs+\"/train\",  # this is the target directory\n",
    "        target_size=(img_size, img_size),  # all images will be resized to 32x32\n",
    "        batch_size=batch_size,\n",
    "        interpolation = \"bilinear\",\n",
    "        class_mode='binary'\n",
    "        ) \n",
    "\n",
    "test_generator_fn = lambda: datagen.flow_from_directory(\n",
    "        traintest_imgs+\"/test\",  # this is the target directory\n",
    "        target_size=(img_size, img_size),  # all images will be resized to 32X32\n",
    "        batch_size=batch_size,\n",
    "        interpolation = \"bilinear\",\n",
    "        class_mode='binary'\n",
    "        ) "
   ]
  },
  {
   "cell_type": "code",
   "execution_count": 194,
   "metadata": {},
   "outputs": [
    {
     "name": "stdout",
     "output_type": "stream",
     "text": [
      "(10, 32, 32, 3)\n",
      "(10,)\n",
      "Found 66 images belonging to 2 classes.\n"
     ]
    },
    {
     "data": {
      "image/png": "[encoded data removed]",
      "text/plain": [
       "<matplotlib.figure.Figure at 0x7f150d0e27d0>"
      ]
     },
     "metadata": {},
     "output_type": "display_data"
    }
   ],
   "source": [
    "print imgs.shape\n",
    "print labels.shape\n",
    "for imgs,labels in train_generator_fn():\n",
    "    if np.random.random()>.5:\n",
    "        break\n",
    "        \n",
    "show_image_mosaic(imgs, labels)\n"
   ]
  },
  {
   "cell_type": "markdown",
   "metadata": {},
   "source": [
    "# Definimos el modelo -  Convolutional"
   ]
  },
  {
   "cell_type": "code",
   "execution_count": 202,
   "metadata": {},
   "outputs": [],
   "source": [
    "def get_conv_model(num_classes, img_size=32, compile=True):\n",
    "    tf.keras.backend.clear_session()\n",
    "    print \"using\",num_classes,\"classes\"\n",
    "    inputs = tf.keras.Input(shape=(img_size,img_size,3), name=\"input_1\")\n",
    "    layers = tf.keras.layers.Conv2D(6,(14,14), activation=\"relu\")(inputs)\n",
    "    layers = tf.keras.layers.MaxPooling2D(pool_size=(2, 2))(layers)\n",
    "    layers = tf.keras.layers.Conv2D(16,(3,3), activation=\"relu\")(inputs)\n",
    "    layers = tf.keras.layers.MaxPooling2D(pool_size=(2, 2))(layers)\n",
    "    layers = tf.keras.layers.Conv2D(2,(3,3), activation=\"relu\")(inputs)\n",
    "    layers = tf.keras.layers.MaxPooling2D(pool_size=(2, 2))(layers)\n",
    "\n",
    "    layers = tf.keras.layers.Flatten()(layers)\n",
    "    layers = tf.keras.layers.Dense(16, activation=tf.nn.relu)(layers)\n",
    "    layers = tf.keras.layers.Dropout(0.5)(layers)\n",
    "    predictions = tf.keras.layers.Dense(num_classes, activation=tf.nn.softmax, name=\"output_1\")(layers)\n",
    "    \n",
    "    model = tf.keras.Model(inputs = inputs, outputs=predictions)\n",
    "    if compile:\n",
    "        model.compile(optimizer='adam',\n",
    "                      loss='sparse_categorical_crossentropy',\n",
    "                      metrics=['accuracy'])\n",
    "    return model"
   ]
  },
  {
   "cell_type": "code",
   "execution_count": 203,
   "metadata": {},
   "outputs": [
    {
     "name": "stdout",
     "output_type": "stream",
     "text": [
      "using 2 classes\n",
      "Found 66 images belonging to 2 classes.\n",
      "Found 30 images belonging to 2 classes.\n",
      "Epoch 1/5\n",
      "100/100 [==============================] - 15s 155ms/step - loss: 0.6165 - acc: 0.6680 - val_loss: 0.5890 - val_acc: 0.7375\n",
      "Epoch 2/5\n",
      "100/100 [==============================] - 14s 142ms/step - loss: 0.3775 - acc: 0.8634 - val_loss: 0.5411 - val_acc: 0.7025\n",
      "Epoch 3/5\n",
      "100/100 [==============================] - 14s 140ms/step - loss: 0.2176 - acc: 0.9417 - val_loss: 0.6004 - val_acc: 0.6625\n",
      "Epoch 4/5\n",
      "100/100 [==============================] - 14s 137ms/step - loss: 0.1357 - acc: 0.9823 - val_loss: 0.6161 - val_acc: 0.6975\n",
      "Epoch 5/5\n",
      "100/100 [==============================] - 13s 133ms/step - loss: 0.0877 - acc: 0.9837 - val_loss: 0.6180 - val_acc: 0.8050\n"
     ]
    },
    {
     "data": {
      "text/plain": [
       "<tensorflow.python.keras.callbacks.History at 0x7f1506b25f10>"
      ]
     },
     "execution_count": 203,
     "metadata": {},
     "output_type": "execute_result"
    }
   ],
   "source": [
    "model = get_conv_model(2, img_size=img_size)\n",
    "\n",
    "model.fit_generator(\n",
    "        train_generator_fn(),\n",
    "        steps_per_epoch=1000 // batch_size,\n",
    "        epochs=5,\n",
    "        validation_data=test_generator_fn(),\n",
    "        validation_steps=400 // batch_size)"
   ]
  },
  {
   "cell_type": "markdown",
   "metadata": {},
   "source": [
    "### predictions"
   ]
  },
  {
   "cell_type": "code",
   "execution_count": 204,
   "metadata": {},
   "outputs": [],
   "source": [
    "def show_preds(x, preds):\n",
    "    for i  in np.random.permutation(range(len(preds)))[:4]:\n",
    "        plt.figure(figsize=(5,2.5))\n",
    "        plt.subplot(122)\n",
    "        plt.imshow(x[i])\n",
    "        plt.axis(\"off\")\n",
    "        plt.subplot(121)\n",
    "        plt.bar(np.arange(2), preds[i], color=\"blue\", alpha=.5, label=\"prediction\")\n",
    "        plt.bar(np.arange(2), np.eye(2,2)[int(y[i])], color=\"red\", alpha=0.7, label=\"label\")\n",
    "        plt.xticks(range(2), range(2), rotation=\"vertical\");\n",
    "        plt.xlim(-.5,1.5);\n",
    "        plt.legend(loc='upper center', bbox_to_anchor=(0.5, +1.35),ncol=5)\n"
   ]
  },
  {
   "cell_type": "code",
   "execution_count": 205,
   "metadata": {},
   "outputs": [
    {
     "name": "stdout",
     "output_type": "stream",
     "text": [
      "Found 30 images belonging to 2 classes.\n",
      "[[ 2.2660942 97.73391  ]\n",
      " [14.633923  85.36608  ]\n",
      " [45.856197  54.143803 ]\n",
      " [99.35059    0.6494076]\n",
      " [10.75753   89.24246  ]\n",
      " [29.069424  70.93057  ]\n",
      " [61.3188    38.681194 ]\n",
      " [91.04484    8.955168 ]\n",
      " [98.02288    1.9771246]\n",
      " [ 3.2934864 96.70651  ]]\n",
      "[1.         1.         1.         1.         0.99999994 1.\n",
      " 1.         1.         1.         0.99999994]\n"
     ]
    },
    {
     "data": {
      "image/png": "[encoded data removed]",
      "text/plain": [
       "<matplotlib.figure.Figure at 0x7f1505debd90>"
      ]
     },
     "metadata": {},
     "output_type": "display_data"
    },
    {
     "data": {
      "image/png": "[encoded data removed]",
      "text/plain": [
       "<matplotlib.figure.Figure at 0x7f1505999b90>"
      ]
     },
     "metadata": {},
     "output_type": "display_data"
    },
    {
     "data": {
      "image/png": "[encoded data removed]",
      "text/plain": [
       "<matplotlib.figure.Figure at 0x7f15058c7a50>"
      ]
     },
     "metadata": {},
     "output_type": "display_data"
    },
    {
     "data": {
      "image/png": "[encoded data removed]",
      "text/plain": [
       "<matplotlib.figure.Figure at 0x7f1505addfd0>"
      ]
     },
     "metadata": {},
     "output_type": "display_data"
    }
   ],
   "source": [
    "for x,y in test_generator_fn():\n",
    "    if np.random.random()>.7:\n",
    "        break\n",
    "        \n",
    "preds = model.predict(x)\n",
    "print preds*100\n",
    "print preds.sum(axis=1)\n",
    "show_preds(x, preds)"
   ]
  },
  {
   "cell_type": "code",
   "execution_count": null,
   "metadata": {},
   "outputs": [],
   "source": []
  }
 ],
 "metadata": {
  "kernelspec": {
   "display_name": "Python 2",
   "language": "python",
   "name": "python2"
  },
  "language_info": {
   "codemirror_mode": {
    "name": "ipython",
    "version": 2
   },
   "file_extension": ".py",
   "mimetype": "text/x-python",
   "name": "python",
   "nbconvert_exporter": "python",
   "pygments_lexer": "ipython2",
   "version": "2.7.14"
  }
 },
 "nbformat": 4,
 "nbformat_minor": 2
}
