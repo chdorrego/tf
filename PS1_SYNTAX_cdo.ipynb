{
 "cells": [
  {
   "cell_type": "markdown",
   "metadata": {},
   "source": [
    "# Sintaxis: ProblemSet\n",
    "\n"
   ]
  },
  {
   "cell_type": "markdown",
   "metadata": {},
   "source": [
    "## Problema 1\n",
    "\n",
    "Determine si un número `n` entero ingresado por el usuario es un palíndromo, es decir si puede leerse igual de izquierda a derecha o de derecha a izquierda. (Retorne `True` en caso afirmativo y `False` en caso contrario) \n",
    "\n",
    "\n",
    "### Ejemplo de ejecución\n",
    "\n",
    "```python\n",
    "\n",
    ">>> palindromo(n=3456543)\n",
    "True\n",
    "\n",
    ">>> palindromo(n=543)\n",
    "\n",
    "False\n",
    "\n",
    "```\n",
    "\n",
    "### Solución:"
   ]
  },
  {
   "cell_type": "code",
   "execution_count": 160,
   "metadata": {},
   "outputs": [
    {
     "name": "stdout",
     "output_type": "stream",
     "text": [
      "Overwriting utils/student_function/student_PS1_SYNTAX_1.py\n"
     ]
    }
   ],
   "source": [
    "%%writefile utils/student_function/student_PS1_SYNTAX_1.py\n",
    "\n",
    "## Ejercicio del estudiante\n",
    "\n",
    "def palindromo(n): # n debe ser un numero\n",
    "    \n",
    "    #tu codigo aqui\n",
    "    \n",
    "    x = ''\n",
    "    for v in str(n):\n",
    "        x = v + x\n",
    "    \n",
    "    r = x == str(n)\n",
    "    \n",
    "    return r # r debe ser un valor Booleano (True o False) \n",
    "   \n",
    "\n"
   ]
  },
  {
   "cell_type": "markdown",
   "metadata": {},
   "source": [
    "### Prueba manualmente tu respuesta"
   ]
  },
  {
   "cell_type": "code",
   "execution_count": 54,
   "metadata": {},
   "outputs": [
    {
     "data": {
      "text/plain": [
       "True"
      ]
     },
     "execution_count": 54,
     "metadata": {},
     "output_type": "execute_result"
    }
   ],
   "source": [
    "%run -i utils/student_function/student_PS1_SYNTAX_1.py\n",
    "palindromo(n=3456543)"
   ]
  },
  {
   "cell_type": "code",
   "execution_count": 55,
   "metadata": {},
   "outputs": [
    {
     "data": {
      "text/plain": [
       "False"
      ]
     },
     "execution_count": 55,
     "metadata": {},
     "output_type": "execute_result"
    }
   ],
   "source": [
    "palindromo(n=543)"
   ]
  },
  {
   "cell_type": "markdown",
   "metadata": {},
   "source": [
    "### Ejecuta el corrector automático: "
   ]
  },
  {
   "cell_type": "code",
   "execution_count": 170,
   "metadata": {},
   "outputs": [
    {
     "name": "stdout",
     "output_type": "stream",
     "text": [
      "\n",
      "** Felicitaciones **\n",
      "evaluation result 5.0 \n"
     ]
    }
   ],
   "source": [
    "!./run CHECK_SOLUTION PS1_SYNTAX_1"
   ]
  },
  {
   "cell_type": "code",
   "execution_count": 169,
   "metadata": {},
   "outputs": [
    {
     "name": "stdout",
     "output_type": "stream",
     "text": [
      "Collecting oauth2client==1.5.2\n",
      "  Downloading https://files.pythonhosted.org/packages/fc/41/974970101bde842f23031075bea7f6d051ed82b5fd806b6ef9cc7e983c01/oauth2client-1.5.2.tar.gz (56kB)\n",
      "\u001b[K    100% |████████████████████████████████| 61kB 361kB/s ta 0:00:01\n",
      "\u001b[?25hRequirement already satisfied: httplib2>=0.9.1 in /opt/miniconda/lib/python2.7/site-packages (from oauth2client==1.5.2)\n",
      "Requirement already satisfied: pyasn1>=0.1.7 in /opt/miniconda/lib/python2.7/site-packages (from oauth2client==1.5.2)\n",
      "Requirement already satisfied: pyasn1-modules>=0.0.5 in /opt/miniconda/lib/python2.7/site-packages (from oauth2client==1.5.2)\n",
      "Requirement already satisfied: rsa>=3.1.4 in /opt/miniconda/lib/python2.7/site-packages (from oauth2client==1.5.2)\n",
      "Requirement already satisfied: six>=1.6.1 in /opt/miniconda/lib/python2.7/site-packages (from oauth2client==1.5.2)\n",
      "Building wheels for collected packages: oauth2client\n",
      "  Running setup.py bdist_wheel for oauth2client ... \u001b[?25ldone\n",
      "\u001b[?25h  Stored in directory: /home/user/.cache/pip/wheels/7a/0b/de/3f8e939ae5f46f030eee5a16bd2dafde9e1e49ea1480b2f983\n",
      "Successfully built oauth2client\n",
      "Installing collected packages: oauth2client\n",
      "  Found existing installation: oauth2client 3.0.0\n",
      "    Uninstalling oauth2client-3.0.0:\n",
      "      Successfully uninstalled oauth2client-3.0.0\n",
      "Successfully installed oauth2client-1.5.2\n",
      "\u001b[33mYou are using pip version 9.0.1, however version 18.0 is available.\n",
      "You should consider upgrading via the 'pip install --upgrade pip' command.\u001b[0m\n"
     ]
    }
   ],
   "source": [
    "!pip install oauth2client==1.5.2"
   ]
  },
  {
   "cell_type": "markdown",
   "metadata": {},
   "source": [
    "## Problema 2\n",
    "\n",
    "En este ejercicio, su programa recibirá un monto entre 1 y 99 centavos de Dolar, Escriba un metodo que retorne en  una lista, cuantas monedas son necesarias para devolverle a alguien dicho valor, si únicamente se cuenta con monedas de 1, 10 y 25 centavos. La lista debe entregarse de la siguiente manera: \n",
    "\n",
    "    \n",
    "```python\n",
    "\n",
    "r = [n_1,n_10,n_25]\n",
    "\n",
    "```\n",
    "\n",
    " donde `n_1`, `n_10` y `n_25` son la cantidad de monedas de 1, 10 y 25 centavos respectivamente\n",
    "\n",
    "si el valor no está en el rango dado, debe retornarse ` r = None` \n",
    "\n",
    "\n",
    "### Ejemplo de ejecución\n",
    "\n",
    "```python\n",
    "\n",
    ">>> cambio(n=55)\n",
    "[5,0,2]\n",
    "\n",
    "\n",
    ">>> cambio(n=200)\n",
    "None\n",
    "\n",
    "\n",
    ">>> cambio(n=47)\n",
    "[2,2,1]\n",
    "\n",
    "```\n",
    "\n",
    "### Solución:"
   ]
  },
  {
   "cell_type": "code",
   "execution_count": 151,
   "metadata": {},
   "outputs": [
    {
     "name": "stdout",
     "output_type": "stream",
     "text": [
      "Overwriting utils/student_function/student_PS1_SYNTAX_2.py\n"
     ]
    }
   ],
   "source": [
    "%%writefile utils/student_function/student_PS1_SYNTAX_2.py\n",
    "## Ejercicio del estudiante\n",
    "\n",
    "def cambio(n):\n",
    "    #recuerde: r[0]== n_1, r[1]== n_10 y r[2]== n_25 \n",
    "    #si n>99 o n<1: use return None\n",
    "    \n",
    "    if n>99 or n <1: \n",
    "        return None\n",
    "    \n",
    "    rest = n\n",
    "    \n",
    "    n_25 = 0\n",
    "    n_10 = 0\n",
    "    n_1 = 0\n",
    "    \n",
    "    if rest >=25:\n",
    "        count = rest//25\n",
    "        n_25=count\n",
    "        rest=rest-25*count\n",
    "       \n",
    "    if rest >= 10:\n",
    "        count = rest//10\n",
    "        n_10=count\n",
    "        rest=rest-10*count\n",
    "        \n",
    "    if rest >= 1:\n",
    "        count = rest//1\n",
    "        n_1=count\n",
    "        rest=rest-1*count\n",
    "    \n",
    "    ## tu codigo aqui\n",
    "       \n",
    "    return [n_1,n_10, n_25] \n",
    "    "
   ]
  },
  {
   "cell_type": "code",
   "execution_count": 110,
   "metadata": {},
   "outputs": [
    {
     "data": {
      "text/plain": [
       "0"
      ]
     },
     "execution_count": 110,
     "metadata": {},
     "output_type": "execute_result"
    }
   ],
   "source": [
    "99%3"
   ]
  },
  {
   "cell_type": "markdown",
   "metadata": {},
   "source": [
    "### Prueba manualmente tu respuesta"
   ]
  },
  {
   "cell_type": "code",
   "execution_count": 149,
   "metadata": {},
   "outputs": [
    {
     "data": {
      "text/plain": [
       "[5, 0, 2]"
      ]
     },
     "execution_count": 149,
     "metadata": {},
     "output_type": "execute_result"
    }
   ],
   "source": [
    "%run -i utils/student_function/student_PS1_SYNTAX_2.py\n",
    "cambio(n=55)"
   ]
  },
  {
   "cell_type": "code",
   "execution_count": 153,
   "metadata": {},
   "outputs": [],
   "source": [
    "%run -i utils/student_function/student_PS1_SYNTAX_2.py\n",
    "cambio(n=200)  #retorna None, en jupyter, no imprime nada"
   ]
  },
  {
   "cell_type": "code",
   "execution_count": 154,
   "metadata": {},
   "outputs": [
    {
     "data": {
      "text/plain": [
       "[2, 2, 1]"
      ]
     },
     "execution_count": 154,
     "metadata": {},
     "output_type": "execute_result"
    }
   ],
   "source": [
    "cambio(n=47)"
   ]
  },
  {
   "cell_type": "markdown",
   "metadata": {},
   "source": [
    "### Ejecuta el corrector automático: "
   ]
  },
  {
   "cell_type": "code",
   "execution_count": 171,
   "metadata": {},
   "outputs": [
    {
     "name": "stdout",
     "output_type": "stream",
     "text": [
      "\n",
      "** Felicitaciones **\n",
      "evaluation result 5.0 \n"
     ]
    }
   ],
   "source": [
    "!./run CHECK_SOLUTION PS1_SYNTAX_2"
   ]
  },
  {
   "cell_type": "markdown",
   "metadata": {},
   "source": [
    "## Problema 3\n",
    "\n",
    "Dada una cadena de caracteres, entregar una lista donde se retorne:\n",
    ">- en la primera casilla: `True` si el caracter del medio es una vocal, `False` en caso contrario \n",
    ">- en la segunda: el numero de vocales en la cadena\n",
    ">- en la tercera: el numero de consonantes\n",
    ">- en la ultima: la cadena de caracteres invertida (ej: perro, orrep)\n",
    "\n",
    "### Ejemplo de Ejecución\n",
    "```python\n",
    "\n",
    ">>> cadena(s='perro')\n",
    "[False, 2, 3, 'orrep']\n",
    "\n",
    ">>> cadena(s='murcielago')\n",
    "[True, 5, 5, 'ogaleicrum']\n",
    "\n",
    "```\n",
    "\n",
    "### Solución"
   ]
  },
  {
   "cell_type": "code",
   "execution_count": 198,
   "metadata": {},
   "outputs": [
    {
     "name": "stdout",
     "output_type": "stream",
     "text": [
      "Overwriting utils/student_function/student_PS1_SYNTAX_3.py\n"
     ]
    }
   ],
   "source": [
    "%%writefile utils/student_function/student_PS1_SYNTAX_3.py\n",
    "## Ejercicio del estudiante\n",
    "\n",
    "def cadena(s):\n",
    "    \n",
    "    #tu codigo aqui\n",
    "    \n",
    "    medio= True if s[len(s)//2] in ('a','e','i','o','u') else False\n",
    "    cont_vocales= sum([1 if v in ('a','e','i','o','u') else 0 for v in s])\n",
    "    cont_consonante=  sum([1 if v not in ('a','e','i','o','u') else 0 for v in s])\n",
    "    inverso= s[::-1]\n",
    "    \n",
    "    \n",
    "    resultado=[medio,cont_vocales,cont_consonante,inverso]\n",
    "    return resultado\n",
    "    "
   ]
  },
  {
   "cell_type": "markdown",
   "metadata": {},
   "source": [
    "### Prueba manualmente tu respuesta"
   ]
  },
  {
   "cell_type": "code",
   "execution_count": 199,
   "metadata": {},
   "outputs": [
    {
     "data": {
      "text/plain": [
       "[False, 2, 3, 'orrep']"
      ]
     },
     "execution_count": 199,
     "metadata": {},
     "output_type": "execute_result"
    }
   ],
   "source": [
    "%run -i utils/student_function/student_PS1_SYNTAX_3.py \n",
    "cadena(s='perro')"
   ]
  },
  {
   "cell_type": "code",
   "execution_count": 200,
   "metadata": {},
   "outputs": [
    {
     "data": {
      "text/plain": [
       "[True, 5, 5, 'ogaleicrum']"
      ]
     },
     "execution_count": 200,
     "metadata": {},
     "output_type": "execute_result"
    }
   ],
   "source": [
    "%run -i utils/student_function/student_PS1_SYNTAX_3.py \n",
    "cadena(s='murcielago')"
   ]
  },
  {
   "cell_type": "markdown",
   "metadata": {},
   "source": [
    "### Ejecuta el corrector automático: "
   ]
  },
  {
   "cell_type": "code",
   "execution_count": 201,
   "metadata": {},
   "outputs": [
    {
     "name": "stdout",
     "output_type": "stream",
     "text": [
      "\n",
      "** Vuelve a intentarlo **\n",
      "evaluation result 2.0 \n"
     ]
    }
   ],
   "source": [
    "!./run CHECK_SOLUTION PS1_SYNTAX_3"
   ]
  },
  {
   "cell_type": "markdown",
   "metadata": {},
   "source": [
    "## Problema 4\n",
    "\n",
    "Elabore un método para calcular el n-ésimo término de la sucesión de fibonacci: \n",
    "\n",
    "$$ f_n = f_{n-1}+f_{n-2}$$\n",
    "\n",
    "Donde $$f_0=0 \\:\\:\\text{ y }\\:\\:f_1=1 $$ así:   $$f_2=1+0=1$$ $$f_3=1+1=2$$  $$f_4=2+1=3$$ y así sucesivamente\n",
    "\n",
    "### Ejemplo de Ejecución\n",
    "```python\n",
    "\n",
    ">>> fibonacci(50)\n",
    "12586269025\n",
    "\n",
    ">>> fibonacci(63)\n",
    "6557470319842\n",
    "```\n",
    "### Solución"
   ]
  },
  {
   "cell_type": "code",
   "execution_count": 209,
   "metadata": {},
   "outputs": [
    {
     "name": "stdout",
     "output_type": "stream",
     "text": [
      "Overwriting utils/student_function/student_PS1_SYNTAX_4.py\n"
     ]
    }
   ],
   "source": [
    "%%writefile utils/student_function/student_PS1_SYNTAX_4.py\n",
    "## Ejercicio del estudiante\n",
    "\n",
    "\n",
    "def fibonacci(n):\n",
    "    f1=1\n",
    "    f2=1\n",
    "    for i in range(n-2):\n",
    "        suma = f1+f2\n",
    "        f1 = f2\n",
    "        f2 = suma\n",
    "    \n",
    "    \n",
    "    #tu codigo aqui\n",
    "    \n",
    "    \n",
    "    return suma\n",
    "    "
   ]
  },
  {
   "cell_type": "markdown",
   "metadata": {},
   "source": [
    "### Prueba manualmente tu respuesta"
   ]
  },
  {
   "cell_type": "code",
   "execution_count": 210,
   "metadata": {},
   "outputs": [
    {
     "data": {
      "text/plain": [
       "12586269025"
      ]
     },
     "execution_count": 210,
     "metadata": {},
     "output_type": "execute_result"
    }
   ],
   "source": [
    "%run -i utils/student_function/student_PS1_SYNTAX_4.py\n",
    "fibonacci(50)"
   ]
  },
  {
   "cell_type": "code",
   "execution_count": 211,
   "metadata": {},
   "outputs": [
    {
     "data": {
      "text/plain": [
       "6557470319842"
      ]
     },
     "execution_count": 211,
     "metadata": {},
     "output_type": "execute_result"
    }
   ],
   "source": [
    "fibonacci(63)"
   ]
  },
  {
   "cell_type": "markdown",
   "metadata": {},
   "source": [
    "### Ejecuta el corrector automático: "
   ]
  },
  {
   "cell_type": "code",
   "execution_count": 212,
   "metadata": {},
   "outputs": [
    {
     "name": "stdout",
     "output_type": "stream",
     "text": [
      "\n",
      "** Felicitaciones **\n",
      "evaluation result 5.0 \n"
     ]
    }
   ],
   "source": [
    "!./run CHECK_SOLUTION PS1_SYNTAX_4"
   ]
  },
  {
   "cell_type": "markdown",
   "metadata": {},
   "source": [
    "## Problema 5\n",
    "\n",
    "Elaborar un método que arroje `True`  si el numero ingresado es perfecto, `False` en caso contrario.\n",
    "\n",
    ">- números perfectos: https://es.wikipedia.org/wiki/N%C3%BAmero_perfecto,\n",
    "un número es perfecto si la suma de todos sus divisores es igual al mismo número; ej: $6=3+2+1$\n",
    "\n",
    "### Ejemplo de Ejecución\n",
    "\n",
    "```python\n",
    "\n",
    ">>> perfecto(6)\n",
    "True\n",
    "\n",
    ">>> perfecto(51)\n",
    "False\n",
    "\n",
    ">>> perfecto(496)\n",
    "True\n",
    "\n",
    "```\n",
    "\n",
    "### Solución"
   ]
  },
  {
   "cell_type": "code",
   "execution_count": 226,
   "metadata": {},
   "outputs": [
    {
     "name": "stdout",
     "output_type": "stream",
     "text": [
      "Overwriting utils/student_function/student_PS1_SYNTAX_5.py\n"
     ]
    }
   ],
   "source": [
    "%%writefile utils/student_function/student_PS1_SYNTAX_5.py\n",
    "## Ejercicio del estudiante\n",
    "\n",
    "\n",
    "def perfecto(n):\n",
    "    #tu codigo aqui, pista:\n",
    "    # halle todos los divisores de n y sumelos en una variable auxiliar,\n",
    "    #compare este resultado con el valor original\n",
    "    \n",
    "    return sum([x if n%x ==0 else 0 for x in range(1,n)]) == n\n",
    "    \n",
    "    \n",
    "    "
   ]
  },
  {
   "cell_type": "markdown",
   "metadata": {},
   "source": [
    "### Prueba manualmente tu respuesta"
   ]
  },
  {
   "cell_type": "code",
   "execution_count": 227,
   "metadata": {},
   "outputs": [
    {
     "data": {
      "text/plain": [
       "True"
      ]
     },
     "execution_count": 227,
     "metadata": {},
     "output_type": "execute_result"
    }
   ],
   "source": [
    "%run -i utils/student_function/student_PS1_SYNTAX_5.py\n",
    "perfecto(6)"
   ]
  },
  {
   "cell_type": "code",
   "execution_count": 228,
   "metadata": {},
   "outputs": [
    {
     "data": {
      "text/plain": [
       "False"
      ]
     },
     "execution_count": 228,
     "metadata": {},
     "output_type": "execute_result"
    }
   ],
   "source": [
    "perfecto(51)"
   ]
  },
  {
   "cell_type": "code",
   "execution_count": 229,
   "metadata": {},
   "outputs": [
    {
     "data": {
      "text/plain": [
       "True"
      ]
     },
     "execution_count": 229,
     "metadata": {},
     "output_type": "execute_result"
    }
   ],
   "source": [
    "perfecto(496)"
   ]
  },
  {
   "cell_type": "markdown",
   "metadata": {},
   "source": [
    "### Ejecuta el corrector automático: "
   ]
  },
  {
   "cell_type": "code",
   "execution_count": 230,
   "metadata": {},
   "outputs": [
    {
     "name": "stdout",
     "output_type": "stream",
     "text": [
      "\n",
      "** Felicitaciones **\n",
      "evaluation result 5.0 \n"
     ]
    }
   ],
   "source": [
    "!./run CHECK_SOLUTION PS1_SYNTAX_5"
   ]
  }
 ],
 "metadata": {
  "kernelspec": {
   "display_name": "Python 2",
   "language": "python",
   "name": "python2"
  },
  "language_info": {
   "codemirror_mode": {
    "name": "ipython",
    "version": 2
   },
   "file_extension": ".py",
   "mimetype": "text/x-python",
   "name": "python",
   "nbconvert_exporter": "python",
   "pygments_lexer": "ipython2",
   "version": "2.7.14"
  }
 },
 "nbformat": 4,
 "nbformat_minor": 2
}
