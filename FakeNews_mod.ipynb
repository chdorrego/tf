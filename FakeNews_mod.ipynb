{
 "cells": [
  {
   "cell_type": "markdown",
   "metadata": {
    "colab_type": "text",
    "id": "dgDnc129tSOr"
   },
   "source": [
    "# Dataset\n",
    "https://www.kaggle.com/mrisdal/fake-news#fake.csv\n",
    "\n",
    "Example domain classifications (in flux) include:\n",
    "\n",
    "  * **Fake News**: Sources that fabricate stories out of whole cloth with the intent of pranking the public.\n",
    "  * **Satire**: Sources that provide humorous commentary on current events in the form of fake news.\n",
    "  *  **Extreme Bias**: Sources that traffic in political propaganda and gross distortions of fact.\n",
    "  *  **Conspiracy Theory**: Sources that are well-known promoters of kooky conspiracy theories.\n",
    "  *  **Rumor Mill**: Sources that traffic in rumors, innuendo, and unverified claims.\n",
    "  *  **State News**: Sources in repressive states operating under government sanction.\n",
    "  *  **Junk Science**: Sources that promote pseudoscience, metaphysics, naturalistic fallacies, and other scientifically dubious claims.\n",
    "  *  **Hate Group**: Sources that actively promote racism, misogyny, homophobia, and other forms of discrimination.\n",
    "  *  **Clickbait:** Sources that are aimed at generating online advertising revenue and rely on sensationalist headlines or eye-catching pictures.\n",
    "  *  **Proceed With Caution**: Sources that may be reliable but whose contents require further verification.\n",
    "  *  The labels of **bs** and **junksci**, etc. do not constitute capital \"t\" Truth\n",
    "\n"
   ]
  },
  {
   "cell_type": "code",
   "execution_count": 1,
   "metadata": {
    "colab": {
     "base_uri": "https://localhost:8080/",
     "height": 56
    },
    "colab_type": "code",
    "id": "5jRJVQaYtSOu",
    "outputId": "965cad7f-5dc0-4035-cc5f-6a83f769602f"
   },
   "outputs": [
    {
     "name": "stdout",
     "output_type": "stream",
     "text": [
      "1.10.1\n",
      "The Python version is 2.7.14\n"
     ]
    }
   ],
   "source": [
    "import tensorflow as tf\n",
    "import numpy as np\n",
    "import matplotlib.pyplot as plt\n",
    "#import mlutils\n",
    "%matplotlib inline\n",
    "import pandas as pd\n",
    "import tensorflow_hub as hub \n",
    "import re\n",
    "print(tf.__version__)\n",
    "print(\"The Python version is %s.%s.%s\" % sys.version_info[:3])\n"
   ]
  },
  {
   "cell_type": "markdown",
   "metadata": {
    "colab_type": "text",
    "id": "vAoLYD2ntSO6"
   },
   "source": [
    "## Descarga, arregla e inspecciona el dataset Fake news"
   ]
  },
  {
   "cell_type": "code",
   "execution_count": 0,
   "metadata": {
    "colab": {},
    "colab_type": "code",
    "collapsed": true,
    "id": "1FlxUjfdtSO7"
   },
   "outputs": [],
   "source": [
    "import os\n",
    "!mkdir -p dataFake\n",
    "if not os.path.exists(\"dataFake/fake.csv\"):\n",
    "    !wget -c -nc https://github.com/chdorrego/tf/raw/master/fake-news.zip -P dataFake\n",
    "    !unzip dataFake/fake-news.zip -d dataFake\n",
    "    with open(\"dataFake/fake.csv\", \"r\") as f:\n",
    "        lines = f.readlines()\n",
    "        lines = [i for i in lines if len(i.replace(\"\\n\", \"\"))>0]\n",
    "    with open(\"dataFake/fake.csv\", \"w\") as f:\n",
    "        f.writelines(lines) "
   ]
  },
  {
   "cell_type": "code",
   "execution_count": 3,
   "metadata": {
    "colab": {
     "base_uri": "https://localhost:8080/",
     "height": 142
    },
    "colab_type": "code",
    "id": "DdQTR1MWtSPD",
    "outputId": "b25ebbf7-b436-4f1a-9506-ac544c48b3cb"
   },
   "outputs": [
    {
     "name": "stdout",
     "output_type": "stream",
     "text": [
      "\"uuid\",\"ord_in_thread\",\"author\",\"published\",\"title\",\"text\",\"language\",\"crawled\",\"site_url\",\"country\",\"domain_rank\",\"thread_title\",\"spam_score\",\"main_img_url\",\"replies_count\",\"participants_count\",\"likes\",\"comments\",\"shares\",\"type\"\r\n",
      "\"6a175f46bcd24d39b3e962ad0f29936721db70db\",0,\"Barracuda Brigade\",\"2016-10-26T21:41:00.000+03:00\",\"Muslims BUSTED: They Stole Millions In Gov’t Benefits\",\"Print They should pay all the back all the money plus interest. The entire family and everyone who came in with them need to be deported asap. Why did it take two years to bust them? \r\n",
      "Here we go again …another group stealing from the government and taxpayers! A group of Somalis stole over four million in government benefits over just 10 months! \r\n",
      "We’ve reported on numerous cases like this one where the Muslim refugees/immigrants commit fraud by scamming our system…It’s way out of control! More Related\",\"english\",\"2016-10-27T01:49:27.168+03:00\",\"100percentfedup.com\",\"US\",25689,\"Muslims BUSTED: They Stole Millions In Gov’t Benefits\",0,\"http://bb4sp.com/wp-content/uploads/2016/10/Fullscreen-capture-10262016-83501-AM.bmp.jpg\",0,1,0,0,0,\"bias\"\r\n",
      "\"2bdc29d12605ef9cf3f09f9875040a7113be5d5b\",0,\"reasoning with facts\",\"2016-10-29T08:47:11.259+03:00\",\"Re: Why Did Attorney General Loretta Lynch Plead The Fifth?\",\"Why Did Attorney General Loretta Lynch Plead The Fifth? Barracuda Brigade 2016-10-28 Print The administration is blocking congressional probe into cash payments to Iran. Of course she needs to plead the 5th. She either can’t recall, refuses to answer, or just plain deflects the question. Straight up corruption at its finest! \r\n"
     ]
    }
   ],
   "source": [
    "!head -5 dataFake/fake.csv"
   ]
  },
  {
   "cell_type": "code",
   "execution_count": 4,
   "metadata": {
    "colab": {
     "base_uri": "https://localhost:8080/",
     "height": 615
    },
    "colab_type": "code",
    "id": "q8Xo6EVztSPM",
    "outputId": "4928db70-cd8d-47c3-8027-53c4cd597dac"
   },
   "outputs": [
    {
     "name": "stdout",
     "output_type": "stream",
     "text": [
      "(12999, 20)\n"
     ]
    },
    {
     "data": {
      "text/html": [
       "<div>\n",
       "<style scoped>\n",
       "    .dataframe tbody tr th:only-of-type {\n",
       "        vertical-align: middle;\n",
       "    }\n",
       "\n",
       "    .dataframe tbody tr th {\n",
       "        vertical-align: top;\n",
       "    }\n",
       "\n",
       "    .dataframe thead th {\n",
       "        text-align: right;\n",
       "    }\n",
       "</style>\n",
       "<table border=\"1\" class=\"dataframe\">\n",
       "  <thead>\n",
       "    <tr style=\"text-align: right;\">\n",
       "      <th></th>\n",
       "      <th>uuid</th>\n",
       "      <th>ord_in_thread</th>\n",
       "      <th>author</th>\n",
       "      <th>published</th>\n",
       "      <th>title</th>\n",
       "      <th>text</th>\n",
       "      <th>language</th>\n",
       "      <th>crawled</th>\n",
       "      <th>site_url</th>\n",
       "      <th>country</th>\n",
       "      <th>domain_rank</th>\n",
       "      <th>thread_title</th>\n",
       "      <th>spam_score</th>\n",
       "      <th>main_img_url</th>\n",
       "      <th>replies_count</th>\n",
       "      <th>participants_count</th>\n",
       "      <th>likes</th>\n",
       "      <th>comments</th>\n",
       "      <th>shares</th>\n",
       "      <th>type_label</th>\n",
       "    </tr>\n",
       "  </thead>\n",
       "  <tbody>\n",
       "    <tr>\n",
       "      <th>0</th>\n",
       "      <td>6a175f46bcd24d39b3e962ad0f29936721db70db</td>\n",
       "      <td>0</td>\n",
       "      <td>Barracuda Brigade</td>\n",
       "      <td>2016-10-26T21:41:00.000+03:00</td>\n",
       "      <td>Muslims BUSTED: They Stole Millions In Gov’t B...</td>\n",
       "      <td>Print They should pay all the back all the mon...</td>\n",
       "      <td>english</td>\n",
       "      <td>2016-10-27T01:49:27.168+03:00</td>\n",
       "      <td>100percentfedup.com</td>\n",
       "      <td>US</td>\n",
       "      <td>25689.0</td>\n",
       "      <td>Muslims BUSTED: They Stole Millions In Gov’t B...</td>\n",
       "      <td>0.000</td>\n",
       "      <td>http://bb4sp.com/wp-content/uploads/2016/10/Fu...</td>\n",
       "      <td>0</td>\n",
       "      <td>1</td>\n",
       "      <td>0</td>\n",
       "      <td>0</td>\n",
       "      <td>0</td>\n",
       "      <td>bias</td>\n",
       "    </tr>\n",
       "    <tr>\n",
       "      <th>1</th>\n",
       "      <td>2bdc29d12605ef9cf3f09f9875040a7113be5d5b</td>\n",
       "      <td>0</td>\n",
       "      <td>reasoning with facts</td>\n",
       "      <td>2016-10-29T08:47:11.259+03:00</td>\n",
       "      <td>Re: Why Did Attorney General Loretta Lynch Ple...</td>\n",
       "      <td>Why Did Attorney General Loretta Lynch Plead T...</td>\n",
       "      <td>english</td>\n",
       "      <td>2016-10-29T08:47:11.259+03:00</td>\n",
       "      <td>100percentfedup.com</td>\n",
       "      <td>US</td>\n",
       "      <td>25689.0</td>\n",
       "      <td>Re: Why Did Attorney General Loretta Lynch Ple...</td>\n",
       "      <td>0.000</td>\n",
       "      <td>http://bb4sp.com/wp-content/uploads/2016/10/Fu...</td>\n",
       "      <td>0</td>\n",
       "      <td>1</td>\n",
       "      <td>0</td>\n",
       "      <td>0</td>\n",
       "      <td>0</td>\n",
       "      <td>bias</td>\n",
       "    </tr>\n",
       "    <tr>\n",
       "      <th>2</th>\n",
       "      <td>c70e149fdd53de5e61c29281100b9de0ed268bc3</td>\n",
       "      <td>0</td>\n",
       "      <td>Barracuda Brigade</td>\n",
       "      <td>2016-10-31T01:41:49.479+02:00</td>\n",
       "      <td>BREAKING: Weiner Cooperating With FBI On Hilla...</td>\n",
       "      <td>Red State : \\nFox News Sunday reported this mo...</td>\n",
       "      <td>english</td>\n",
       "      <td>2016-10-31T01:41:49.479+02:00</td>\n",
       "      <td>100percentfedup.com</td>\n",
       "      <td>US</td>\n",
       "      <td>25689.0</td>\n",
       "      <td>BREAKING: Weiner Cooperating With FBI On Hilla...</td>\n",
       "      <td>0.000</td>\n",
       "      <td>http://bb4sp.com/wp-content/uploads/2016/10/Fu...</td>\n",
       "      <td>0</td>\n",
       "      <td>1</td>\n",
       "      <td>0</td>\n",
       "      <td>0</td>\n",
       "      <td>0</td>\n",
       "      <td>bias</td>\n",
       "    </tr>\n",
       "    <tr>\n",
       "      <th>3</th>\n",
       "      <td>7cf7c15731ac2a116dd7f629bd57ea468ed70284</td>\n",
       "      <td>0</td>\n",
       "      <td>Fed Up</td>\n",
       "      <td>2016-11-01T05:22:00.000+02:00</td>\n",
       "      <td>PIN DROP SPEECH BY FATHER OF DAUGHTER Kidnappe...</td>\n",
       "      <td>Email Kayla Mueller was a prisoner and torture...</td>\n",
       "      <td>english</td>\n",
       "      <td>2016-11-01T15:46:26.304+02:00</td>\n",
       "      <td>100percentfedup.com</td>\n",
       "      <td>US</td>\n",
       "      <td>25689.0</td>\n",
       "      <td>PIN DROP SPEECH BY FATHER OF DAUGHTER Kidnappe...</td>\n",
       "      <td>0.068</td>\n",
       "      <td>http://100percentfedup.com/wp-content/uploads/...</td>\n",
       "      <td>0</td>\n",
       "      <td>0</td>\n",
       "      <td>0</td>\n",
       "      <td>0</td>\n",
       "      <td>0</td>\n",
       "      <td>bias</td>\n",
       "    </tr>\n",
       "    <tr>\n",
       "      <th>4</th>\n",
       "      <td>0206b54719c7e241ffe0ad4315b808290dbe6c0f</td>\n",
       "      <td>0</td>\n",
       "      <td>Fed Up</td>\n",
       "      <td>2016-11-01T21:56:00.000+02:00</td>\n",
       "      <td>FANTASTIC! TRUMP'S 7 POINT PLAN To Reform Heal...</td>\n",
       "      <td>Email HEALTHCARE REFORM TO MAKE AMERICA GREAT ...</td>\n",
       "      <td>english</td>\n",
       "      <td>2016-11-01T23:59:42.266+02:00</td>\n",
       "      <td>100percentfedup.com</td>\n",
       "      <td>US</td>\n",
       "      <td>25689.0</td>\n",
       "      <td>FANTASTIC! TRUMP'S 7 POINT PLAN To Reform Heal...</td>\n",
       "      <td>0.865</td>\n",
       "      <td>http://100percentfedup.com/wp-content/uploads/...</td>\n",
       "      <td>0</td>\n",
       "      <td>0</td>\n",
       "      <td>0</td>\n",
       "      <td>0</td>\n",
       "      <td>0</td>\n",
       "      <td>bias</td>\n",
       "    </tr>\n",
       "  </tbody>\n",
       "</table>\n",
       "</div>"
      ],
      "text/plain": [
       "                                       uuid  ord_in_thread  \\\n",
       "0  6a175f46bcd24d39b3e962ad0f29936721db70db              0   \n",
       "1  2bdc29d12605ef9cf3f09f9875040a7113be5d5b              0   \n",
       "2  c70e149fdd53de5e61c29281100b9de0ed268bc3              0   \n",
       "3  7cf7c15731ac2a116dd7f629bd57ea468ed70284              0   \n",
       "4  0206b54719c7e241ffe0ad4315b808290dbe6c0f              0   \n",
       "\n",
       "                 author                      published  \\\n",
       "0     Barracuda Brigade  2016-10-26T21:41:00.000+03:00   \n",
       "1  reasoning with facts  2016-10-29T08:47:11.259+03:00   \n",
       "2     Barracuda Brigade  2016-10-31T01:41:49.479+02:00   \n",
       "3                Fed Up  2016-11-01T05:22:00.000+02:00   \n",
       "4                Fed Up  2016-11-01T21:56:00.000+02:00   \n",
       "\n",
       "                                               title  \\\n",
       "0  Muslims BUSTED: They Stole Millions In Gov’t B...   \n",
       "1  Re: Why Did Attorney General Loretta Lynch Ple...   \n",
       "2  BREAKING: Weiner Cooperating With FBI On Hilla...   \n",
       "3  PIN DROP SPEECH BY FATHER OF DAUGHTER Kidnappe...   \n",
       "4  FANTASTIC! TRUMP'S 7 POINT PLAN To Reform Heal...   \n",
       "\n",
       "                                                text language  \\\n",
       "0  Print They should pay all the back all the mon...  english   \n",
       "1  Why Did Attorney General Loretta Lynch Plead T...  english   \n",
       "2  Red State : \\nFox News Sunday reported this mo...  english   \n",
       "3  Email Kayla Mueller was a prisoner and torture...  english   \n",
       "4  Email HEALTHCARE REFORM TO MAKE AMERICA GREAT ...  english   \n",
       "\n",
       "                         crawled             site_url country  domain_rank  \\\n",
       "0  2016-10-27T01:49:27.168+03:00  100percentfedup.com      US      25689.0   \n",
       "1  2016-10-29T08:47:11.259+03:00  100percentfedup.com      US      25689.0   \n",
       "2  2016-10-31T01:41:49.479+02:00  100percentfedup.com      US      25689.0   \n",
       "3  2016-11-01T15:46:26.304+02:00  100percentfedup.com      US      25689.0   \n",
       "4  2016-11-01T23:59:42.266+02:00  100percentfedup.com      US      25689.0   \n",
       "\n",
       "                                        thread_title  spam_score  \\\n",
       "0  Muslims BUSTED: They Stole Millions In Gov’t B...       0.000   \n",
       "1  Re: Why Did Attorney General Loretta Lynch Ple...       0.000   \n",
       "2  BREAKING: Weiner Cooperating With FBI On Hilla...       0.000   \n",
       "3  PIN DROP SPEECH BY FATHER OF DAUGHTER Kidnappe...       0.068   \n",
       "4  FANTASTIC! TRUMP'S 7 POINT PLAN To Reform Heal...       0.865   \n",
       "\n",
       "                                        main_img_url  replies_count  \\\n",
       "0  http://bb4sp.com/wp-content/uploads/2016/10/Fu...              0   \n",
       "1  http://bb4sp.com/wp-content/uploads/2016/10/Fu...              0   \n",
       "2  http://bb4sp.com/wp-content/uploads/2016/10/Fu...              0   \n",
       "3  http://100percentfedup.com/wp-content/uploads/...              0   \n",
       "4  http://100percentfedup.com/wp-content/uploads/...              0   \n",
       "\n",
       "   participants_count  likes  comments  shares type_label  \n",
       "0                   1      0         0       0       bias  \n",
       "1                   1      0         0       0       bias  \n",
       "2                   1      0         0       0       bias  \n",
       "3                   0      0         0       0       bias  \n",
       "4                   0      0         0       0       bias  "
      ]
     },
     "execution_count": 4,
     "metadata": {
      "tags": []
     },
     "output_type": "execute_result"
    }
   ],
   "source": [
    "CSV_COLUMNS  = ['uuid','ord_in_thread','author','published','title','text','language','crawled','site_url','country','domain_rank','thread_title','spam_score','main_img_url','replies_count','participants_count','likes','comments','shares','type_label']\n",
    "#CSV_DEFAULTS = [[''],[0],[''],[''],[''],[''],[''],[''],[''],[''],[0],[''],[-1],[''],[-1],[-1],[-1],[-1],[-1],['']]\n",
    "CSV_DEFAULTS = [[''],[''],[''],[''],[''],[''],[''],[''],[''],[''],[''],[''],[''],[''],[''],[''],[''],[''],[''],[0]]\n",
    "\n",
    "\n",
    "type_label =  ['bias','conspiracy','hate','state','junksci','satire','fake']\n",
    "no_valid_labels = ['bs']\n",
    "\n",
    "fake= pd.read_csv(\"dataFake/fake.csv\", names = CSV_COLUMNS,skiprows=1)\n",
    "print(fake.shape)\n",
    "fake.head()"
   ]
  },
  {
   "cell_type": "markdown",
   "metadata": {
    "colab_type": "text",
    "id": "hRfPsL_gtSPT"
   },
   "source": [
    "### Labels\n",
    "\n",
    "* bs            10919 \n",
    "* conspiracy      412 \n",
    "- bias            354 \n",
    "- hate            246 \n",
    "- state           121 \n",
    "- junksci         102 \n",
    "- satire          100 \n",
    "- fake             19\n"
   ]
  },
  {
   "cell_type": "markdown",
   "metadata": {
    "colab_type": "text",
    "id": "HvbwatXvtSPU"
   },
   "source": [
    "## Realizamos un preprocesamiento de los datos \n",
    "- Eliminiación de la clase bs debido a la definición del problema\n",
    "- Se eliminan los caracteres especiales\n",
    "- Se transforma el valor del target por una equivalencia númerica para facilidad del procesamiento\n",
    "- Realizamos la división de la data en archivos test y train \n"
   ]
  },
  {
   "cell_type": "code",
   "execution_count": 4,
   "metadata": {
    "colab": {
     "base_uri": "https://localhost:8080/",
     "height": 1295
    },
    "colab_type": "code",
    "id": "o1ZxhYvDtSPW",
    "outputId": "981b8675-ee90-439c-f0f3-1b77bf950c05"
   },
   "outputs": [
    {
     "name": "stderr",
     "output_type": "stream",
     "text": [
      "/usr/local/lib/python2.7/dist-packages/ipykernel_launcher.py:2: SettingWithCopyWarning: \n",
      "A value is trying to be set on a copy of a slice from a DataFrame.\n",
      "Try using .loc[row_indexer,col_indexer] = value instead\n",
      "\n",
      "See the caveats in the documentation: http://pandas.pydata.org/pandas-docs/stable/indexing.html#indexing-view-versus-copy\n",
      "  \n",
      "/usr/local/lib/python2.7/dist-packages/ipykernel_launcher.py:3: SettingWithCopyWarning: \n",
      "A value is trying to be set on a copy of a slice from a DataFrame.\n",
      "Try using .loc[row_indexer,col_indexer] = value instead\n",
      "\n",
      "See the caveats in the documentation: http://pandas.pydata.org/pandas-docs/stable/indexing.html#indexing-view-versus-copy\n",
      "  This is separate from the ipykernel package so we can avoid doing imports until\n",
      "/usr/local/lib/python2.7/dist-packages/ipykernel_launcher.py:4: SettingWithCopyWarning: \n",
      "A value is trying to be set on a copy of a slice from a DataFrame.\n",
      "Try using .loc[row_indexer,col_indexer] = value instead\n",
      "\n",
      "See the caveats in the documentation: http://pandas.pydata.org/pandas-docs/stable/indexing.html#indexing-view-versus-copy\n",
      "  after removing the cwd from sys.path.\n",
      "/usr/local/lib/python2.7/dist-packages/ipykernel_launcher.py:6: SettingWithCopyWarning: \n",
      "A value is trying to be set on a copy of a slice from a DataFrame.\n",
      "Try using .loc[row_indexer,col_indexer] = value instead\n",
      "\n",
      "See the caveats in the documentation: http://pandas.pydata.org/pandas-docs/stable/indexing.html#indexing-view-versus-copy\n",
      "  \n",
      "/usr/local/lib/python2.7/dist-packages/ipykernel_launcher.py:7: FutureWarning: specifying 'categories' or 'ordered' in .astype() is deprecated; pass a CategoricalDtype instead\n",
      "  import sys\n"
     ]
    },
    {
     "name": "stdout",
     "output_type": "stream",
     "text": [
      "uuid                  1191\n",
      "ord_in_thread         1191\n",
      "author                 813\n",
      "published             1191\n",
      "title                 1100\n",
      "text                  1152\n",
      "language              1191\n",
      "crawled               1191\n",
      "site_url              1191\n",
      "country               1191\n",
      "domain_rank           1046\n",
      "thread_title          1191\n",
      "spam_score            1191\n",
      "main_img_url           931\n",
      "replies_count         1191\n",
      "participants_count    1191\n",
      "likes                 1191\n",
      "comments              1191\n",
      "shares                1191\n",
      "type_label            1191\n",
      "dtype: int64\n",
      "uuid                  316\n",
      "ord_in_thread         316\n",
      "author                215\n",
      "published             316\n",
      "title                 300\n",
      "text                  309\n",
      "language              316\n",
      "crawled               316\n",
      "site_url              316\n",
      "country               316\n",
      "domain_rank           273\n",
      "thread_title          316\n",
      "spam_score            316\n",
      "main_img_url          262\n",
      "replies_count         316\n",
      "participants_count    316\n",
      "likes                 316\n",
      "comments              316\n",
      "shares                316\n",
      "type_label            316\n",
      "dtype: int64\n"
     ]
    },
    {
     "name": "stderr",
     "output_type": "stream",
     "text": [
      "/usr/local/lib/python2.7/dist-packages/ipykernel_launcher.py:7: SettingWithCopyWarning: \n",
      "A value is trying to be set on a copy of a slice from a DataFrame.\n",
      "Try using .loc[row_indexer,col_indexer] = value instead\n",
      "\n",
      "See the caveats in the documentation: http://pandas.pydata.org/pandas-docs/stable/indexing.html#indexing-view-versus-copy\n",
      "  import sys\n"
     ]
    }
   ],
   "source": [
    "d = fake.loc[fake['type_label'].isin(type_label)]\n",
    "d['title'] = d['title'].str.replace('\\W', ' ')\n",
    "d['text'] =  d['text'].str.replace('\\W', ' ')\n",
    "d['thread_title'] =  d['thread_title'].str.replace('\\W', '')\n",
    "\n",
    "d['type_label'] = d['type_label'] \n",
    "d['type_label'] = d['type_label'].astype(\"category\", categories=type_label).cat.codes\n",
    "\n",
    "\n",
    "msk = np.random.rand(len(d)) < 0.8\n",
    "\n",
    "d_train = d[msk==True]\n",
    "d_test =  d[msk==False]\n",
    "\n",
    "d_train.to_csv('dataFake/fake_train.csv', sep=';', encoding='utf-8', header=False)\n",
    "d_test.to_csv('dataFake/fake_test.csv', sep=';', encoding='utf-8', header=False)\n",
    "print(d_train.count())\n",
    "print(d_test.count())"
   ]
  },
  {
   "cell_type": "markdown",
   "metadata": {
    "colab_type": "text",
    "id": "NyiY3SwftSPc"
   },
   "source": [
    "## Creamos la funcion para la generacion del `input pipeline`"
   ]
  },
  {
   "cell_type": "code",
   "execution_count": 0,
   "metadata": {
    "colab": {},
    "colab_type": "code",
    "collapsed": true,
    "id": "Oo2YEVKW3K2z"
   },
   "outputs": [],
   "source": [
    "CSV_COLUMNS  = ['pd_rowid','uuid','ord_in_thread','author','published','title','text','language','crawled','site_url','country','domain_rank','thread_title','spam_score','main_img_url','replies_count','participants_count','likes','comments','shares','type_label']\n",
    "CSV_DEFAULTS = [[0],[''],[''],[''],[''],[''],[''],[''],[''],[''],[''],[''],[''],[''],[''],[''],[''],[''],[''],[''],[0]]\n",
    "\n",
    "\n",
    "def parse_csv(rows_string_tensor, use_features):\n",
    "    columns = tf.decode_csv(rows_string_tensor, record_defaults=CSV_DEFAULTS, field_delim=\";\")\n",
    "    features = dict(zip(CSV_COLUMNS, columns))   \n",
    "    \n",
    "    label = features.pop(\"type_label\")\n",
    "      \n",
    "    #label = tf.one_hot(indices=label,depth=len(type_label),dtype=tf.int32)    \n",
    "    \n",
    "    return {k:v for k,v in features.items() if k in use_features}, label\n",
    "\n",
    "\n",
    "\n",
    "def get_dataset(filename, repeat, batch_size, shuffle):\n",
    "    use_features  = ['title','text','type_label']\n",
    "    \n",
    "    dataset = tf.data.TextLineDataset(filename)\n",
    "    dataset = dataset.repeat(repeat)\n",
    "    if shuffle:\n",
    "        dataset = dataset.shuffle(buffer_size=300)\n",
    "    dataset = dataset.map(lambda x: parse_csv(x, use_features))    \n",
    "    dataset = dataset.batch(batch_size)\n",
    "    return dataset\n",
    "\n",
    "\n",
    "\n",
    "def get_features_defs():\n",
    "  \n",
    "    title = hub.text_embedding_column(\n",
    "        key='title', \n",
    "        module_spec='https://tfhub.dev/google/Wiki-words-500/1')\n",
    "    \n",
    "    text = hub.text_embedding_column(\n",
    "        key='text', \n",
    "        module_spec='https://tfhub.dev/google/Wiki-words-500/1')\n",
    "    \n",
    "    return [title,text] \n",
    "  \n",
    "  \n",
    "#Este metodo no se usa en el premade - solo se utiliza para realiza una prueba\n",
    "def make_data_iterator(filename, repeat, batch_size, shuffle=True):\n",
    "    \n",
    "    dataset = get_dataset(filename, repeat, batch_size, shuffle)\n",
    "    \n",
    "    features_defs = get_features_defs()\n",
    "    \n",
    "    features, label = dataset.make_one_shot_iterator().get_next()\n",
    "    \n",
    "    next_X = tf.feature_column.input_layer(features, features_defs)\n",
    "    next_y = label\n",
    "    \n",
    "    return next_X, next_y"
   ]
  },
  {
   "cell_type": "markdown",
   "metadata": {
    "colab_type": "text",
    "id": "OOGfZJDhtSPo"
   },
   "source": [
    "Prueba de la carga del dataset "
   ]
  },
  {
   "cell_type": "code",
   "execution_count": 15,
   "metadata": {
    "colab": {
     "base_uri": "https://localhost:8080/",
     "height": 227
    },
    "colab_type": "code",
    "id": "6VW5tEtqtSPp",
    "outputId": "821d8924-1dc6-4846-f3ac-1659b0343bcf"
   },
   "outputs": [
    {
     "name": "stdout",
     "output_type": "stream",
     "text": [
      "['0;6a175f46bcd24d39b3e962ad0f29936721db70db;0;Barracuda Brigade;2016-10-26T21:41:00.000+03:00;Muslims BUSTED  They Stole Millions In Gov   t Benefits;Print They should pay all the back all the money plus interest  The entire family and everyone who came in with them need to be deported asap  Why did it take two years to bust them   Here we go again    another group stealing from the government and taxpayers  A group of Somalis stole over four million in government benefits over just 10 months   We   ve reported on numerous cases like this one where the Muslim refugees immigrants commit fraud by scamming our system   It   s way out of control  More Related;english;2016-10-27T01:49:27.168+03:00;100percentfedup.com;US;25689.0;MuslimsBUSTEDTheyStoleMillionsInGovtBenefits;0.0;http://bb4sp.com/wp-content/uploads/2016/10/Fullscreen-capture-10262016-83501-AM.bmp.jpg;0;1;0;0;0;0'\n",
      " '2;c70e149fdd53de5e61c29281100b9de0ed268bc3;0;Barracuda Brigade;2016-10-31T01:41:49.479+02:00;BREAKING  Weiner Cooperating With FBI On Hillary Email Investigation;Red State    Fox News Sunday reported this morning that Anthony Weiner is cooperating with the FBI  which has re opened  yes  lefties     re opened     the investigation into Hillary Clinton   s classified emails  Watch as Chris Wallace reports the breaking news during the panel segment near the end of the show   And the news is breaking while we   re on the air  Our colleague Bret Baier has just sent us an e mail saying he has two sources who say that Anthony Weiner  who also had co ownership of that laptop with his estranged wife Huma Abedin  is cooperating with the FBI investigation  had given them the laptop  so therefore they didn   t need a warrant to get in to see the contents of said laptop  Pretty interesting development   Targets of federal investigations will often cooperate  hoping that they will get consideration from a judge at sentencing  Given Weiner   s well known penchant for lying  it   s hard to believe that a prosecutor would give Weiner a deal based on an agreement to testify  unless his testimony were very strongly corroborated by hard evidence  But cooperation can take many forms     and  as Wallace indicated on this morning   s show  one of those forms could be signing a consent form to allow   the contents of devices that they could probably get a warrant for anyway  We   ll see if Weiner   s cooperation extends beyond that  More Related;english;2016-10-31T01:41:49.479+02:00;100percentfedup.com;US;25689.0;BREAKINGWeinerCooperatingWithFBIOnHillaryEmailInvestigation;0.0;http://bb4sp.com/wp-content/uploads/2016/10/Fullscreen-capture-10302016-60437-PM.bmp.jpg;0;1;0;0;0;0'\n",
      " '3;7cf7c15731ac2a116dd7f629bd57ea468ed70284;0;Fed Up;2016-11-01T05:22:00.000+02:00;PIN DROP SPEECH BY FATHER OF DAUGHTER Kidnapped And Killed By ISIS   I have voted for Donald J  Trump      100percentfedUp com;Email Kayla Mueller was a prisoner and tortured by ISIS while no chance of release   a horrific story  Her father gave a pin drop speech that was so heartfelt you want to give him a hug  Carl Mueller believes Donald Trump will be a great president   Epic speech  9 0K shares ;english;2016-11-01T15:46:26.304+02:00;100percentfedup.com;US;25689.0;PINDROPSPEECHBYFATHEROFDAUGHTERKidnappedAndKilledByISISIhavevotedforDonaldJTrump100percentfedUpcom;0.068;http://100percentfedup.com/wp-content/uploads/2016/10/kayla.jpg;0;0;0;0;0;0'\n",
      " '5;8f30f5ea14c9d5914a9fe4f55ab2581772af4c31;0;Barracuda Brigade;2016-11-02T16:31:28.550+02:00;Hillary Goes Absolutely Berserk On Protester At Rally   Video ;Print Hillary goes absolutely berserk  She explodes on Bill    rapist    protester at rally    Oh the irony  She is an enabler to Bill   s    escapades     She   s is just projecting again  She is so pathetic  Dragging integrity challenged Alicia Machado on stage with her yesterday at her sad little    rally    in Florida   TGP   Democratic Party presidential nominee Hillary Clinton angrily reacted to a protester shouting    Bill Clinton is a rapist    at a campaign rally in Fort Lauderdale  Florida Tuesday night  saying     I am sick and tired of the negative  dark  divisive  dangerous vision and behavior of people who support Donald Trump     according to reports   Protester interrupts Hillary Clinton shouting  Bill Clinton is a rapist   Clinton fires right back  I am sick and tired of the negative  pic twitter com yncdkS90Bg      Josh Haskell   joshbhaskell  November 2  2016 Man interrupts  HillaryClinton yelling  Bill Clinton is a rapist   she responds she s tired of divisive distractions   nbc6 pic twitter com 2GPjps1EQB      Jamie Guirola   jamieNBC6  November 2  2016 Here s Hillary absolutely going bezerk on a protester  starts screaming  shouting  yelling  Full off the rails  pic twitter com j11qI5JjtO      John Binder        JxhnBinder  November 2  2016 Related;english;2016-11-02T16:31:28.550+02:00;100percentfedup.com;US;25689.0;HillaryGoesAbsolutelyBerserkOnProtesterAtRallyVideo;0.0;http://bb4sp.com/wp-content/uploads/2016/11/Fullscreen-capture-1122016-74311-AM.bmp.jpg;0;1;0;0;0;0'\n",
      " '6;d3cc0fe38f41a59f7c48f8c3528ca5f74193148f;0;Fed Up;2016-11-04T19:40:00.000+02:00;BREAKING  NYPD Ready To Make Arrests In Weiner Case   Hillary Visited Pedophile Island At Least 6 Times   Money Laundering  Underage Sex  Pay for Play Proof of Inappropriate Handling Classified Information    100percentfedUp com;BREAKING  NYPD Ready To Make Arrests In Weiner Case   Hillary Visited Pedophile Island At Least 6 Times   Money Laundering  Underage Sex  Pay for Play Proof of Inappropriate Handling Classified Information Blackwater USA Founder  Retired Navy Seal Erik Prince  Prince claimed he had insider knowledge of the investigation that could help explain why FBI Director James Comey had to announce he was reopening the investigation into Clinton   s email server last week      Because of Weinergate and the sexting scandal  the NYPD started investigating it  Through a subpoena  through a warrant  they searched his laptop  and sure enough  found those 650 000 emails  They found way more stuff than just more information pertaining to the inappropriate sexting the guy was doing     Prince claimed      They found State Department emails  They found a lot of other really damning criminal information  including money laundering  including the fact that Hillary went to this sex island with convicted pedophile Jeffrey Epstein  Bill Clinton went there more than 20 times  Hillary Clinton went there at least six times     he said      The amount of garbage that they found in these emails  of criminal activity by Hillary  by her immediate circle  and even by other Democratic members of Congress was so disgusting they gave it to the FBI  and they said     We   re going to go public with this if you don   t reopen the investigation and you don   t do the right thing with timely indictments        Prince explained      I believe     I know  and this is from a very well placed source of mine at 1PP  One Police Plaza in New York     the NYPD wanted to do a press conference announcing the warrants and the additional arrests they were making in this investigation  and they   ve gotten huge pushback  to the point of coercion  from the Justice Department  with the Justice Department threatening to charge someone that had been unrelated in the accidental heart attack death of Eric Garner almost two years ago  That   s the level of pushback the Obama Justice Department is doing against actually seeking justice in the email and other related criminal matters     Prince said      There   s five different parts of the FBI conducting investigations into these things  with constant downdrafts from the Obama Justice Department  So in the  I hope  unlikely and very unfortunate event that Hillary Clinton is elected president  we will have a constitutional crisis that we have not seen since  I believe  1860     Prince declared   Marlow asked Prince to clarify these revelations      NYPD was the first one to look at that laptop     Prince elaborated     Weiner and Huma Abedin  his wife     the closest adviser of Hillary Clinton for 20 years     have both flipped  They are cooperating with the government  They both have     they see potential jail time of many years for their crimes  for Huma Abedin sending and receiving and even storing hundreds of thousands of messages from the State Department server and from Hillary Clinton   s own homebrew server  which contained classified information  Weiner faces all kinds of exposure for the inappropriate sexting that was going on and for other information that they found         So NYPD first gets that computer  They see how disgusting it is  They keep a copy of everything  and they pass a copy on to the FBI  which finally pushes the FBI off their chairs  making Comey reopen that investigation  which was indicated in the letter last week  The point being  NYPD has all the information  and they will pursue justice within their rights if the FBI doesn   t     Prince contended      There is all kinds of criminal culpability through all the emails they   ve seen of that 650 000  including money laundering  underage sex  pay for play  and  of course  plenty of proof of inappropriate handling  sending receiving of classified information  up to SAP level Special Access Programs     he stated      So the plot thickens  NYPD was pushing because  as an article quoted one of the chiefs     that   s the level just below commissioner     he said as a parent  as a father with daughters  he could not let that level of evil continue     Prince said   He noted that the FBI can investigate these matters     but they can   t convene a grand jury  They can   t file charges         The prosecutors  the Justice Department has to do that     he explained     Now  as I understand it  Preet Bharara  the Manhattan prosecutor  has gotten ahold of some of this  From what I hear  he   s a stand up guy  and hopefully he does the right thing      Marlow agreed that Bharara   s    sterling reputation    as a determined prosecutor was    bad news for the Clintons      Prince agreed  but said     If people are willing to bend or break the law and don   t really care about the Constitution or due process     if you   re willing to use Stalinist tactics against someone     who knows what level of pressure    could be brought to bear against even the most tenacious law enforcement officials   Listen to interview here      The point being  fortunately  it   s not just the FBI   there are  five different offices that are in the hunt for justice  but the NYPD has it as well     Prince said  citing the Wall Street Journal reporting that has    exposed downdraft  back pressure from the Justice Department    against both the FBI and NYPD  in an effort to    keep the sunlight and the disinfecting effects of the truth and transparency from shining on this great evil that has gone on  and is slowly being exposed         The Justice Department is trying to run out the clock  to elect Hillary Clinton  to prevent any real justice from being done     he warned   As for the mayor of New York City  Prince said he has heard that    de Blasio wants to stay away from this         The evidence is so bad  the email content is so bad  that I think even he wants to stay away from it  which is really telling     he said   For entire story  Breitbart News 14 7K shares ;english;2016-11-05T02:13:46.065+02:00;100percentfedup.com;US;25689.0;BREAKINGNYPDReadyToMakeArrestsInWeinerCaseHillaryVisitedPedophileIslandAtLeast6TimesMoneyLaunderingUnderageSexPayforPlayProofofInappropriateHandlingClassifiedInformation100percentfedUpcom;0.701;http://100percentfedup.com/wp-content/uploads/2016/11/hillary-looking-down.jpg;0;0;0;0;0;0'\n",
      " '8;a19aabaa5a61eb8bc22fadaaa003e5fbba5c4bf6;0;Fed Up;2016-11-06T23:54:00.000+02:00;BREAKING  CLINTON CLEARED   Was This A Coordinated Last Minute Trick To Energize Hillary s Base     100percentfedUp com; Limbaugh said that the revelations in the Wikileaks material were    starting to hurt    the Clintons and that the renewed interest in an FBI investigation into her private email server would be a fruitless distraction   In any case     IT   S TIME TO DRAIN THE SWAMP   FBI Director James Comey said Sunday that the agency has reviewed all of the Hillary Clinton emails recently discovered in an unrelated case and that his conclusion in July not to prosecute Clinton after the FBI   s original investigation into her use of private email server still stands   Comey informed Congress on Oct  28 that the agency would  in the unrelated case  review additional emails related to Clinton   s time running the State Department from 2009 to 2013      Since my letter  the FBI investigative team has been working around the clock to process and review a large volume of emails     Comey said Sunday in a follow up letter to Congress     During that time we reviewed all of the communications that were to or from Hilary Clinton as secretary of state  Based on our review  we have not changed our conclusion      The new case is purportedly related to ex New York Democratic Rep  Anthony Weiner using a laptop he shared with estranged wife and top Clinton aide Huma Abedin for    sexting    an apparently underage female   ;english;2016-11-07T10:20:06.409+02:00;100percentfedup.com;US;25689.0;BREAKINGCLINTONCLEAREDWasThisACoordinatedLastMinuteTrickToEnergizeHillarysBase100percentfedUpcom;0.14400000000000002;http://100percentfedup.com/wp-content/uploads/2016/05/hillary-comey.jpg;0;0;0;0;0;0'\n",
      " '9;f54d8e13010d0a79893995ee65360ad4b38b5a35;0;Fed Up;2016-11-07T02:43:00.000+02:00;EVIL HILLARY SUPPORTERS Yell  F ck Trump    Burn Truck Of Daddy Fishing With 2 Yr Son Over Of Trump Bumper Stickers  VIDEO     100percentfedUp com;Email  These people are sick and evil  They will stop at NOTHING to get their way  Laws mean nothing to them  because they mean nothing to their President and his regime     A California man says a stranger hurled expletives and set his truck on fire Thursday after seeing a pro Donald Trump sticker on the bumper   Hao Lee had taken his 2 year old son fishing on a pleasant November afternoon in Sacramento  He parked his white Dodge Ram truck with a pair of Trump stickers on the bumper along Garden Highway      About a couple hours into fishing I heard someone yelling out    F    Trump     Lee told KTXL   Lee and his son were only about 50 yards from where his truck was parked  near the edge of the river  TRENDING ON 100  Fed Up ;english;2016-11-07T10:20:27.252+02:00;100percentfedup.com;US;25689.0;EVILHILLARYSUPPORTERSYellFckTrumpBurnTruckOfDaddyFishingWith2YrSonOverOfTrumpBumperStickersVIDEO100percentfedUpcom;0.995;http://100percentfedup.com/wp-content/uploads/2016/11/TRUCK-TORCHED-HILLARY.jpg;0;0;0;0;0;0'\n",
      " '10;4d3faf17519cfa46ca754ab8068428818dbb2bf3;0;EdJenner;2016-11-07T22:34:36.822+02:00;YIKES  HILLARY GOES OFF THE RAILS   Pulls A Howard Dean  Video ; ;english;2016-11-07T22:34:36.822+02:00;100percentfedup.com;US;25689.0;YIKESHILLARYGOESOFFTHERAILSPullsAHowardDeanVideo;0.0;http://conservativeangle.com/wp-content/uploads/2016/11/2521919-thumb.jpg;0;1;0;0;0;0'\n",
      " '12;fd2c048d7e03f7260a8d75725b0441c627578f1a;0;EdJenner;2016-11-10T02:37:06.677+02:00;NOT KIDDING  Colleges Give Students    Safe Spaces    To Cry Over Trump Win   Threaten Students Over Pro Trump    Chalkings   ;Students expressed their    fear    over a Trump presidency in messages to each other that were being shared on Twitter today     Literally scared for their lives    is the new    literally Hitler      NotMyPresident pic twitter com 8cKfQdF2Ce      Paul Joseph Watson   PrisonPlanet  November 9  2016  And finally  this ridiculous and totally biased email was sent from University of Michigan President to the students offering them assistance to help them through the results of our Presidential election last night  The President wants to ensure the students that the university remains committed to their    most important responsibility    at their school which is apparently     to remain committed to education  discovery and intellectual honesty     and to diversity  equity and inclusion       To All Members of the University Community   As I   m sure many of you did  I watched the election coverage late into the night  and had the opportunity to visit with students and staff at a results watching event sponsored by the Ginsberg Center at the Michigan Union  It will take quite some time to completely absorb the results from yesterday   s election  understand the full implications  and discern the long term impact on our university and our nation   More immediately  in the aftermath of a close and highly contentious election we continue to embrace our most important responsibility as a university community  Our responsibility is to remain committed to education  discovery and intellectual honesty     and to diversity  equity and inclusion  We are at our best when we come together to engage respectfully across our ideological differences  to support ALL who feel marginalized  threatened or unwelcome  and to pursue knowledge and understanding  as we always have  as the students  faculty and staff of the University of Michigan  There are reports of members of our community offering support to one another  Students are planning a vigil tonight on the Diag at 6 p m  Our Center for Research on Teaching and Learning also has numerous resources available for faculty seeking help in cultivating classroom environments that are responsive to national issues  I also want to make everyone aware of some of the plans and events we have had in place for today and beyond     Our Gerald R  Ford School of Public Policy is holding a Post Election Analysis from 4 to 5 30 p m  today in the Weill Hall   s Annenberg Auditorium  Speakers include former U S  Congressman John Dingell  former Ambassador Ron Weiser  and faculty members Mara Ostfeld  Betsey Stevenson and Marina Whitman     Our History Department has organized a community discussion led by faculty and students to include historical perspectives at 6 p m  tonight in 1014 Tisch Hall     The Office of Student Life will provide resources and referrals for support on campus to students  faculty and staff at a location in the Michigan Union   s Willis Ward Lounge  It will be open today from 11 a m  to 4 p m     Our Office of Multi Ethnic Student Affairs is offering an open space of support to help members of our community connect during open hours today  MESA   s office is in the Michigan Union  Room 2202     Tomorrow  our Ginsberg Center and Counseling and Psychological Services office is facilitating a Post election Dialogue  Impact  Perspective taking  and Moving Forward  This event is part of the Student Life Professional Development Conference at 1     2 p m  in the Michigan League   s Henderson Room  I know that other schools  colleges and offices across our campus are planning events as well  I thank everyone who is helping us come together and ask anyone scheduling a post election event post it on the University of Michigan Events Calendar  I hope all of us will continue to proudly embrace the opportunities before us as the students  faculty and staff of a great public research university governed by the people  Elections are often times of great change  but the values we stand for at U M have been shaped over the course of nearly 200 years  Our mission remains as essential for society as ever        to serve the people of Michigan and the world through preeminence in creating  communicating  preserving and applying knowledge  art  and academic values  and in developing leaders and citizens who will challenge the present and enrich the future     I look forward to working together with all of you to advance the work we do in service of the public     and to ensure that the University of Michigan will always be a welcoming place for all members of society  Sincerely   Mark Schlissel President  ;english;2016-11-10T02:37:06.677+02:00;100percentfedup.com;US;25689.0;NOTKIDDINGCollegesGiveStudentsSafeSpacesToCryOverTrumpWinThreatenStudentsOverProTrumpChalkings;0.0;http://conservativeangle.com/wp-content/uploads/2016/11/2534062-thumb.jpg;0;1;0;0;0;0'\n",
      " '13;c8d4c0a88af223f1b41e3e966ecd98ceb22ab5fb;0;Fed Up;2016-11-10T15:38:00.000+02:00;BOOM  MATH SHOWS Trump Would Have Beaten Obama In Romney Obama Election    100percentfedUp com;Email For Republican politicians like Ohio Governor John Kasich who refused to get behind Donald J  Trump   it turns out Trump was right   he didn   t need you  In spite of the massive media force who came out against him  and the    never Trumpers    from his own party who worked very hard to defeat him  if Obama was running against Donald J  Trump today  Trump would have beaten him     It   s easy to glance at Tuesday   s popular vote     which  with 92 percent of all precincts reporting  shows Hillary Clinton with six million fewer votes than Barack Obama won in 2012     and reach the conclusion that Clinton lost the White House because she failed to turn out the Democratic base  But the truth is much more complicated  While she underperformed relative to Obama   s 2012 totals in several Midwestern states     Ohio  Michigan  Iowa  and Wisconsin     Clinton ran virtually even with Obama in the battlegrounds of Pennsylvania  North Carolina  Virginia  Nevada  and New Hampshire  What   s more  she far surpassed Obama   s 2012 vote total in Florida  the country   s biggest swing state  Yet somehow  while Obama carried Florida  Clinton lost it  Which brings us to an important question  Was Donald Trump just good enough to beat a bad Democratic opponent on Tuesday  or does he deserve far more credit  Could he  for instance  have competed with the vaunted Obama machine  The answer  somewhat shockingly  is yes   A review of vote totals in the past two elections reveals that Trump 2016 would have defeated Obama 2012 in the electoral college   Disclaimer  This obviously is an apples to oranges exercise because no two elections are the same  nor are any two electorates  Still  unlike debating whether the 2016 Cubs would defeat the 1927 Yankees  this is not an entirely abstract argument  a comparison of their respective performances in the country   s most competitive states shows Trump edging Obama in a hypothetical head to head matchup   The math might seem impossible  After all  Obama won nearly 66 million votes in 2012  Trump is currently at 59 5 million and should finish around 60 million  which will actually be one million fewer votes than Mitt Romney won  How  then  could Trump have topped Obama in the electoral college  The answer  Republican turnout lagged in certain parts of the country but shot through the roof in the nation   s most critical battleground states  Let   s look at them individually  in descending order by population  and do the electoral vote math  The 2016 totals aren   t yet final because not all precincts have reported   FLORIDA     29 EVs     98 percent reporting  Obama 2012  4 235 270  Clinton 2016  4 485 745 TRENDING ON 100  Fed Up ;english;2016-11-10T16:25:14.079+02:00;100percentfedup.com;US;25689.0;BOOMMATHSHOWSTrumpWouldHaveBeatenObamaInRomneyObamaElection100percentfedUpcom;0.001;http://100percentfedup.com/wp-content/uploads/2016/11/us-election-map.jpg;0;0;0;0;0;0']\n"
     ]
    }
   ],
   "source": [
    "dataset = tf.data.TextLineDataset(\"dataFake/fake_train.csv\")\n",
    "dataset = dataset.batch(10)\n",
    "features = dataset.make_one_shot_iterator().get_next()\n",
    "with tf.Session() as sess:\n",
    "    print(sess.run(features))\n"
   ]
  },
  {
   "cell_type": "markdown",
   "metadata": {
    "colab_type": "text",
    "id": "XXX829HOb3yc"
   },
   "source": [
    "Realizamos una preuba sobre el metodo parse_csv"
   ]
  },
  {
   "cell_type": "code",
   "execution_count": 21,
   "metadata": {
    "colab": {
     "base_uri": "https://localhost:8080/",
     "height": 142
    },
    "colab_type": "code",
    "id": "LlYuDO_FgU1r",
    "outputId": "29d958ae-affb-45d1-8c14-bbb5aa342bd9"
   },
   "outputs": [
    {
     "name": "stdout",
     "output_type": "stream",
     "text": [
      "({'text': array(['Print They should pay all the back all the money plus interest  The entire family and everyone who came in with them need to be deported asap  Why did it take two years to bust them   Here we go again    another group stealing from the government and taxpayers  A group of Somalis stole over four million in government benefits over just 10 months   We   ve reported on numerous cases like this one where the Muslim refugees immigrants commit fraud by scamming our system   It   s way out of control  More Related',\n",
      "       'Red State    Fox News Sunday reported this morning that Anthony Weiner is cooperating with the FBI  which has re opened  yes  lefties     re opened     the investigation into Hillary Clinton   s classified emails  Watch as Chris Wallace reports the breaking news during the panel segment near the end of the show   And the news is breaking while we   re on the air  Our colleague Bret Baier has just sent us an e mail saying he has two sources who say that Anthony Weiner  who also had co ownership of that laptop with his estranged wife Huma Abedin  is cooperating with the FBI investigation  had given them the laptop  so therefore they didn   t need a warrant to get in to see the contents of said laptop  Pretty interesting development   Targets of federal investigations will often cooperate  hoping that they will get consideration from a judge at sentencing  Given Weiner   s well known penchant for lying  it   s hard to believe that a prosecutor would give Weiner a deal based on an agreement to testify  unless his testimony were very strongly corroborated by hard evidence  But cooperation can take many forms     and  as Wallace indicated on this morning   s show  one of those forms could be signing a consent form to allow   the contents of devices that they could probably get a warrant for anyway  We   ll see if Weiner   s cooperation extends beyond that  More Related'],\n",
      "      dtype=object), 'title': array(['Muslims BUSTED  They Stole Millions In Gov   t Benefits',\n",
      "       'BREAKING  Weiner Cooperating With FBI On Hillary Email Investigation'],\n",
      "      dtype=object)}, array([0, 0], dtype=int32))\n"
     ]
    }
   ],
   "source": [
    "dataset = tf.data.TextLineDataset(\"dataFake/fake_train.csv\")\n",
    "dataset = dataset.batch(2)\n",
    "use_features  = ['title','text','type_label']\n",
    "dataset = dataset.map(lambda x: parse_csv(x, use_features))     \n",
    "features = dataset.make_one_shot_iterator().get_next()\n",
    "with tf.Session() as sess:\n",
    "    print(sess.run(features))"
   ]
  },
  {
   "cell_type": "markdown",
   "metadata": {
    "colab_type": "text",
    "id": "aBYnzJ6EzI7z"
   },
   "source": [
    "*Realizamos* la prueba sobre el embebido del texto utlizando make_data iterator, esto toma más tiempo la primera vez dado que debe descargar el embebido pre-establecido"
   ]
  },
  {
   "cell_type": "code",
   "execution_count": 22,
   "metadata": {
    "colab": {
     "base_uri": "https://localhost:8080/",
     "height": 4352
    },
    "colab_type": "code",
    "id": "dz_CNYBpzIgo",
    "outputId": "50cfac62-08b5-40ba-e09f-88473b7658fa"
   },
   "outputs": [
    {
     "name": "stdout",
     "output_type": "stream",
     "text": [
      "INFO:tensorflow:Saver not created because there are no variables in the graph to restore\n",
      "INFO:tensorflow:Saver not created because there are no variables in the graph to restore\n",
      "INFO:tensorflow:Saver not created because there are no variables in the graph to restore\n",
      "INFO:tensorflow:Saver not created because there are no variables in the graph to restore\n",
      "[[-2.06919312e-01  5.41685820e-02  3.29764038e-01 -4.02126580e-01\n",
      "   9.94230956e-02 -1.18443497e-01 -2.55622238e-01 -2.45102778e-01\n",
      "  -6.82515055e-02  3.03565472e-01 -2.59852976e-01  1.90979540e-01\n",
      "  -1.10200860e-01 -1.75001085e-01  1.38983116e-01  1.62137479e-01\n",
      "  -2.01211259e-01  3.83786172e-01  1.13439135e-01  6.59187138e-02\n",
      "   8.45712274e-02 -2.81625167e-02  1.95370376e-01  1.34894401e-01\n",
      "   2.33202040e-01 -1.54045716e-01  1.45366222e-01 -7.46701807e-02\n",
      "  -6.02654070e-02 -1.27209676e-02  4.15542424e-01 -2.31284454e-01\n",
      "   1.76246967e-02 -5.90422809e-01 -2.01867014e-01  1.59423098e-01\n",
      "   7.39509687e-02  1.38156652e-01  2.15843365e-01  3.70152473e-01\n",
      "  -1.89672187e-01 -4.15707640e-02 -7.73544535e-02  7.66665637e-02\n",
      "  -5.72944097e-02  2.81461746e-01 -5.72333276e-01 -1.77167486e-02\n",
      "   2.53055215e-01  8.21912959e-02  3.64321768e-02  1.32953748e-01\n",
      "   8.08498040e-02  4.90693778e-01 -2.32398417e-03 -7.49558434e-02\n",
      "  -4.72984612e-02  2.09521502e-01  3.80980247e-03  1.90966539e-02\n",
      "  -2.54395634e-01 -1.35228083e-01 -2.72209615e-01  4.28736918e-02\n",
      "  -5.90388626e-02 -2.40414366e-01 -2.52408922e-01  2.12497637e-01\n",
      "  -3.95282619e-02  7.97006562e-02  5.21965846e-02 -6.45653605e-02\n",
      "  -4.79073711e-02 -2.01272547e-01  3.17816168e-01 -4.39667255e-01\n",
      "  -2.49410212e-01 -5.00217006e-02  3.25377852e-01 -7.66300485e-02\n",
      "  -1.51672244e-01 -4.20527786e-01  1.43806905e-01 -5.14260270e-02\n",
      "   3.55949521e-01  1.72265932e-01 -1.28512695e-01 -1.52955085e-01\n",
      "  -5.44108152e-02 -2.11913183e-01 -7.34472573e-02  1.29159138e-01\n",
      "   3.07574049e-02 -5.96577078e-02  2.33497739e-01 -1.28233284e-01\n",
      "  -1.09239042e-01 -2.97633950e-02  1.16699442e-01  1.90454185e-01\n",
      "  -5.97654209e-02  3.71423721e-01  1.17560565e-01  3.05954032e-02\n",
      "  -9.13288742e-02 -4.46498126e-01 -3.40152711e-01  3.21405418e-02\n",
      "   1.09186530e-01 -3.59345041e-02  3.48323286e-02  7.43564188e-01\n",
      "  -9.61421581e-04  2.64219761e-01  2.00911418e-01 -1.42839804e-01\n",
      "  -4.33556102e-02 -6.23371899e-02  5.45259602e-02  9.54275206e-02\n",
      "   2.07431003e-01 -1.95184141e-01 -2.46125728e-01  2.73919161e-02\n",
      "  -6.43858537e-02  1.63415030e-01  1.07335420e-02  3.11864406e-01\n",
      "  -5.18132299e-02 -4.69940789e-02 -1.05282001e-01 -9.82182920e-02\n",
      "  -4.12111878e-01 -3.81206088e-02 -2.41463974e-01 -3.19703668e-02\n",
      "  -3.07083577e-01 -4.17524397e-01 -1.86100155e-01 -3.28070484e-02\n",
      "   1.04734808e-01  5.26232123e-01 -9.63492244e-02 -5.49863994e-01\n",
      "  -6.72508329e-02 -5.18447220e-01  5.53145595e-02  6.18568122e-01\n",
      "  -3.82749438e-02  4.01691914e-01  1.39149219e-01  8.13935101e-02\n",
      "  -3.29237819e-01 -2.67440975e-01  1.96965531e-01 -1.38049856e-01\n",
      "  -4.24846888e-01  4.38939594e-02  9.46554821e-03  6.97073760e-03\n",
      "  -6.03295602e-02 -1.65970549e-01  8.30370262e-02 -2.80996189e-02\n",
      "   4.62276377e-02 -2.17676103e-01 -9.39199179e-02  1.25202373e-01\n",
      "   1.75643921e-01 -7.93978572e-03  2.29924247e-01  2.61669517e-01\n",
      "  -2.37710234e-02  3.10584038e-01 -1.75781965e-01 -3.73677462e-01\n",
      "  -2.54758187e-02  1.61340371e-01 -5.18622212e-02 -6.68115541e-02\n",
      "   1.47146761e-01  8.71036425e-02  5.69287278e-02  5.24116099e-01\n",
      "   4.73796017e-02 -8.96428227e-02 -2.77228057e-02  1.17399633e-01\n",
      "  -1.19479172e-01 -4.75971729e-01 -1.04828581e-01  2.04432368e-01\n",
      "  -1.30593069e-02 -1.95402935e-01 -1.16200000e-02  2.37564802e-01\n",
      "  -3.69970232e-01 -2.50833094e-01 -2.33849019e-01 -6.11475706e-01\n",
      "  -1.83898404e-01 -1.84157014e-01 -4.30010885e-01  4.12120707e-02\n",
      "  -1.95436012e-02  3.60100150e-01 -8.85483250e-03 -4.87483256e-02\n",
      "   1.73360631e-01  2.21679449e-01  7.23097697e-02  2.55277783e-01\n",
      "   3.81204098e-01 -1.76671103e-01  2.51385629e-01  9.12660062e-02\n",
      "  -1.24300659e-01 -4.87980507e-02  7.32975304e-02 -2.86630511e-01\n",
      "  -7.11121112e-02  1.74785480e-02  1.37732014e-01 -1.10858269e-01\n",
      "   5.02072182e-03  2.42640432e-02 -8.10687467e-02  1.77543104e-01\n",
      "   1.30463749e-01 -2.29546309e-01  4.01050717e-01  6.21242784e-02\n",
      "  -9.35232826e-03  1.89369753e-01 -6.01566210e-02  2.37242490e-01\n",
      "  -1.05838247e-01 -3.47409368e-01  4.00800668e-02 -4.75969464e-01\n",
      "  -2.33267441e-01  3.80900592e-01 -8.69710296e-02 -1.33690396e-02\n",
      "   1.36184767e-01 -2.74138600e-01  2.26796374e-01  2.21482143e-01\n",
      "   7.80658871e-02 -2.14839771e-01 -5.26857935e-02 -1.69264138e-01\n",
      "   1.99857250e-01 -1.50487348e-01 -2.47324869e-01  2.79154807e-01\n",
      "  -1.36523042e-02  1.83796197e-01  3.54752839e-02 -4.33120504e-02\n",
      "  -1.38464391e-01 -1.12134188e-01  1.05135970e-01  1.07951201e-01\n",
      "   2.27336794e-01  2.54372597e-01 -4.26491469e-01  4.11446184e-01\n",
      "  -1.04952253e-01 -2.91883856e-01 -2.11740974e-02 -2.74050444e-01\n",
      "   2.85135917e-02  1.41350850e-01  1.82368439e-02 -1.17540762e-01\n",
      "   5.19838810e-01 -2.65916049e-01  2.92213321e-01  2.17741340e-01\n",
      "   8.75414163e-02  4.11726862e-01  3.09712648e-01 -6.80968016e-02\n",
      "  -4.76310492e-01  2.88171694e-02 -1.12352679e-02  2.14896604e-01\n",
      "  -7.10303837e-04 -1.25692591e-01 -9.46182311e-02  2.57190138e-01\n",
      "   6.92507029e-02  7.84207523e-01  3.81021723e-02  2.07334399e-01\n",
      "  -3.56067419e-01 -3.10842022e-02 -1.86837427e-02 -1.77898273e-01\n",
      "   2.38536730e-01  1.04271114e-01 -3.00214022e-01 -2.77644485e-01\n",
      "   4.09218557e-02  1.55606434e-01 -9.79299545e-02  1.12820908e-01\n",
      "  -1.41969755e-01 -1.04488730e-01 -7.15609491e-02  1.84232146e-01\n",
      "   5.93843646e-02  2.35928461e-01  4.81515937e-02 -5.57095669e-02\n",
      "  -1.27613962e-01 -3.32324505e-02  3.11650075e-02  4.70023841e-01\n",
      "  -2.55816132e-01  1.34081379e-01 -4.97192740e-02 -1.14676215e-01\n",
      "  -1.46786571e-01  1.37253970e-01 -1.15143389e-01  2.57559657e-01\n",
      "   6.34837057e-03  1.09390795e-01  7.18311220e-02  1.51470408e-01\n",
      "  -7.08223507e-02  2.38212630e-01  1.33591354e-01 -1.45922527e-02\n",
      "   2.57221341e-01 -1.72215104e-02 -7.35117868e-02 -6.62121363e-03\n",
      "  -1.84865519e-01  5.10739796e-02 -5.78585155e-02  6.79973736e-02\n",
      "   2.35402077e-01  5.52430525e-02 -1.40429083e-02  1.74567506e-01\n",
      "  -2.99036857e-02  1.56754211e-01 -3.18590701e-02  8.32928792e-02\n",
      "   2.73587834e-02 -9.20211747e-02  2.18549341e-01  8.01801085e-02\n",
      "   6.02632836e-02 -1.92449227e-01  5.61283410e-01  7.49041513e-02\n",
      "   2.03119993e-01 -1.56580567e-01 -2.25415960e-01  3.16855103e-01\n",
      "   2.58444492e-02 -1.77844122e-01  2.62084603e-01  1.69971764e-01\n",
      "  -4.20319527e-01 -4.64170843e-01 -6.75974488e-01  2.41986960e-02\n",
      "   1.41601592e-01  1.56430751e-01  1.71753243e-01 -9.33880210e-02\n",
      "   1.63577035e-01 -1.45029679e-01 -1.56629547e-01 -2.42143527e-01\n",
      "  -6.78026915e-01  6.81673288e-02  1.85338005e-01  1.88329013e-03\n",
      "   2.11393446e-01 -2.44671136e-01 -4.95431237e-02  5.71821868e-01\n",
      "  -6.27384484e-01  1.11897729e-01  7.13781491e-02  4.31497209e-02\n",
      "   2.05865838e-02  3.51286173e-01  2.51668572e-01  5.33152185e-02\n",
      "   3.35425019e-01 -3.39923799e-01 -3.25519770e-01  3.70905325e-02\n",
      "   2.08783876e-02 -5.15116565e-02  5.31518981e-02 -1.13924965e-01\n",
      "  -1.67536452e-01 -1.91330910e-01  1.34884277e-02 -1.92371115e-01\n",
      "  -2.57789791e-01  5.20745069e-02  1.39921933e-01  3.33760142e-01\n",
      "   2.88234472e-01 -1.36855543e-01  2.48415545e-02 -2.96767861e-01\n",
      "   2.70748079e-01 -4.60937060e-02 -2.67911255e-01  2.36141551e-02\n",
      "   5.25626428e-02 -2.51079112e-01  2.50303634e-02 -1.36048952e-02\n",
      "  -5.83912851e-03 -5.48548222e-01 -3.44658680e-02 -6.42746314e-02\n",
      "   2.77597420e-02  1.18844688e-01 -1.57507837e-01  1.99637622e-01\n",
      "  -2.31322661e-01 -1.81540981e-01 -1.75193250e-01  1.93088487e-01\n",
      "   1.89282492e-01 -2.10299209e-01 -1.22468017e-01 -3.25294733e-01\n",
      "   8.63920525e-02  1.79278493e-01 -1.23213507e-01  1.91904962e-01\n",
      "   9.61584225e-02  4.50943679e-01  6.61535636e-02 -2.43722692e-01\n",
      "   2.43790269e-01  9.27633792e-03  3.83504853e-02  1.19683467e-01\n",
      "   1.78249646e-02 -1.65602252e-01  4.57873613e-01  1.60836756e-01\n",
      "   1.27882585e-01 -6.59719259e-02 -1.41044587e-01  7.05838902e-03\n",
      "  -5.09360909e-01  1.40089512e-01 -1.69342533e-01 -1.02016501e-01\n",
      "   5.74184991e-02  7.46438131e-02  8.70601982e-02  3.86406392e-01\n",
      "  -2.24585310e-01 -6.57059997e-02 -2.31445998e-01 -1.26047045e-01\n",
      "   2.49760449e-01  2.51637965e-01  5.65595329e-01  7.06624612e-02\n",
      "  -1.46396846e-01  3.38002034e-02 -6.82569668e-02  2.06239633e-02\n",
      "   4.24542218e-01  3.36193562e-01 -2.76493639e-01 -1.65955842e-01\n",
      "  -2.37135068e-01 -1.02279745e-01 -2.83497304e-01 -3.61627102e-01\n",
      "   1.18629254e-01  9.40718204e-02 -3.65396477e-02 -2.57608712e-01\n",
      "  -8.34777299e-03 -1.30411103e-01 -1.07656382e-01  1.11862123e-01\n",
      "   1.15831671e-02  2.12857146e-02  4.00095642e-01  9.91673544e-02\n",
      "  -1.55772679e-02  5.67809492e-02  2.41040755e-02 -7.49929249e-02\n",
      "   4.19605523e-02  7.62734888e-03 -1.69807076e-02 -4.64579612e-02\n",
      "   2.73969751e-02  3.82841937e-02 -7.03639463e-02  6.23088144e-02\n",
      "   4.14523110e-03 -1.86321270e-02  7.37708509e-02  6.10872023e-02\n",
      "  -2.76888888e-02  7.75787011e-02 -2.25997269e-02 -1.91963967e-02\n",
      "  -7.25625455e-03 -4.41345274e-02  3.20047848e-02  3.24989595e-02\n",
      "   8.69759843e-02 -3.17422338e-02 -7.62652829e-02 -7.75127634e-02\n",
      "   9.79043078e-03  9.26115643e-03 -1.29243126e-02  5.63159473e-02\n",
      "   3.88539094e-03 -8.13603327e-02 -5.52045703e-02  1.02159925e-01\n",
      "  -3.80212553e-02 -8.15360248e-02 -1.49939507e-02  6.35864660e-02\n",
      "   3.71673927e-02  5.66056035e-02  6.66051134e-02 -1.62197258e-02\n",
      "  -4.61176783e-02  5.67898154e-02 -9.84579921e-02  3.47708948e-02\n",
      "   5.14434427e-02 -4.26636040e-02 -2.99378354e-02  1.67144667e-02\n",
      "   1.07309343e-02  1.22753918e-01 -4.81650271e-02  3.87473479e-02\n",
      "   2.70664017e-03  1.00693189e-01  4.51417305e-02  1.37963081e-02\n",
      "  -4.93124686e-02 -1.28647387e-02 -7.48276338e-02  1.38567882e-02\n",
      "  -1.06649011e-01 -7.45566562e-02 -1.23727946e-02  3.85983177e-02\n",
      "   1.96203571e-02  1.68553013e-02 -9.70376562e-03 -5.18910922e-02\n",
      "   3.49987075e-02  1.72674656e-02 -2.80870814e-02 -3.05569991e-02\n",
      "  -8.55726972e-02  1.03003753e-03  4.18538302e-02 -6.69611394e-02\n",
      "   9.87876300e-03 -4.09350311e-03 -5.82041256e-02 -2.08958313e-02\n",
      "  -3.39723453e-02  5.18893711e-02  8.43999069e-03 -5.77639751e-02\n",
      "   4.23275791e-02 -1.56812090e-02 -4.10946347e-02  1.58861428e-02\n",
      "  -7.36867785e-02 -8.96090362e-03  2.62548681e-02  1.87391583e-02\n",
      "  -7.42444322e-02 -1.96800958e-02  6.74460307e-02  7.02087134e-02\n",
      "   1.40442923e-02  1.83625501e-02  2.70187762e-02  8.87109991e-03\n",
      "   2.30072346e-02 -1.12834878e-01 -2.82173958e-02  1.92971863e-02\n",
      "   7.43786767e-02 -5.26823588e-02 -7.22962245e-02  1.01792566e-01\n",
      "  -2.97204386e-02  4.87690158e-02  6.79462627e-02 -3.35529856e-02\n",
      "   4.07365188e-02  5.91124296e-02  6.39292523e-02  3.48372608e-02\n",
      "   1.01379536e-01 -9.09806192e-02  2.23947186e-02 -6.40939623e-02\n",
      "  -1.28678456e-02  8.36500823e-02  1.33187575e-02  2.80558169e-02\n",
      "   1.03162443e-02  7.35209957e-02  5.37871569e-03 -2.46306118e-02\n",
      "  -1.29571646e-01 -5.80683835e-02 -3.79059277e-02  1.02181435e-01\n",
      "  -3.39140780e-02 -1.97040718e-02  1.33775622e-02 -1.38031011e-02\n",
      "  -2.39252788e-03 -2.26798300e-02  3.59831043e-02 -8.40097740e-02\n",
      "  -8.27927236e-03 -2.66873389e-02 -6.88027591e-02  2.38474756e-02\n",
      "   1.87609103e-02  3.87306102e-02  2.87344512e-02 -7.64723793e-02\n",
      "  -8.57005492e-02 -3.57794799e-02  2.58303136e-02 -1.67085286e-02\n",
      "  -4.43590283e-02  9.81859863e-03  2.10187654e-03  2.66886577e-02\n",
      "  -4.39364947e-02  3.30996104e-02  2.15781387e-02 -2.04246026e-02\n",
      "  -9.54252947e-03 -3.35600339e-02 -3.47299688e-02 -2.06772890e-02\n",
      "   4.17850316e-02 -5.03858030e-02  5.96032999e-02  6.66467249e-02\n",
      "   1.61042064e-03 -6.66849092e-02  3.87915559e-02 -7.42706284e-02\n",
      "  -2.75205839e-02  4.81527448e-02 -7.56427180e-04 -1.58030856e-02\n",
      "   2.29238998e-02 -4.10089754e-02  1.54535016e-02  7.82624111e-02\n",
      "   5.88432066e-02  9.73112956e-02 -1.95238795e-02 -5.20733483e-05\n",
      "  -3.07946820e-02 -3.78968418e-02 -3.69459577e-02  6.53369278e-02\n",
      "   1.59254801e-02 -2.03384329e-02 -1.07963791e-03  2.00542677e-02\n",
      "  -2.65670079e-03  1.59689076e-02  4.35558707e-02 -1.28236130e-01\n",
      "  -7.27278972e-03  1.65275985e-03 -6.34995922e-02  6.61616260e-03\n",
      "   2.64551770e-02  4.34143841e-02 -4.14514216e-03 -7.98745975e-02\n",
      "  -1.25219254e-02  2.41265888e-03 -5.19768335e-03  4.98550683e-02\n",
      "   8.60290304e-02  2.92725172e-02  6.04735948e-02  7.17099011e-02\n",
      "  -1.91234201e-02  4.43551354e-02 -1.99134629e-02 -2.53919270e-02\n",
      "  -1.42346919e-01 -1.68821663e-02  1.09162308e-01  1.38513818e-02\n",
      "  -1.76925082e-02 -1.11017115e-02  2.16386486e-02  9.01562348e-02\n",
      "   3.99401113e-02 -2.44931001e-02 -7.86856003e-03 -3.41707505e-02\n",
      "   4.53678779e-02  8.01092982e-02 -8.48453417e-02 -1.15127340e-02\n",
      "  -7.85716996e-02 -4.16862853e-02  6.33034036e-02 -1.18412018e-01\n",
      "  -3.08792740e-02  7.96356276e-02 -6.31002337e-02  1.30383642e-02\n",
      "   9.42858588e-03 -8.12562332e-02  3.35083380e-02  4.20899391e-02\n",
      "  -1.84563380e-02 -1.58698931e-02  5.92468912e-03  2.18279404e-03\n",
      "  -3.32599878e-02 -7.12804049e-02 -3.73821682e-03  2.81074196e-02\n",
      "   1.79318711e-02  6.83675632e-02  2.81028133e-02  1.00332998e-01\n",
      "   1.03415297e-02 -3.58001590e-02 -7.86748808e-03 -1.64192077e-02\n",
      "   1.08868144e-02  4.96722274e-02 -5.39605953e-02  9.50616598e-02\n",
      "   3.01833916e-02 -2.69169640e-02  1.05151848e-03 -1.13334365e-01\n",
      "   2.13812869e-02  4.60313074e-02  3.27012092e-02  5.68739809e-02\n",
      "   1.02472939e-01 -6.78714439e-02  2.80124992e-02  5.67895360e-02\n",
      "   1.44525217e-02  1.30394146e-01  7.48252496e-02 -3.63056548e-03\n",
      "  -1.11795664e-01 -9.60925315e-03 -7.96340127e-03  4.68933992e-02\n",
      "  -4.60422486e-02  3.45728099e-02 -2.10014191e-02  2.84608919e-02\n",
      "   1.35020055e-02  1.14855409e-01 -9.22095776e-02  3.95671763e-02\n",
      "  -9.50951949e-02 -5.85684329e-02 -3.40709314e-02 -8.51487815e-02\n",
      "   5.97555488e-02  6.92102760e-02 -7.79662281e-02 -8.47442541e-03\n",
      "  -6.04389012e-02  1.48864046e-01 -6.21188395e-02  4.66574766e-02\n",
      "  -9.13867727e-02 -1.56914666e-02 -3.33433114e-02  1.06046880e-02\n",
      "   8.70475844e-02 -3.45965214e-02  2.33259052e-02 -2.44557057e-02\n",
      "   5.60519099e-02  1.42634660e-03 -2.69609112e-02  9.20381472e-02\n",
      "  -1.71733480e-02  5.75048290e-02  4.13180282e-03  5.87183088e-02\n",
      "  -4.42689545e-02  4.55753505e-02 -3.02172247e-02  7.60567114e-02\n",
      "   7.92292040e-03  9.22664031e-02  8.23361948e-02 -1.64581593e-02\n",
      "  -1.59162860e-02  3.60439606e-02 -8.44810065e-03  4.31082994e-02\n",
      "   7.63358697e-02  5.12263447e-04 -4.98940833e-02 -4.47065569e-02\n",
      "  -2.55061239e-02 -7.02518746e-02  2.05718037e-02  6.26657717e-03\n",
      "   6.09125430e-03  2.42445320e-02  4.86273086e-03 -5.29990532e-02\n",
      "  -1.52236605e-02  1.66804809e-02  2.22207010e-02 -1.75322350e-02\n",
      "  -1.31266117e-02 -5.12620322e-02 -3.05269957e-02  2.38032937e-02\n",
      "   5.24445884e-02 -1.16668614e-02  1.12755902e-01 -3.31946053e-02\n",
      "   3.23401093e-02 -9.19459462e-02 -2.78390720e-02  4.08360474e-02\n",
      "  -7.53444135e-02  5.23162365e-04  1.45764574e-02  9.37962309e-02\n",
      "  -3.10322437e-02 -1.27118900e-01 -1.29801467e-01 -4.07443605e-02\n",
      "   7.35544115e-02  2.91830581e-02  6.13156408e-02  1.92182306e-02\n",
      "   4.56064306e-02  3.85849886e-02 -9.13670361e-02  7.75329070e-03\n",
      "  -6.55938014e-02  2.62699649e-02  5.00808954e-02  3.52746504e-03\n",
      "  -7.01453015e-02 -8.39841366e-02 -1.17425092e-01  3.10384110e-02\n",
      "  -1.23059958e-01  8.93847048e-02 -8.16691592e-02  1.73477083e-02\n",
      "  -5.43016531e-02 -6.19145148e-02  9.34064388e-02  6.76572695e-02\n",
      "   5.18840551e-02 -4.98057120e-02 -1.41114578e-01 -4.06746715e-02\n",
      "  -8.76210704e-02 -3.34331207e-02  5.55204563e-02 -9.59771499e-02\n",
      "  -2.79532070e-03  6.70931069e-03  1.03856632e-02  8.23933035e-02\n",
      "  -3.49849649e-02  1.91175975e-02 -2.89329048e-02  1.45057440e-01\n",
      "  -3.21298726e-02 -8.77953842e-02 -5.70306508e-03 -2.44809780e-02\n",
      "  -3.26549113e-02 -7.02061178e-03 -4.98850383e-02 -1.25668012e-03\n",
      "  -2.88297590e-02 -8.86382833e-02 -7.80327097e-02 -1.58953872e-02\n",
      "   3.21501456e-02 -1.54017851e-01  6.98109567e-02 -5.37758656e-02\n",
      "  -8.31267387e-02  2.01283488e-02 -8.22064758e-04  9.64476392e-02\n",
      "  -9.60459188e-02 -3.58112492e-02 -2.96447501e-02  3.44300717e-02\n",
      "   1.12100400e-01 -1.98084190e-02  7.30261579e-02 -5.20100594e-02\n",
      "  -1.10712843e-02  2.80001238e-02 -1.15041165e-02  6.80723600e-03\n",
      "  -3.23350206e-02  5.85788004e-02  6.92885788e-03 -1.07009290e-02\n",
      "  -2.67556105e-02 -2.03955695e-02  3.79224420e-02  2.52056844e-03\n",
      "   8.40647891e-03  3.08691729e-02  5.69005944e-02  9.45020188e-03\n",
      "   5.57416640e-02  3.46484035e-03 -5.28768599e-02 -5.48079014e-02\n",
      "  -4.80533689e-02  7.79011175e-02 -3.39182094e-02 -3.37388669e-03\n",
      "   3.14620547e-02  1.96613986e-02 -9.97295696e-03  6.07708059e-02\n",
      "  -8.51823762e-03 -5.20074926e-02  2.65244916e-02 -2.54653897e-02\n",
      "   1.12439804e-01 -7.31030246e-03  1.54194310e-01  6.04666956e-02\n",
      "   8.05829689e-02  2.02010516e-02 -3.71846296e-02 -8.47906470e-02\n",
      "   3.73323224e-02  9.33860168e-02 -1.23373784e-01 -6.64716661e-02\n",
      "  -4.00963016e-02  1.30556487e-02 -2.82216966e-02 -1.17419995e-02\n",
      "   2.16071010e-02  4.53184806e-02 -1.32148070e-02 -2.26552878e-02\n",
      "  -5.06530106e-02  4.87050712e-02  2.37031262e-02 -2.97942501e-03\n",
      "   1.20955631e-02  1.41698420e-02  7.62988329e-02  3.82285304e-02]]\n",
      "[0]\n"
     ]
    }
   ],
   "source": [
    "tf.reset_default_graph()\n",
    "\n",
    "features, label = make_data_iterator(\"dataFake/fake_train.csv\", repeat=1, batch_size=1, shuffle=False)\n",
    "\n",
    "with tf.Session() as sess:\n",
    "    tf.tables_initializer().run()\n",
    "    tf.global_variables_initializer().run() #Linea necesaria para la correcta ejecucion\n",
    "    f,l = sess.run([features, label])\n",
    "print(f)\n",
    "print(l)"
   ]
  },
  {
   "cell_type": "code",
   "execution_count": 23,
   "metadata": {
    "colab": {
     "base_uri": "https://localhost:8080/",
     "height": 34
    },
    "colab_type": "code",
    "id": "78if-oywjXfn",
    "outputId": "98ebf472-8fb2-4119-b91c-95b89eab76ba"
   },
   "outputs": [
    {
     "data": {
      "text/plain": [
       "1000"
      ]
     },
     "execution_count": 23,
     "metadata": {
      "tags": []
     },
     "output_type": "execute_result"
    }
   ],
   "source": [
    "f.size"
   ]
  },
  {
   "cell_type": "markdown",
   "metadata": {
    "colab_type": "text",
    "id": "svFWNIYy0yOZ"
   },
   "source": [
    "# Usamos un estimador predefinido  (premade estimator)"
   ]
  },
  {
   "cell_type": "code",
   "execution_count": 14,
   "metadata": {
    "colab": {
     "base_uri": "https://localhost:8080/",
     "height": 414
    },
    "colab_type": "code",
    "id": "Fjcx0Gw60nlX",
    "outputId": "2e67e42d-5482-4af8-8f0f-a859563beddf"
   },
   "outputs": [
    {
     "name": "stdout",
     "output_type": "stream",
     "text": [
      "INFO:tensorflow:Using default config.\n",
      "INFO:tensorflow:Using config: {'_save_checkpoints_secs': 600, '_session_config': None, '_keep_checkpoint_max': 5, '_task_type': 'worker', '_global_id_in_cluster': 0, '_is_chief': True, '_cluster_spec': <tensorflow.python.training.server_lib.ClusterSpec object at 0x7fa6c9335050>, '_evaluation_master': '', '_save_checkpoints_steps': None, '_keep_checkpoint_every_n_hours': 10000, '_service': None, '_num_ps_replicas': 0, '_tf_random_seed': None, '_master': '', '_device_fn': None, '_num_worker_replicas': 1, '_task_id': 0, '_log_step_count_steps': 100, '_model_dir': 'models', '_train_distribute': None, '_save_summary_steps': 100}\n",
      "INFO:tensorflow:Calling model_fn.\n",
      "INFO:tensorflow:Saver not created because there are no variables in the graph to restore\n",
      "INFO:tensorflow:Saver not created because there are no variables in the graph to restore\n",
      "INFO:tensorflow:Saver not created because there are no variables in the graph to restore\n",
      "INFO:tensorflow:Saver not created because there are no variables in the graph to restore\n",
      "INFO:tensorflow:Done calling model_fn.\n",
      "INFO:tensorflow:Create CheckpointSaverHook.\n",
      "INFO:tensorflow:Graph was finalized.\n",
      "INFO:tensorflow:Running local_init_op.\n",
      "INFO:tensorflow:Done running local_init_op.\n",
      "INFO:tensorflow:Saving checkpoints for 0 into models/model.ckpt.\n",
      "INFO:tensorflow:loss = 19.538233, step = 1\n",
      "INFO:tensorflow:global_step/sec: 59.3452\n",
      "INFO:tensorflow:loss = 15.042294, step = 101 (1.687 sec)\n",
      "INFO:tensorflow:global_step/sec: 80.2058\n",
      "INFO:tensorflow:loss = 14.043238, step = 201 (1.250 sec)\n",
      "INFO:tensorflow:Saving checkpoints for 239 into models/model.ckpt.\n",
      "INFO:tensorflow:Loss for final step: 0.9994112.\n"
     ]
    },
    {
     "data": {
      "text/plain": [
       "<tensorflow.python.estimator.canned.dnn.DNNClassifier at 0x7fa6c9342c90>"
      ]
     },
     "execution_count": 14,
     "metadata": {
      "tags": []
     },
     "output_type": "execute_result"
    }
   ],
   "source": [
    "classifier = tf.estimator.DNNClassifier(hidden_units=[100,50,10], \n",
    "                                        activation_fn = tf.nn.relu,\n",
    "                                        feature_columns=get_features_defs(),                                        \n",
    "                                        n_classes = len(type_label),\n",
    "                                        model_dir=\"models\")\n",
    "\n",
    "tf.logging.set_verbosity(tf.logging.INFO)\n",
    "!rm -rf models\n",
    "train_input_fn = lambda: get_dataset(\"dataFake/fake_train.csv\", repeat=2, batch_size=10, shuffle=True)\n",
    "\n",
    "classifier.train(train_input_fn)"
   ]
  },
  {
   "cell_type": "code",
   "execution_count": 15,
   "metadata": {
    "colab": {
     "base_uri": "https://localhost:8080/",
     "height": 275
    },
    "colab_type": "code",
    "id": "R6qSDGsRm00u",
    "outputId": "298d69d6-6963-419a-f0a9-6b58712ec341"
   },
   "outputs": [
    {
     "name": "stdout",
     "output_type": "stream",
     "text": [
      "INFO:tensorflow:Calling model_fn.\n",
      "INFO:tensorflow:Saver not created because there are no variables in the graph to restore\n",
      "INFO:tensorflow:Saver not created because there are no variables in the graph to restore\n",
      "INFO:tensorflow:Saver not created because there are no variables in the graph to restore\n",
      "INFO:tensorflow:Saver not created because there are no variables in the graph to restore\n",
      "INFO:tensorflow:Done calling model_fn.\n",
      "INFO:tensorflow:Starting evaluation at 2018-09-02-19:27:16\n",
      "INFO:tensorflow:Graph was finalized.\n",
      "INFO:tensorflow:Restoring parameters from models/model.ckpt-239\n",
      "INFO:tensorflow:Running local_init_op.\n",
      "INFO:tensorflow:Done running local_init_op.\n",
      "INFO:tensorflow:Finished evaluation at 2018-09-02-19:30:18\n",
      "INFO:tensorflow:Saving dict for global step 239: accuracy = 0.39240506, average_loss = 1.5905309, global_step = 239, loss = 15.706492\n",
      "INFO:tensorflow:Saving 'checkpoint_path' summary for global step 239: models/model.ckpt-239\n"
     ]
    }
   ],
   "source": [
    "test_input_fn = lambda: get_dataset(\"dataFake/fake_test.csv\", repeat=1, batch_size=10, shuffle=False)\n",
    "result = classifier.evaluate(test_input_fn)\n"
   ]
  },
  {
   "cell_type": "code",
   "execution_count": 16,
   "metadata": {
    "colab": {
     "base_uri": "https://localhost:8080/",
     "height": 34
    },
    "colab_type": "code",
    "id": "QTnyv16XxVTC",
    "outputId": "b2f9a90a-960f-4f95-e4aa-a8f1b5e95775"
   },
   "outputs": [
    {
     "name": "stdout",
     "output_type": "stream",
     "text": [
      "{'average_loss': 1.5905309, 'accuracy': 0.39240506, 'global_step': 239, 'loss': 15.706492}\n"
     ]
    }
   ],
   "source": [
    "print(result)"
   ]
  },
  {
   "cell_type": "code",
   "execution_count": 10,
   "metadata": {
    "colab": {
     "base_uri": "https://localhost:8080/",
     "height": 181
    },
    "colab_type": "code",
    "id": "1fJ572k4p5tg",
    "outputId": "b2702eaa-4620-4f61-8308-256f0a23c23d"
   },
   "outputs": [
    {
     "ename": "NameError",
     "evalue": "ignored",
     "output_type": "error",
     "traceback": [
      "\u001b[0;31m\u001b[0m",
      "\u001b[0;31mNameError\u001b[0mTraceback (most recent call last)",
      "\u001b[0;32m<ipython-input-10-fc51a3f187a7>\u001b[0m in \u001b[0;36m<module>\u001b[0;34m()\u001b[0m\n\u001b[0;32m----> 1\u001b[0;31m \u001b[0mhistory_dict\u001b[0m \u001b[0;34m=\u001b[0m \u001b[0mhistory\u001b[0m\u001b[0;34m.\u001b[0m\u001b[0mhistory\u001b[0m\u001b[0;34m\u001b[0m\u001b[0m\n\u001b[0m\u001b[1;32m      2\u001b[0m \u001b[0mhistory_dict\u001b[0m\u001b[0;34m.\u001b[0m\u001b[0mkeys\u001b[0m\u001b[0;34m(\u001b[0m\u001b[0;34m)\u001b[0m\u001b[0;34m\u001b[0m\u001b[0m\n",
      "\u001b[0;31mNameError\u001b[0m: name 'history' is not defined"
     ]
    }
   ],
   "source": [
    "history_dict = history.history\n",
    "history_dict.keys()"
   ]
  },
  {
   "cell_type": "code",
   "execution_count": 0,
   "metadata": {
    "colab": {},
    "colab_type": "code",
    "collapsed": true,
    "id": "s85ucbTzqH2-"
   },
   "outputs": [],
   "source": [
    "acc = history.history['acc']\n",
    "val_acc = history.history['val_acc']\n",
    "loss = history.history['loss']\n",
    "val_loss = history.history['val_loss']\n",
    "\n",
    "epochs = range(1, len(acc) + 1)\n",
    "\n",
    "# \"bo\" is for \"blue dot\"\n",
    "plt.plot(epochs, loss, 'bo', label='Training loss')\n",
    "# b is for \"solid blue line\"\n",
    "plt.plot(epochs, val_loss, 'b', label='Validation loss')\n",
    "plt.title('Training and validation loss')\n",
    "plt.xlabel('Epochs')\n",
    "plt.ylabel('Loss')\n",
    "plt.legend()\n",
    "\n",
    "plt.show()"
   ]
  }
 ],
 "metadata": {
  "colab": {
   "name": "FakeNews-mod.ipynb",
   "provenance": [],
   "toc_visible": true,
   "version": "0.3.2"
  },
  "kernelspec": {
   "display_name": "Python 2",
   "language": "python",
   "name": "python2"
  }
 },
 "nbformat": 4,
 "nbformat_minor": 1
}
