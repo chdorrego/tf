{
 "cells": [
  {
   "cell_type": "markdown",
   "metadata": {
    "colab_type": "text",
    "id": "dgDnc129tSOr"
   },
   "source": [
    "# Dataset\n",
    "https://www.kaggle.com/mrisdal/fake-news#fake.csv\n",
    "\n",
    "Example domain classifications (in flux) include:\n",
    "\n",
    "  * **Fake News**: Sources that fabricate stories out of whole cloth with the intent of pranking the public.\n",
    "  * **Satire**: Sources that provide humorous commentary on current events in the form of fake news.\n",
    "  *  **Extreme Bias**: Sources that traffic in political propaganda and gross distortions of fact.\n",
    "  *  **Conspiracy Theory**: Sources that are well-known promoters of kooky conspiracy theories.\n",
    "  *  **Rumor Mill**: Sources that traffic in rumors, innuendo, and unverified claims.\n",
    "  *  **State News**: Sources in repressive states operating under government sanction.\n",
    "  *  **Junk Science**: Sources that promote pseudoscience, metaphysics, naturalistic fallacies, and other scientifically dubious claims.\n",
    "  *  **Hate Group**: Sources that actively promote racism, misogyny, homophobia, and other forms of discrimination.\n",
    "  *  **Clickbait:** Sources that are aimed at generating online advertising revenue and rely on sensationalist headlines or eye-catching pictures.\n",
    "  *  **Proceed With Caution**: Sources that may be reliable but whose contents require further verification.\n",
    "  *  The labels of **bs** and **junksci**, etc. do not constitute capital \"t\" Truth\n",
    "\n"
   ]
  },
  {
   "cell_type": "code",
   "execution_count": 1,
   "metadata": {
    "colab": {
     "base_uri": "https://localhost:8080/",
     "height": 56
    },
    "colab_type": "code",
    "id": "5jRJVQaYtSOu",
    "outputId": "965cad7f-5dc0-4035-cc5f-6a83f769602f",
    "scrolled": true
   },
   "outputs": [
    {
     "name": "stderr",
     "output_type": "stream",
     "text": [
      "D:\\Programas\\anaconda3\\lib\\site-packages\\h5py\\__init__.py:36: FutureWarning: Conversion of the second argument of issubdtype from `float` to `np.floating` is deprecated. In future, it will be treated as `np.float64 == np.dtype(float).type`.\n",
      "  from ._conv import register_converters as _register_converters\n"
     ]
    },
    {
     "name": "stdout",
     "output_type": "stream",
     "text": [
      "1.10.0\n"
     ]
    }
   ],
   "source": [
    "import tensorflow as tf\n",
    "import numpy as np\n",
    "import matplotlib.pyplot as plt\n",
    "#import mlutils\n",
    "%matplotlib inline\n",
    "import pandas as pd\n",
    "import tensorflow_hub as hub \n",
    "import re\n",
    "print(tf.__version__)\n",
    "#print(\"The Python version is %s.%s.%s\" % sys.version_info[:3])\n"
   ]
  },
  {
   "cell_type": "markdown",
   "metadata": {
    "colab_type": "text",
    "id": "vAoLYD2ntSO6"
   },
   "source": [
    "## Descarga, arregla e inspecciona el dataset Fake news"
   ]
  },
  {
   "cell_type": "code",
   "execution_count": 6,
   "metadata": {
    "colab": {},
    "colab_type": "code",
    "id": "1FlxUjfdtSO7"
   },
   "outputs": [
    {
     "name": "stderr",
     "output_type": "stream",
     "text": [
      "Ya existe el subdirectorio o el archivo -p.\n",
      "Error mientras se procesaba: -p.\n",
      "Ya existe el subdirectorio o el archivo dataFake.\n",
      "Error mientras se procesaba: dataFake.\n"
     ]
    },
    {
     "ename": "UnicodeDecodeError",
     "evalue": "'charmap' codec can't decode byte 0x9d in position 2087: character maps to <undefined>",
     "output_type": "error",
     "traceback": [
      "\u001b[1;31m---------------------------------------------------------------------------\u001b[0m",
      "\u001b[1;31mUnicodeDecodeError\u001b[0m                        Traceback (most recent call last)",
      "\u001b[1;32m<ipython-input-6-6a616bd666b7>\u001b[0m in \u001b[0;36m<module>\u001b[1;34m()\u001b[0m\n\u001b[0;32m      5\u001b[0m     \u001b[1;31m#!unzip dataFake/fake-news.zip -d dataFake\u001b[0m\u001b[1;33m\u001b[0m\u001b[1;33m\u001b[0m\u001b[0m\n\u001b[0;32m      6\u001b[0m     \u001b[1;32mwith\u001b[0m \u001b[0mopen\u001b[0m\u001b[1;33m(\u001b[0m\u001b[1;34m\"dataFake/fake.csv\"\u001b[0m\u001b[1;33m,\u001b[0m \u001b[1;34m\"r\"\u001b[0m\u001b[1;33m)\u001b[0m \u001b[1;32mas\u001b[0m \u001b[0mf\u001b[0m\u001b[1;33m:\u001b[0m\u001b[1;33m\u001b[0m\u001b[0m\n\u001b[1;32m----> 7\u001b[1;33m         \u001b[0mlines\u001b[0m \u001b[1;33m=\u001b[0m \u001b[0mf\u001b[0m\u001b[1;33m.\u001b[0m\u001b[0mreadlines\u001b[0m\u001b[1;33m(\u001b[0m\u001b[1;33m)\u001b[0m\u001b[1;33m\u001b[0m\u001b[0m\n\u001b[0m\u001b[0;32m      8\u001b[0m         \u001b[0mlines\u001b[0m \u001b[1;33m=\u001b[0m \u001b[1;33m[\u001b[0m\u001b[0mi\u001b[0m \u001b[1;32mfor\u001b[0m \u001b[0mi\u001b[0m \u001b[1;32min\u001b[0m \u001b[0mlines\u001b[0m \u001b[1;32mif\u001b[0m \u001b[0mlen\u001b[0m\u001b[1;33m(\u001b[0m\u001b[0mi\u001b[0m\u001b[1;33m.\u001b[0m\u001b[0mreplace\u001b[0m\u001b[1;33m(\u001b[0m\u001b[1;34m\"\\n\"\u001b[0m\u001b[1;33m,\u001b[0m \u001b[1;34m\"\"\u001b[0m\u001b[1;33m)\u001b[0m\u001b[1;33m)\u001b[0m\u001b[1;33m>\u001b[0m\u001b[1;36m0\u001b[0m\u001b[1;33m]\u001b[0m\u001b[1;33m\u001b[0m\u001b[0m\n\u001b[0;32m      9\u001b[0m     \u001b[1;32mwith\u001b[0m \u001b[0mopen\u001b[0m\u001b[1;33m(\u001b[0m\u001b[1;34m\"dataFake/fake.csv\"\u001b[0m\u001b[1;33m,\u001b[0m \u001b[1;34m\"w\"\u001b[0m\u001b[1;33m)\u001b[0m \u001b[1;32mas\u001b[0m \u001b[0mf\u001b[0m\u001b[1;33m:\u001b[0m\u001b[1;33m\u001b[0m\u001b[0m\n",
      "\u001b[1;32mD:\\Programas\\anaconda3\\lib\\encodings\\cp1252.py\u001b[0m in \u001b[0;36mdecode\u001b[1;34m(self, input, final)\u001b[0m\n\u001b[0;32m     21\u001b[0m \u001b[1;32mclass\u001b[0m \u001b[0mIncrementalDecoder\u001b[0m\u001b[1;33m(\u001b[0m\u001b[0mcodecs\u001b[0m\u001b[1;33m.\u001b[0m\u001b[0mIncrementalDecoder\u001b[0m\u001b[1;33m)\u001b[0m\u001b[1;33m:\u001b[0m\u001b[1;33m\u001b[0m\u001b[0m\n\u001b[0;32m     22\u001b[0m     \u001b[1;32mdef\u001b[0m \u001b[0mdecode\u001b[0m\u001b[1;33m(\u001b[0m\u001b[0mself\u001b[0m\u001b[1;33m,\u001b[0m \u001b[0minput\u001b[0m\u001b[1;33m,\u001b[0m \u001b[0mfinal\u001b[0m\u001b[1;33m=\u001b[0m\u001b[1;32mFalse\u001b[0m\u001b[1;33m)\u001b[0m\u001b[1;33m:\u001b[0m\u001b[1;33m\u001b[0m\u001b[0m\n\u001b[1;32m---> 23\u001b[1;33m         \u001b[1;32mreturn\u001b[0m \u001b[0mcodecs\u001b[0m\u001b[1;33m.\u001b[0m\u001b[0mcharmap_decode\u001b[0m\u001b[1;33m(\u001b[0m\u001b[0minput\u001b[0m\u001b[1;33m,\u001b[0m\u001b[0mself\u001b[0m\u001b[1;33m.\u001b[0m\u001b[0merrors\u001b[0m\u001b[1;33m,\u001b[0m\u001b[0mdecoding_table\u001b[0m\u001b[1;33m)\u001b[0m\u001b[1;33m[\u001b[0m\u001b[1;36m0\u001b[0m\u001b[1;33m]\u001b[0m\u001b[1;33m\u001b[0m\u001b[0m\n\u001b[0m\u001b[0;32m     24\u001b[0m \u001b[1;33m\u001b[0m\u001b[0m\n\u001b[0;32m     25\u001b[0m \u001b[1;32mclass\u001b[0m \u001b[0mStreamWriter\u001b[0m\u001b[1;33m(\u001b[0m\u001b[0mCodec\u001b[0m\u001b[1;33m,\u001b[0m\u001b[0mcodecs\u001b[0m\u001b[1;33m.\u001b[0m\u001b[0mStreamWriter\u001b[0m\u001b[1;33m)\u001b[0m\u001b[1;33m:\u001b[0m\u001b[1;33m\u001b[0m\u001b[0m\n",
      "\u001b[1;31mUnicodeDecodeError\u001b[0m: 'charmap' codec can't decode byte 0x9d in position 2087: character maps to <undefined>"
     ]
    }
   ],
   "source": [
    "import os\n",
    "!mkdir -p dataFake\n",
    "if not os.path.exists(\"dataFake/fake.csv\"):\n",
    "    !wget -c -nc https://github.com/chdorrego/tf/raw/master/fake-news.zip -P dataFake\n",
    "    !unzip dataFake/fake-news.zip -d dataFake\n",
    "    with open(\"dataFake/fake.csv\", \"r\") as f:\n",
    "        lines = f.readlines()\n",
    "        lines = [i for i in lines if len(i.replace(\"\\n\", \"\"))>0]\n",
    "    with open(\"dataFake/fake.csv\", \"w\") as f:\n",
    "        f.writelines(lines) "
   ]
  },
  {
   "cell_type": "code",
   "execution_count": 8,
   "metadata": {
    "colab": {
     "base_uri": "https://localhost:8080/",
     "height": 142
    },
    "colab_type": "code",
    "id": "DdQTR1MWtSPD",
    "outputId": "b25ebbf7-b436-4f1a-9506-ac544c48b3cb"
   },
   "outputs": [
    {
     "name": "stderr",
     "output_type": "stream",
     "text": [
      "\"gc\" no se reconoce como un comando interno o externo,\n",
      "programa o archivo por lotes ejecutable.\n"
     ]
    }
   ],
   "source": [
    "!head -5 dataFake/fake.csv"
   ]
  },
  {
   "cell_type": "code",
   "execution_count": 10,
   "metadata": {
    "colab": {
     "base_uri": "https://localhost:8080/",
     "height": 615
    },
    "colab_type": "code",
    "id": "q8Xo6EVztSPM",
    "outputId": "4928db70-cd8d-47c3-8027-53c4cd597dac"
   },
   "outputs": [
    {
     "name": "stdout",
     "output_type": "stream",
     "text": [
      "(12999, 20)\n"
     ]
    },
    {
     "data": {
      "text/html": [
       "<div>\n",
       "<style scoped>\n",
       "    .dataframe tbody tr th:only-of-type {\n",
       "        vertical-align: middle;\n",
       "    }\n",
       "\n",
       "    .dataframe tbody tr th {\n",
       "        vertical-align: top;\n",
       "    }\n",
       "\n",
       "    .dataframe thead th {\n",
       "        text-align: right;\n",
       "    }\n",
       "</style>\n",
       "<table border=\"1\" class=\"dataframe\">\n",
       "  <thead>\n",
       "    <tr style=\"text-align: right;\">\n",
       "      <th></th>\n",
       "      <th>uuid</th>\n",
       "      <th>ord_in_thread</th>\n",
       "      <th>author</th>\n",
       "      <th>published</th>\n",
       "      <th>title</th>\n",
       "      <th>text</th>\n",
       "      <th>language</th>\n",
       "      <th>crawled</th>\n",
       "      <th>site_url</th>\n",
       "      <th>country</th>\n",
       "      <th>domain_rank</th>\n",
       "      <th>thread_title</th>\n",
       "      <th>spam_score</th>\n",
       "      <th>main_img_url</th>\n",
       "      <th>replies_count</th>\n",
       "      <th>participants_count</th>\n",
       "      <th>likes</th>\n",
       "      <th>comments</th>\n",
       "      <th>shares</th>\n",
       "      <th>type_label</th>\n",
       "    </tr>\n",
       "  </thead>\n",
       "  <tbody>\n",
       "    <tr>\n",
       "      <th>0</th>\n",
       "      <td>6a175f46bcd24d39b3e962ad0f29936721db70db</td>\n",
       "      <td>0</td>\n",
       "      <td>Barracuda Brigade</td>\n",
       "      <td>2016-10-26T21:41:00.000+03:00</td>\n",
       "      <td>Muslims BUSTED: They Stole Millions In Gov’t B...</td>\n",
       "      <td>Print They should pay all the back all the mon...</td>\n",
       "      <td>english</td>\n",
       "      <td>2016-10-27T01:49:27.168+03:00</td>\n",
       "      <td>100percentfedup.com</td>\n",
       "      <td>US</td>\n",
       "      <td>25689.0</td>\n",
       "      <td>Muslims BUSTED: They Stole Millions In Gov’t B...</td>\n",
       "      <td>0.000</td>\n",
       "      <td>http://bb4sp.com/wp-content/uploads/2016/10/Fu...</td>\n",
       "      <td>0</td>\n",
       "      <td>1</td>\n",
       "      <td>0</td>\n",
       "      <td>0</td>\n",
       "      <td>0</td>\n",
       "      <td>bias</td>\n",
       "    </tr>\n",
       "    <tr>\n",
       "      <th>1</th>\n",
       "      <td>2bdc29d12605ef9cf3f09f9875040a7113be5d5b</td>\n",
       "      <td>0</td>\n",
       "      <td>reasoning with facts</td>\n",
       "      <td>2016-10-29T08:47:11.259+03:00</td>\n",
       "      <td>Re: Why Did Attorney General Loretta Lynch Ple...</td>\n",
       "      <td>Why Did Attorney General Loretta Lynch Plead T...</td>\n",
       "      <td>english</td>\n",
       "      <td>2016-10-29T08:47:11.259+03:00</td>\n",
       "      <td>100percentfedup.com</td>\n",
       "      <td>US</td>\n",
       "      <td>25689.0</td>\n",
       "      <td>Re: Why Did Attorney General Loretta Lynch Ple...</td>\n",
       "      <td>0.000</td>\n",
       "      <td>http://bb4sp.com/wp-content/uploads/2016/10/Fu...</td>\n",
       "      <td>0</td>\n",
       "      <td>1</td>\n",
       "      <td>0</td>\n",
       "      <td>0</td>\n",
       "      <td>0</td>\n",
       "      <td>bias</td>\n",
       "    </tr>\n",
       "    <tr>\n",
       "      <th>2</th>\n",
       "      <td>c70e149fdd53de5e61c29281100b9de0ed268bc3</td>\n",
       "      <td>0</td>\n",
       "      <td>Barracuda Brigade</td>\n",
       "      <td>2016-10-31T01:41:49.479+02:00</td>\n",
       "      <td>BREAKING: Weiner Cooperating With FBI On Hilla...</td>\n",
       "      <td>Red State : \\nFox News Sunday reported this mo...</td>\n",
       "      <td>english</td>\n",
       "      <td>2016-10-31T01:41:49.479+02:00</td>\n",
       "      <td>100percentfedup.com</td>\n",
       "      <td>US</td>\n",
       "      <td>25689.0</td>\n",
       "      <td>BREAKING: Weiner Cooperating With FBI On Hilla...</td>\n",
       "      <td>0.000</td>\n",
       "      <td>http://bb4sp.com/wp-content/uploads/2016/10/Fu...</td>\n",
       "      <td>0</td>\n",
       "      <td>1</td>\n",
       "      <td>0</td>\n",
       "      <td>0</td>\n",
       "      <td>0</td>\n",
       "      <td>bias</td>\n",
       "    </tr>\n",
       "    <tr>\n",
       "      <th>3</th>\n",
       "      <td>7cf7c15731ac2a116dd7f629bd57ea468ed70284</td>\n",
       "      <td>0</td>\n",
       "      <td>Fed Up</td>\n",
       "      <td>2016-11-01T05:22:00.000+02:00</td>\n",
       "      <td>PIN DROP SPEECH BY FATHER OF DAUGHTER Kidnappe...</td>\n",
       "      <td>Email Kayla Mueller was a prisoner and torture...</td>\n",
       "      <td>english</td>\n",
       "      <td>2016-11-01T15:46:26.304+02:00</td>\n",
       "      <td>100percentfedup.com</td>\n",
       "      <td>US</td>\n",
       "      <td>25689.0</td>\n",
       "      <td>PIN DROP SPEECH BY FATHER OF DAUGHTER Kidnappe...</td>\n",
       "      <td>0.068</td>\n",
       "      <td>http://100percentfedup.com/wp-content/uploads/...</td>\n",
       "      <td>0</td>\n",
       "      <td>0</td>\n",
       "      <td>0</td>\n",
       "      <td>0</td>\n",
       "      <td>0</td>\n",
       "      <td>bias</td>\n",
       "    </tr>\n",
       "    <tr>\n",
       "      <th>4</th>\n",
       "      <td>0206b54719c7e241ffe0ad4315b808290dbe6c0f</td>\n",
       "      <td>0</td>\n",
       "      <td>Fed Up</td>\n",
       "      <td>2016-11-01T21:56:00.000+02:00</td>\n",
       "      <td>FANTASTIC! TRUMP'S 7 POINT PLAN To Reform Heal...</td>\n",
       "      <td>Email HEALTHCARE REFORM TO MAKE AMERICA GREAT ...</td>\n",
       "      <td>english</td>\n",
       "      <td>2016-11-01T23:59:42.266+02:00</td>\n",
       "      <td>100percentfedup.com</td>\n",
       "      <td>US</td>\n",
       "      <td>25689.0</td>\n",
       "      <td>FANTASTIC! TRUMP'S 7 POINT PLAN To Reform Heal...</td>\n",
       "      <td>0.865</td>\n",
       "      <td>http://100percentfedup.com/wp-content/uploads/...</td>\n",
       "      <td>0</td>\n",
       "      <td>0</td>\n",
       "      <td>0</td>\n",
       "      <td>0</td>\n",
       "      <td>0</td>\n",
       "      <td>bias</td>\n",
       "    </tr>\n",
       "  </tbody>\n",
       "</table>\n",
       "</div>"
      ],
      "text/plain": [
       "                                       uuid  ord_in_thread  \\\n",
       "0  6a175f46bcd24d39b3e962ad0f29936721db70db              0   \n",
       "1  2bdc29d12605ef9cf3f09f9875040a7113be5d5b              0   \n",
       "2  c70e149fdd53de5e61c29281100b9de0ed268bc3              0   \n",
       "3  7cf7c15731ac2a116dd7f629bd57ea468ed70284              0   \n",
       "4  0206b54719c7e241ffe0ad4315b808290dbe6c0f              0   \n",
       "\n",
       "                 author                      published  \\\n",
       "0     Barracuda Brigade  2016-10-26T21:41:00.000+03:00   \n",
       "1  reasoning with facts  2016-10-29T08:47:11.259+03:00   \n",
       "2     Barracuda Brigade  2016-10-31T01:41:49.479+02:00   \n",
       "3                Fed Up  2016-11-01T05:22:00.000+02:00   \n",
       "4                Fed Up  2016-11-01T21:56:00.000+02:00   \n",
       "\n",
       "                                               title  \\\n",
       "0  Muslims BUSTED: They Stole Millions In Gov’t B...   \n",
       "1  Re: Why Did Attorney General Loretta Lynch Ple...   \n",
       "2  BREAKING: Weiner Cooperating With FBI On Hilla...   \n",
       "3  PIN DROP SPEECH BY FATHER OF DAUGHTER Kidnappe...   \n",
       "4  FANTASTIC! TRUMP'S 7 POINT PLAN To Reform Heal...   \n",
       "\n",
       "                                                text language  \\\n",
       "0  Print They should pay all the back all the mon...  english   \n",
       "1  Why Did Attorney General Loretta Lynch Plead T...  english   \n",
       "2  Red State : \\nFox News Sunday reported this mo...  english   \n",
       "3  Email Kayla Mueller was a prisoner and torture...  english   \n",
       "4  Email HEALTHCARE REFORM TO MAKE AMERICA GREAT ...  english   \n",
       "\n",
       "                         crawled             site_url country  domain_rank  \\\n",
       "0  2016-10-27T01:49:27.168+03:00  100percentfedup.com      US      25689.0   \n",
       "1  2016-10-29T08:47:11.259+03:00  100percentfedup.com      US      25689.0   \n",
       "2  2016-10-31T01:41:49.479+02:00  100percentfedup.com      US      25689.0   \n",
       "3  2016-11-01T15:46:26.304+02:00  100percentfedup.com      US      25689.0   \n",
       "4  2016-11-01T23:59:42.266+02:00  100percentfedup.com      US      25689.0   \n",
       "\n",
       "                                        thread_title  spam_score  \\\n",
       "0  Muslims BUSTED: They Stole Millions In Gov’t B...       0.000   \n",
       "1  Re: Why Did Attorney General Loretta Lynch Ple...       0.000   \n",
       "2  BREAKING: Weiner Cooperating With FBI On Hilla...       0.000   \n",
       "3  PIN DROP SPEECH BY FATHER OF DAUGHTER Kidnappe...       0.068   \n",
       "4  FANTASTIC! TRUMP'S 7 POINT PLAN To Reform Heal...       0.865   \n",
       "\n",
       "                                        main_img_url  replies_count  \\\n",
       "0  http://bb4sp.com/wp-content/uploads/2016/10/Fu...              0   \n",
       "1  http://bb4sp.com/wp-content/uploads/2016/10/Fu...              0   \n",
       "2  http://bb4sp.com/wp-content/uploads/2016/10/Fu...              0   \n",
       "3  http://100percentfedup.com/wp-content/uploads/...              0   \n",
       "4  http://100percentfedup.com/wp-content/uploads/...              0   \n",
       "\n",
       "   participants_count  likes  comments  shares type_label  \n",
       "0                   1      0         0       0       bias  \n",
       "1                   1      0         0       0       bias  \n",
       "2                   1      0         0       0       bias  \n",
       "3                   0      0         0       0       bias  \n",
       "4                   0      0         0       0       bias  "
      ]
     },
     "execution_count": 10,
     "metadata": {},
     "output_type": "execute_result"
    }
   ],
   "source": [
    "CSV_COLUMNS  = ['uuid','ord_in_thread','author','published','title','text','language','crawled','site_url','country','domain_rank','thread_title','spam_score','main_img_url','replies_count','participants_count','likes','comments','shares','type_label']\n",
    "#CSV_DEFAULTS = [[''],[0],[''],[''],[''],[''],[''],[''],[''],[''],[0],[''],[-1],[''],[-1],[-1],[-1],[-1],[-1],['']]\n",
    "CSV_DEFAULTS = [[''],[''],[''],[''],[''],[''],[''],[''],[''],[''],[''],[''],[''],[''],[''],[''],[''],[''],[''],[0]]\n",
    "\n",
    "\n",
    "type_label =  ['bias','conspiracy','hate','state','junksci','satire','fake']\n",
    "no_valid_labels = ['bs']\n",
    "\n",
    "fake= pd.read_csv(\"dataFake/fake.csv\", names = CSV_COLUMNS,skiprows=1)\n",
    "print(fake.shape)\n",
    "fake.head()"
   ]
  },
  {
   "cell_type": "markdown",
   "metadata": {
    "colab_type": "text",
    "id": "hRfPsL_gtSPT"
   },
   "source": [
    "### Labels\n",
    "\n",
    "* bs            10919 \n",
    "* conspiracy      412 \n",
    "- bias            354 \n",
    "- hate            246 \n",
    "- state           121 \n",
    "- junksci         102 \n",
    "- satire          100 \n",
    "- fake             19\n"
   ]
  },
  {
   "cell_type": "markdown",
   "metadata": {
    "colab_type": "text",
    "id": "HvbwatXvtSPU"
   },
   "source": [
    "## Realizamos un preprocesamiento de los datos \n",
    "- Eliminiación de la clase bs debido a la definición del problema\n",
    "- Se eliminan los caracteres especiales\n",
    "- Se transforma el valor del target por una equivalencia númerica para facilidad del procesamiento\n",
    "- Realizamos la división de la data en archivos test y train \n"
   ]
  },
  {
   "cell_type": "code",
   "execution_count": 28,
   "metadata": {
    "colab": {
     "base_uri": "https://localhost:8080/",
     "height": 1295
    },
    "colab_type": "code",
    "id": "o1ZxhYvDtSPW",
    "outputId": "981b8675-ee90-439c-f0f3-1b77bf950c05"
   },
   "outputs": [
    {
     "name": "stderr",
     "output_type": "stream",
     "text": [
      "D:\\Programas\\anaconda3\\lib\\site-packages\\ipykernel_launcher.py:6: FutureWarning: specifying 'categories' or 'ordered' in .astype() is deprecated; pass a CategoricalDtype instead\n",
      "  \n"
     ]
    },
    {
     "name": "stdout",
     "output_type": "stream",
     "text": [
      "uuid                  1208\n",
      "ord_in_thread         1208\n",
      "author                 822\n",
      "published             1208\n",
      "title                 1124\n",
      "text                  1172\n",
      "language              1208\n",
      "crawled               1208\n",
      "site_url              1208\n",
      "country               1208\n",
      "domain_rank           1060\n",
      "thread_title          1208\n",
      "spam_score            1208\n",
      "main_img_url           956\n",
      "replies_count         1208\n",
      "participants_count    1208\n",
      "likes                 1208\n",
      "comments              1208\n",
      "shares                1208\n",
      "type_label            1208\n",
      "dtype: int64\n",
      "uuid                  299\n",
      "ord_in_thread         299\n",
      "author                206\n",
      "published             299\n",
      "title                 276\n",
      "text                  289\n",
      "language              299\n",
      "crawled               299\n",
      "site_url              299\n",
      "country               299\n",
      "domain_rank           259\n",
      "thread_title          299\n",
      "spam_score            299\n",
      "main_img_url          237\n",
      "replies_count         299\n",
      "participants_count    299\n",
      "likes                 299\n",
      "comments              299\n",
      "shares                299\n",
      "type_label            299\n",
      "dtype: int64\n"
     ]
    }
   ],
   "source": [
    "d = fake.loc[fake['type_label'].isin(type_label)]\n",
    "d['title'].str.replace('\\W', ' ')\n",
    "d['text'].str.replace('\\W', ' ')\n",
    "d['thread_title'].str.replace('\\W', '')\n",
    "\n",
    "d['type_label'].astype(\"category\", categories=type_label).cat.codes\n",
    "\n",
    "\n",
    "msk = np.random.rand(len(d)) < 0.8\n",
    "\n",
    "d_train = d[msk==True]\n",
    "d_test =  d[msk==False]\n",
    "\n",
    "d_train.to_csv('dataFake/fake_train.csv', sep=';', encoding='utf-8', header=False)\n",
    "d_test.to_csv('dataFake/fake_test.csv', sep=';', encoding='utf-8', header=False)\n",
    "print(d_train.count())\n",
    "print(d_test.count())"
   ]
  },
  {
   "cell_type": "markdown",
   "metadata": {
    "colab_type": "text",
    "id": "NyiY3SwftSPc"
   },
   "source": [
    "## Creamos la funcion para la generacion del `input pipeline`"
   ]
  },
  {
   "cell_type": "code",
   "execution_count": 2,
   "metadata": {
    "colab": {},
    "colab_type": "code",
    "id": "Oo2YEVKW3K2z"
   },
   "outputs": [],
   "source": [
    "CSV_COLUMNS  = ['pd_rowid','uuid','ord_in_thread','author','published','title','text','language','crawled','site_url','country','domain_rank','thread_title','spam_score','main_img_url','replies_count','participants_count','likes','comments','shares','type_label']\n",
    "CSV_DEFAULTS = [[0],[''],[''],[''],[''],[''],[''],[''],[''],[''],[''],[''],[''],[''],[''],[''],[''],[''],[''],[''],[0]]\n",
    "type_label =  ['bias','conspiracy','hate','state','junksci','satire','fake']\n",
    "\n",
    "\n",
    "def parse_csv(rows_string_tensor, use_features):\n",
    "    columns = tf.decode_csv(rows_string_tensor, record_defaults=CSV_DEFAULTS, field_delim=\";\")\n",
    "    features = dict(zip(CSV_COLUMNS, columns))   \n",
    "    \n",
    "    label = features.pop(\"type_label\")\n",
    "      \n",
    "    #label = tf.one_hot(indices=label,depth=len(type_label),dtype=tf.int32)    \n",
    "    \n",
    "    return {k:v for k,v in features.items() if k in use_features}, label\n",
    "\n",
    "\n",
    "\n",
    "def get_dataset(filename, repeat, batch_size, shuffle):\n",
    "    use_features  = ['title','text','type_label']\n",
    "    \n",
    "    dataset = tf.data.TextLineDataset(filename)\n",
    "    dataset = dataset.repeat(repeat)\n",
    "    if shuffle:\n",
    "        dataset = dataset.shuffle(buffer_size=300)\n",
    "    dataset = dataset.map(lambda x: parse_csv(x, use_features))    \n",
    "    dataset = dataset.batch(batch_size)\n",
    "    return dataset\n",
    "\n",
    "\n",
    "\n",
    "def get_features_defs():\n",
    "  \n",
    "    title = hub.text_embedding_column(\n",
    "        key='title', \n",
    "        module_spec='https://tfhub.dev/google/nnlm-en-dim128/1')\n",
    "    \n",
    "    text = hub.text_embedding_column(\n",
    "        key='text', \n",
    "        module_spec='https://tfhub.dev/google/nnlm-en-dim128/1')\n",
    "    \n",
    "    return [title,text] \n",
    "  \n",
    "  \n",
    "#Este metodo no se usa en el premade - solo se utiliza para realiza una prueba\n",
    "def make_data_iterator(filename, repeat, batch_size, shuffle=True):\n",
    "    \n",
    "    dataset = get_dataset(filename, repeat, batch_size, shuffle)\n",
    "    \n",
    "    features_defs = get_features_defs()\n",
    "    \n",
    "    features, label = dataset.make_one_shot_iterator().get_next()\n",
    "    \n",
    "    next_X = tf.feature_column.input_layer(features, features_defs)\n",
    "    next_y = label\n",
    "    \n",
    "    return next_X, next_y"
   ]
  },
  {
   "cell_type": "markdown",
   "metadata": {
    "colab_type": "text",
    "id": "OOGfZJDhtSPo"
   },
   "source": [
    "Prueba de la carga del dataset "
   ]
  },
  {
   "cell_type": "code",
   "execution_count": 3,
   "metadata": {
    "colab": {
     "base_uri": "https://localhost:8080/",
     "height": 227
    },
    "colab_type": "code",
    "id": "6VW5tEtqtSPp",
    "outputId": "821d8924-1dc6-4846-f3ac-1659b0343bcf"
   },
   "outputs": [
    {
     "name": "stdout",
     "output_type": "stream",
     "text": [
      "[b'0;6a175f46bcd24d39b3e962ad0f29936721db70db;0;Barracuda Brigade;2016-10-26T21:41:00.000+03:00;Muslims BUSTED  They Stole Millions In Gov   t Benefits;Print They should pay all the back all the money plus interest  The entire family and everyone who came in with them need to be deported asap  Why did it take two years to bust them   Here we go again    another group stealing from the government and taxpayers  A group of Somalis stole over four million in government benefits over just 10 months   We   ve reported on numerous cases like this one where the Muslim refugees immigrants commit fraud by scamming our system   It   s way out of control  More Related;english;2016-10-27T01:49:27.168+03:00;100percentfedup.com;US;25689.0;MuslimsBUSTEDTheyStoleMillionsInGovtBenefits;0.0;http://bb4sp.com/wp-content/uploads/2016/10/Fullscreen-capture-10262016-83501-AM.bmp.jpg;0;1;0;0;0;0'\n",
      " b'1;2bdc29d12605ef9cf3f09f9875040a7113be5d5b;0;reasoning with facts;2016-10-29T08:47:11.259+03:00;Re  Why Did Attorney General Loretta Lynch Plead The Fifth ;Why Did Attorney General Loretta Lynch Plead The Fifth  Barracuda Brigade 2016 10 28 Print The administration is blocking congressional probe into cash payments to Iran  Of course she needs to plead the 5th  She either can   t recall  refuses to answer  or just plain deflects the question  Straight up corruption at its finest   100percentfedUp com   Talk about covering your ass  Loretta Lynch did just that when she plead the Fifth to avoid incriminating herself over payments to Iran   Corrupt to the core  Attorney General Loretta Lynch is declining to comply with an investigation by leading members of Congress about the Obama administration   s secret efforts to send Iran  1 7 billion in cash earlier this year  prompting accusations that Lynch has    pleaded the Fifth    Amendment to avoid incriminating herself over these payments  according to lawmakers and communications exclusively obtained by the Washington Free Beacon   Sen  Marco Rubio  R   Fla   and Rep  Mike Pompeo  R   Kan   initially presented Lynch in October with a series of questions about how the cash payment to Iran was approved and delivered   In an Oct  24 response  Assistant Attorney General Peter Kadzik responded on Lynch   s behalf  refusing to answer the questions and informing the lawmakers that they are barred from publicly disclosing any details about the cash payment  which was bound up in a ransom deal aimed at freeing several American hostages from Iran   The response from the attorney general   s office is    unacceptable    and provides evidence that Lynch has chosen to    essentially plead the fifth and refuse to respond to inquiries regarding  her role in providing cash to the world   s foremost state sponsor of terrorism     Rubio and Pompeo wrote on Friday in a follow up letter to Lynch  More Related;english;2016-10-29T08:47:11.259+03:00;100percentfedup.com;US;25689.0;ReWhyDidAttorneyGeneralLorettaLynchPleadTheFifth;0.0;http://bb4sp.com/wp-content/uploads/2016/10/Fullscreen-capture-10282016-102616-PM.bmp.jpg;0;1;0;0;0;0'\n",
      " b'2;c70e149fdd53de5e61c29281100b9de0ed268bc3;0;Barracuda Brigade;2016-10-31T01:41:49.479+02:00;BREAKING  Weiner Cooperating With FBI On Hillary Email Investigation;Red State    Fox News Sunday reported this morning that Anthony Weiner is cooperating with the FBI  which has re opened  yes  lefties     re opened     the investigation into Hillary Clinton   s classified emails  Watch as Chris Wallace reports the breaking news during the panel segment near the end of the show   And the news is breaking while we   re on the air  Our colleague Bret Baier has just sent us an e mail saying he has two sources who say that Anthony Weiner  who also had co ownership of that laptop with his estranged wife Huma Abedin  is cooperating with the FBI investigation  had given them the laptop  so therefore they didn   t need a warrant to get in to see the contents of said laptop  Pretty interesting development   Targets of federal investigations will often cooperate  hoping that they will get consideration from a judge at sentencing  Given Weiner   s well known penchant for lying  it   s hard to believe that a prosecutor would give Weiner a deal based on an agreement to testify  unless his testimony were very strongly corroborated by hard evidence  But cooperation can take many forms     and  as Wallace indicated on this morning   s show  one of those forms could be signing a consent form to allow   the contents of devices that they could probably get a warrant for anyway  We   ll see if Weiner   s cooperation extends beyond that  More Related;english;2016-10-31T01:41:49.479+02:00;100percentfedup.com;US;25689.0;BREAKINGWeinerCooperatingWithFBIOnHillaryEmailInvestigation;0.0;http://bb4sp.com/wp-content/uploads/2016/10/Fullscreen-capture-10302016-60437-PM.bmp.jpg;0;1;0;0;0;0'\n",
      " b'3;7cf7c15731ac2a116dd7f629bd57ea468ed70284;0;Fed Up;2016-11-01T05:22:00.000+02:00;PIN DROP SPEECH BY FATHER OF DAUGHTER Kidnapped And Killed By ISIS   I have voted for Donald J  Trump      100percentfedUp com;Email Kayla Mueller was a prisoner and tortured by ISIS while no chance of release   a horrific story  Her father gave a pin drop speech that was so heartfelt you want to give him a hug  Carl Mueller believes Donald Trump will be a great president   Epic speech  9 0K shares ;english;2016-11-01T15:46:26.304+02:00;100percentfedup.com;US;25689.0;PINDROPSPEECHBYFATHEROFDAUGHTERKidnappedAndKilledByISISIhavevotedforDonaldJTrump100percentfedUpcom;0.068;http://100percentfedup.com/wp-content/uploads/2016/10/kayla.jpg;0;0;0;0;0;0'\n",
      " b'4;0206b54719c7e241ffe0ad4315b808290dbe6c0f;0;Fed Up;2016-11-01T21:56:00.000+02:00;FANTASTIC  TRUMP S 7 POINT PLAN To Reform Healthcare Begins With A Bombshell     100percentfedUp com;Email HEALTHCARE REFORM TO MAKE AMERICA GREAT AGAIN  Since March of 2010  the American people have had to suffer under the incredible economic burden of the Affordable Care Act   Obamacare  This legislation  passed by totally partisan votes in the House and Senate and signed into law by the most divisive and partisan President in American history  has tragically but predictably resulted in runaway costs  websites that don   t work  greater rationing of care  higher premiums  less competition and fewer choices  Obamacare has raised the economic uncertainty of every single person residing in this country  As it appears Obamacare is certain to collapse of its own weight  the damage done by the Democrats and President Obama  and abetted by the Supreme Court  will be difficult to repair unless the next President and a Republican congress lead the effort to bring much needed free market reforms to the healthcare industry   Congress must act  Our elected representatives in the House and Senate must   1  Completely repeal Obamacare  Our elected representatives must eliminate the individual mandate  No person should be required to buy insurance unless he or she wants to   2  Modify existing law that inhibits the sale of health insurance across state lines  As long as the plan purchased complies with state requirements  any vendor ought to be able to offer insurance in any state  By allowing full competition in this market  insurance costs will go down and consumer satisfaction will go up   3  Allow individuals to fully deduct health insurance premium payments from their tax returns under the current tax system  Businesses are allowed to take these deductions so why wouldn   t Congress allow individuals the same exemptions  As we allow the free market to provide insurance coverage opportunities to companies and individuals  we must also make sure that no one slips through the cracks simply because they cannot afford insurance  We must review basic options for Medicaid and work with states to ensure that those who want healthcare coverage can have it  TRENDING ON 100  Fed Up ;english;2016-11-01T23:59:42.266+02:00;100percentfedup.com;US;25689.0;FANTASTICTRUMPS7POINTPLANToReformHealthcareBeginsWithABombshell100percentfedUpcom;0.865;http://100percentfedup.com/wp-content/uploads/2016/11/obamacare-sites-404-970x0.jpg;0;0;0;0;0;0'\n",
      " b'5;8f30f5ea14c9d5914a9fe4f55ab2581772af4c31;0;Barracuda Brigade;2016-11-02T16:31:28.550+02:00;Hillary Goes Absolutely Berserk On Protester At Rally   Video ;Print Hillary goes absolutely berserk  She explodes on Bill    rapist    protester at rally    Oh the irony  She is an enabler to Bill   s    escapades     She   s is just projecting again  She is so pathetic  Dragging integrity challenged Alicia Machado on stage with her yesterday at her sad little    rally    in Florida   TGP   Democratic Party presidential nominee Hillary Clinton angrily reacted to a protester shouting    Bill Clinton is a rapist    at a campaign rally in Fort Lauderdale  Florida Tuesday night  saying     I am sick and tired of the negative  dark  divisive  dangerous vision and behavior of people who support Donald Trump     according to reports   Protester interrupts Hillary Clinton shouting  Bill Clinton is a rapist   Clinton fires right back  I am sick and tired of the negative  pic twitter com yncdkS90Bg      Josh Haskell   joshbhaskell  November 2  2016 Man interrupts  HillaryClinton yelling  Bill Clinton is a rapist   she responds she s tired of divisive distractions   nbc6 pic twitter com 2GPjps1EQB      Jamie Guirola   jamieNBC6  November 2  2016 Here s Hillary absolutely going bezerk on a protester  starts screaming  shouting  yelling  Full off the rails  pic twitter com j11qI5JjtO      John Binder        JxhnBinder  November 2  2016 Related;english;2016-11-02T16:31:28.550+02:00;100percentfedup.com;US;25689.0;HillaryGoesAbsolutelyBerserkOnProtesterAtRallyVideo;0.0;http://bb4sp.com/wp-content/uploads/2016/11/Fullscreen-capture-1122016-74311-AM.bmp.jpg;0;1;0;0;0;0'\n",
      " b'6;d3cc0fe38f41a59f7c48f8c3528ca5f74193148f;0;Fed Up;2016-11-04T19:40:00.000+02:00;BREAKING  NYPD Ready To Make Arrests In Weiner Case   Hillary Visited Pedophile Island At Least 6 Times   Money Laundering  Underage Sex  Pay for Play Proof of Inappropriate Handling Classified Information    100percentfedUp com;BREAKING  NYPD Ready To Make Arrests In Weiner Case   Hillary Visited Pedophile Island At Least 6 Times   Money Laundering  Underage Sex  Pay for Play Proof of Inappropriate Handling Classified Information Blackwater USA Founder  Retired Navy Seal Erik Prince  Prince claimed he had insider knowledge of the investigation that could help explain why FBI Director James Comey had to announce he was reopening the investigation into Clinton   s email server last week      Because of Weinergate and the sexting scandal  the NYPD started investigating it  Through a subpoena  through a warrant  they searched his laptop  and sure enough  found those 650 000 emails  They found way more stuff than just more information pertaining to the inappropriate sexting the guy was doing     Prince claimed      They found State Department emails  They found a lot of other really damning criminal information  including money laundering  including the fact that Hillary went to this sex island with convicted pedophile Jeffrey Epstein  Bill Clinton went there more than 20 times  Hillary Clinton went there at least six times     he said      The amount of garbage that they found in these emails  of criminal activity by Hillary  by her immediate circle  and even by other Democratic members of Congress was so disgusting they gave it to the FBI  and they said     We   re going to go public with this if you don   t reopen the investigation and you don   t do the right thing with timely indictments        Prince explained      I believe     I know  and this is from a very well placed source of mine at 1PP  One Police Plaza in New York     the NYPD wanted to do a press conference announcing the warrants and the additional arrests they were making in this investigation  and they   ve gotten huge pushback  to the point of coercion  from the Justice Department  with the Justice Department threatening to charge someone that had been unrelated in the accidental heart attack death of Eric Garner almost two years ago  That   s the level of pushback the Obama Justice Department is doing against actually seeking justice in the email and other related criminal matters     Prince said      There   s five different parts of the FBI conducting investigations into these things  with constant downdrafts from the Obama Justice Department  So in the  I hope  unlikely and very unfortunate event that Hillary Clinton is elected president  we will have a constitutional crisis that we have not seen since  I believe  1860     Prince declared   Marlow asked Prince to clarify these revelations      NYPD was the first one to look at that laptop     Prince elaborated     Weiner and Huma Abedin  his wife     the closest adviser of Hillary Clinton for 20 years     have both flipped  They are cooperating with the government  They both have     they see potential jail time of many years for their crimes  for Huma Abedin sending and receiving and even storing hundreds of thousands of messages from the State Department server and from Hillary Clinton   s own homebrew server  which contained classified information  Weiner faces all kinds of exposure for the inappropriate sexting that was going on and for other information that they found         So NYPD first gets that computer  They see how disgusting it is  They keep a copy of everything  and they pass a copy on to the FBI  which finally pushes the FBI off their chairs  making Comey reopen that investigation  which was indicated in the letter last week  The point being  NYPD has all the information  and they will pursue justice within their rights if the FBI doesn   t     Prince contended      There is all kinds of criminal culpability through all the emails they   ve seen of that 650 000  including money laundering  underage sex  pay for play  and  of course  plenty of proof of inappropriate handling  sending receiving of classified information  up to SAP level Special Access Programs     he stated      So the plot thickens  NYPD was pushing because  as an article quoted one of the chiefs     that   s the level just below commissioner     he said as a parent  as a father with daughters  he could not let that level of evil continue     Prince said   He noted that the FBI can investigate these matters     but they can   t convene a grand jury  They can   t file charges         The prosecutors  the Justice Department has to do that     he explained     Now  as I understand it  Preet Bharara  the Manhattan prosecutor  has gotten ahold of some of this  From what I hear  he   s a stand up guy  and hopefully he does the right thing      Marlow agreed that Bharara   s    sterling reputation    as a determined prosecutor was    bad news for the Clintons      Prince agreed  but said     If people are willing to bend or break the law and don   t really care about the Constitution or due process     if you   re willing to use Stalinist tactics against someone     who knows what level of pressure    could be brought to bear against even the most tenacious law enforcement officials   Listen to interview here      The point being  fortunately  it   s not just the FBI   there are  five different offices that are in the hunt for justice  but the NYPD has it as well     Prince said  citing the Wall Street Journal reporting that has    exposed downdraft  back pressure from the Justice Department    against both the FBI and NYPD  in an effort to    keep the sunlight and the disinfecting effects of the truth and transparency from shining on this great evil that has gone on  and is slowly being exposed         The Justice Department is trying to run out the clock  to elect Hillary Clinton  to prevent any real justice from being done     he warned   As for the mayor of New York City  Prince said he has heard that    de Blasio wants to stay away from this         The evidence is so bad  the email content is so bad  that I think even he wants to stay away from it  which is really telling     he said   For entire story  Breitbart News 14 7K shares ;english;2016-11-05T02:13:46.065+02:00;100percentfedup.com;US;25689.0;BREAKINGNYPDReadyToMakeArrestsInWeinerCaseHillaryVisitedPedophileIslandAtLeast6TimesMoneyLaunderingUnderageSexPayforPlayProofofInappropriateHandlingClassifiedInformation100percentfedUpcom;0.701;http://100percentfedup.com/wp-content/uploads/2016/11/hillary-looking-down.jpg;0;0;0;0;0;0'\n",
      " b'7;b4bbf8b5c19e8864f5257832a58b81ef4ed2d4e4;0;Fed Up;2016-11-05T01:19:00.000+02:00;WOW  WHISTLEBLOWER TELLS CHILLING STORY Of Massive Voter Fraud  Trump Campaign Readies Lawsuit Against FL Sec Of Elections In Critical District  VIDEO     100percentfedUp com;BREAKING  NYPD Ready To Make Arrests In Weiner Case   Hillary Visited Pedophile Island At Least 6 Times   Money Laundering  Underage Sex  Pay for Play Proof of Inappropriate Handling Classified Information  The amazing citizen journalist Mike Cernovich broke this story this morning at Danger and Play   Florida residents have been complaining that they   re not getting their absentee ballots  Chelsey Marie Smith  was working full time at Broward County Supervisor of Elections main office blew the whistle on the voter fraud scheme  LIVE on  Periscope   Breaking news  Voting fraud uncovered in Florida  MAGA3X https   t co q7jeEz6Rgh      Mike Cernovich            Cernovich  November 4  2016  The Florida State Attorney is actively investigating the fraud case that involves Secretary of Elections Brenda Snipes  Source  FL State Attorney investigators are actively reviewing Broward County Voter Fraud Case      Jack Posobiec            JackPosobiec  November 4  2016  Democrat Dr  Brenda Snipes was appointed by Jeb Bush in 2003 and is no stranger to controversy  On October 20  the Sun Sentinal reported that former Oakland Park Commissioner Anne Sallee noticed something troubling about her vote by mail ballot  It is missing Constitutional Amendment 2  the medical marijuana question   Sallee  now Broward chapter director of the Florida Restaurant and Lodging Association  knows her way around government  Yet she said she spent a week unsuccessfully trying to get someone at the Broward elections office to pay attention to her complaint   She was cleared on Wednesday of another election snafu  the early posting of primary election results  Her office also was criticized for sending out inaccurate voter ID cards  and for printing ballots for November that include the word    no    in the    yes    line on the county   s transportation sales surtax question   There were multiple reports that Hillary personally met with Brenda Snipes days ago  There were multiple reports Hillary personally met with Brenda Snipes days ago  No photos  but where there s smoke         Jack Posobiec            JackPosobiec  November 4  2016  According to a former Secretary of Elections Department employee  there is a secret room where Democrat insiders fill out those absentee ballots   The woman provided her sworn testimony via affidavit   The affidavit by Chelsey Marie Smith accuses Broward County officials of filling out blank absentee ballots to officials who she saw filling the ballots out at the Supervisor of Elections headquarters  Via  GP Page 1  ;english;2016-11-05T05:59:07.458+02:00;100percentfedup.com;US;25689.0;WOWWHISTLEBLOWERTELLSCHILLINGSTORYOfMassiveVoterFraudTrumpCampaignReadiesLawsuitAgainstFLSecOfElectionsInCriticalDistrictVIDEO100percentfedUpcom;0.188;http://100percentfedup.com/wp-content/uploads/2016/11/snipes-dem.jpg;0;0;0;0;0;0'\n",
      " b'8;a19aabaa5a61eb8bc22fadaaa003e5fbba5c4bf6;0;Fed Up;2016-11-06T23:54:00.000+02:00;BREAKING  CLINTON CLEARED   Was This A Coordinated Last Minute Trick To Energize Hillary s Base     100percentfedUp com; Limbaugh said that the revelations in the Wikileaks material were    starting to hurt    the Clintons and that the renewed interest in an FBI investigation into her private email server would be a fruitless distraction   In any case     IT   S TIME TO DRAIN THE SWAMP   FBI Director James Comey said Sunday that the agency has reviewed all of the Hillary Clinton emails recently discovered in an unrelated case and that his conclusion in July not to prosecute Clinton after the FBI   s original investigation into her use of private email server still stands   Comey informed Congress on Oct  28 that the agency would  in the unrelated case  review additional emails related to Clinton   s time running the State Department from 2009 to 2013      Since my letter  the FBI investigative team has been working around the clock to process and review a large volume of emails     Comey said Sunday in a follow up letter to Congress     During that time we reviewed all of the communications that were to or from Hilary Clinton as secretary of state  Based on our review  we have not changed our conclusion      The new case is purportedly related to ex New York Democratic Rep  Anthony Weiner using a laptop he shared with estranged wife and top Clinton aide Huma Abedin for    sexting    an apparently underage female   ;english;2016-11-07T10:20:06.409+02:00;100percentfedup.com;US;25689.0;BREAKINGCLINTONCLEAREDWasThisACoordinatedLastMinuteTrickToEnergizeHillarysBase100percentfedUpcom;0.14400000000000002;http://100percentfedup.com/wp-content/uploads/2016/05/hillary-comey.jpg;0;0;0;0;0;0'\n",
      " b'9;f54d8e13010d0a79893995ee65360ad4b38b5a35;0;Fed Up;2016-11-07T02:43:00.000+02:00;EVIL HILLARY SUPPORTERS Yell  F ck Trump    Burn Truck Of Daddy Fishing With 2 Yr Son Over Of Trump Bumper Stickers  VIDEO     100percentfedUp com;Email  These people are sick and evil  They will stop at NOTHING to get their way  Laws mean nothing to them  because they mean nothing to their President and his regime     A California man says a stranger hurled expletives and set his truck on fire Thursday after seeing a pro Donald Trump sticker on the bumper   Hao Lee had taken his 2 year old son fishing on a pleasant November afternoon in Sacramento  He parked his white Dodge Ram truck with a pair of Trump stickers on the bumper along Garden Highway      About a couple hours into fishing I heard someone yelling out    F    Trump     Lee told KTXL   Lee and his son were only about 50 yards from where his truck was parked  near the edge of the river  TRENDING ON 100  Fed Up ;english;2016-11-07T10:20:27.252+02:00;100percentfedup.com;US;25689.0;EVILHILLARYSUPPORTERSYellFckTrumpBurnTruckOfDaddyFishingWith2YrSonOverOfTrumpBumperStickersVIDEO100percentfedUpcom;0.995;http://100percentfedup.com/wp-content/uploads/2016/11/TRUCK-TORCHED-HILLARY.jpg;0;0;0;0;0;0']\n"
     ]
    }
   ],
   "source": [
    "dataset = tf.data.TextLineDataset(\"dataFake/fake_train.csv\")\n",
    "dataset = dataset.batch(10)\n",
    "features = dataset.make_one_shot_iterator().get_next()\n",
    "with tf.Session() as sess:\n",
    "    print(sess.run(features))\n"
   ]
  },
  {
   "cell_type": "markdown",
   "metadata": {
    "colab_type": "text",
    "id": "XXX829HOb3yc"
   },
   "source": [
    "Realizamos una preuba sobre el metodo parse_csv"
   ]
  },
  {
   "cell_type": "code",
   "execution_count": 4,
   "metadata": {
    "colab": {
     "base_uri": "https://localhost:8080/",
     "height": 142
    },
    "colab_type": "code",
    "id": "LlYuDO_FgU1r",
    "outputId": "29d958ae-affb-45d1-8c14-bbb5aa342bd9"
   },
   "outputs": [
    {
     "name": "stdout",
     "output_type": "stream",
     "text": [
      "({'title': array([b'Muslims BUSTED  They Stole Millions In Gov   t Benefits'],\n",
      "      dtype=object), 'text': array([b'Print They should pay all the back all the money plus interest  The entire family and everyone who came in with them need to be deported asap  Why did it take two years to bust them   Here we go again    another group stealing from the government and taxpayers  A group of Somalis stole over four million in government benefits over just 10 months   We   ve reported on numerous cases like this one where the Muslim refugees immigrants commit fraud by scamming our system   It   s way out of control  More Related'],\n",
      "      dtype=object)}, array([0]))\n"
     ]
    }
   ],
   "source": [
    "dataset = tf.data.TextLineDataset(\"dataFake/fake_train.csv\")\n",
    "dataset = dataset.batch(1)\n",
    "use_features  = ['title','text','type_label']\n",
    "dataset = dataset.map(lambda x: parse_csv(x, use_features))     \n",
    "features = dataset.make_one_shot_iterator().get_next()\n",
    "with tf.Session() as sess:\n",
    "    print(sess.run(features))"
   ]
  },
  {
   "cell_type": "markdown",
   "metadata": {
    "colab_type": "text",
    "id": "aBYnzJ6EzI7z"
   },
   "source": [
    "*Realizamos* la prueba sobre el embebido del texto utlizando make_data iterator, esto toma más tiempo la primera vez dado que debe descargar el embebido pre-establecido"
   ]
  },
  {
   "cell_type": "code",
   "execution_count": 5,
   "metadata": {
    "colab": {
     "base_uri": "https://localhost:8080/",
     "height": 4352
    },
    "colab_type": "code",
    "id": "dz_CNYBpzIgo",
    "outputId": "50cfac62-08b5-40ba-e09f-88473b7658fa"
   },
   "outputs": [
    {
     "name": "stdout",
     "output_type": "stream",
     "text": [
      "INFO:tensorflow:Using C:\\Users\\cdorrego\\AppData\\Local\\Temp\\tfhub_modules to cache modules.\n",
      "INFO:tensorflow:Saver not created because there are no variables in the graph to restore\n",
      "INFO:tensorflow:Saver not created because there are no variables in the graph to restore\n",
      "INFO:tensorflow:Saver not created because there are no variables in the graph to restore\n",
      "INFO:tensorflow:Saver not created because there are no variables in the graph to restore\n",
      "[[ 1.11478150e+00  8.39062557e-02  2.26131335e-01  1.61706522e-01\n",
      "   1.03297129e-01  1.80786606e-02  1.07401036e-01 -8.00728053e-02\n",
      "  -2.36009434e-01  1.25555947e-01  5.09913675e-02  3.04798074e-02\n",
      "  -1.72189400e-01  1.07544601e-01 -1.61057487e-01  3.63296270e-03\n",
      "  -3.56842130e-01 -2.04037189e-01 -2.12922499e-01  8.68280113e-01\n",
      "  -8.55391398e-02  1.18203647e-01 -9.32149142e-02  4.22991738e-02\n",
      "  -1.84482820e-02 -3.75717908e-01  1.71205357e-01  3.17466492e-03\n",
      "  -1.46537095e-01 -8.42622444e-02 -1.37651134e-02 -3.95636149e-02\n",
      "   8.09066892e-02 -1.17708612e-02  1.10333048e-01 -5.05919904e-02\n",
      "  -1.74913898e-01 -1.81153230e-02  1.39575869e-01  1.10578321e-01\n",
      "  -8.77945684e-03 -3.17683332e-02  6.56424239e-02 -6.73612058e-02\n",
      "  -7.23710191e-03  1.87817231e-01  1.16300909e-02  9.33296680e-02\n",
      "  -1.18086087e-02 -3.86231281e-02  1.61142070e-02 -1.27245963e-01\n",
      "   1.66848123e-01 -8.62224996e-02 -1.10134080e-01 -6.77503273e-02\n",
      "  -2.66580611e-01 -7.28601962e-02  7.90023059e-02 -5.80993928e-02\n",
      "  -2.65298277e-01  2.76728630e-01  1.16611077e-02 -3.02284032e-01\n",
      "   7.28458539e-02  2.90827513e-01 -1.15519345e-01 -1.22261234e-01\n",
      "   8.61360058e-02  1.20898925e-01 -1.75385982e-01 -2.76274187e-03\n",
      "   3.30995061e-02 -7.07481876e-02  2.25661144e-01  2.96655148e-01\n",
      "   1.50815165e-02 -4.04874273e-02 -2.27761745e-01 -2.73661632e-02\n",
      "   2.34039679e-01 -6.71875700e-02 -2.20733210e-01 -1.16287343e-01\n",
      "  -6.51332885e-02  1.28029659e-02 -3.11544716e-01  5.31626865e-02\n",
      "   6.82402968e-01  1.14090607e-01 -2.72776634e-02 -2.03824900e-02\n",
      "  -5.37317358e-02 -1.89317331e-01  1.39239579e-01  2.83650279e-01\n",
      "   1.85612012e-02 -6.46649450e-02 -3.58997643e-01  1.63274422e-01\n",
      "   2.56302059e-01 -6.08961098e-02 -6.07478060e-02 -1.39825121e-01\n",
      "   2.22523487e-03 -9.74421948e-03 -5.47631197e-02  1.93544477e-01\n",
      "  -1.97383761e-02  1.27740845e-01 -5.85534334e-01  1.91922374e-02\n",
      "  -1.49561226e-01 -2.01784000e-01  2.99446322e-02  1.32638158e-03\n",
      "  -3.31809931e-02 -1.20264314e-01 -3.40641253e-02  3.04000050e-01\n",
      "   5.17625324e-02 -3.27625632e-01  2.36089170e-01  2.90267199e-01\n",
      "   1.32747125e-02 -1.14196248e-01 -2.62545818e-03 -1.85655668e-01\n",
      "  -4.37988946e-03  5.41917421e-02  1.66738272e-01 -6.52432814e-02\n",
      "   2.47874811e-01 -1.22992329e-01  2.60258671e-02 -2.03849170e-02\n",
      "  -4.98134494e-02 -2.19191357e-01 -1.17710590e-01 -2.62506697e-02\n",
      "   8.09477344e-02  6.90950081e-02  1.32652581e-01  1.92446753e-01\n",
      "  -1.89508684e-02  4.03709300e-02  3.33779156e-02  8.37567747e-02\n",
      "  -1.74184874e-01  3.07935700e-02 -5.17376214e-02  1.54130468e-02\n",
      "  -8.44820216e-02  1.24713510e-01  6.10755496e-02 -1.27714902e-01\n",
      "  -1.95809733e-02 -1.43942550e-01 -1.20521314e-01  1.50082976e-01\n",
      "  -9.92937461e-02 -1.49543002e-01  6.09555654e-02  4.54751365e-02\n",
      "  -1.26123369e-01  2.11821124e-02  6.62084967e-02 -5.39538562e-02\n",
      "   2.49773916e-02 -9.49723125e-02 -5.07219620e-02 -3.17482054e-01\n",
      "  -6.23879321e-02 -1.22688627e-02  3.47899646e-02  2.68280357e-02\n",
      "  -4.45187055e-02 -5.76142520e-02  7.16667250e-02  1.91703402e-02\n",
      "   1.29582435e-01  3.45724076e-02  1.00123934e-01  1.12661339e-01\n",
      "  -9.38280150e-02  2.10145656e-02 -3.70923732e-03 -1.64079800e-01\n",
      "  -1.05922222e-02  6.98813125e-02 -9.91948545e-02 -7.64614716e-02\n",
      "   1.19817764e-01  1.09011553e-01  9.13113449e-03  4.16826308e-02\n",
      "   2.16777459e-01  1.47609366e-02  7.02973679e-02  4.72463407e-02\n",
      "  -6.75704479e-02 -4.14357148e-02  7.68118128e-02 -8.56055319e-03\n",
      "   5.37922569e-02  8.07874054e-02  3.27579603e-02  5.39037846e-02\n",
      "   6.78778887e-02 -1.55781761e-01 -1.87348530e-01 -1.20704202e-02\n",
      "  -1.72378704e-01 -9.17546730e-03 -3.09691876e-02 -1.62650049e-02\n",
      "   1.16084605e-01 -1.60504267e-01  1.93787497e-02 -6.63946271e-02\n",
      "   1.35194836e-02 -9.98721942e-02  7.11743534e-02  1.36367967e-02\n",
      "   1.96237430e-01  8.24531987e-02 -1.04084156e-01 -5.20366803e-03\n",
      "  -3.65119316e-02 -1.42536685e-01 -8.72773230e-02 -1.19658403e-01\n",
      "   2.15477794e-02  1.55004337e-01 -6.47575632e-02  3.41442712e-02\n",
      "   8.07202682e-02  7.70662576e-02 -9.86563861e-02  1.18111335e-01\n",
      "   1.24662615e-01  2.37087175e-01 -1.14249147e-01  1.23105355e-01\n",
      "  -5.52092970e-04 -1.90461993e-01  5.82778454e-02  1.75344944e-03\n",
      "   2.52902824e-02 -1.12528550e-02 -8.68930388e-03  1.66693449e-01\n",
      "   1.15307301e-01  6.48722127e-02  5.41194864e-02 -9.01804790e-02]]\n",
      "[0]\n"
     ]
    }
   ],
   "source": [
    "tf.reset_default_graph()\n",
    "\n",
    "features, label = make_data_iterator(\"dataFake/fake_train.csv\", repeat=1, batch_size=1, shuffle=False)\n",
    "tf.logging.set_verbosity(tf.logging.INFO)\n",
    "#tf.logging.set_verbosity(v)\n",
    "\n",
    "with tf.Session() as sess:\n",
    "    tf.tables_initializer().run()\n",
    "    tf.global_variables_initializer().run() #Linea necesaria para la correcta ejecucion\n",
    "    f,l = sess.run([features, label])\n",
    "print(f)\n",
    "print(l)"
   ]
  },
  {
   "cell_type": "code",
   "execution_count": 6,
   "metadata": {
    "colab": {
     "base_uri": "https://localhost:8080/",
     "height": 34
    },
    "colab_type": "code",
    "id": "78if-oywjXfn",
    "outputId": "98ebf472-8fb2-4119-b91c-95b89eab76ba"
   },
   "outputs": [
    {
     "data": {
      "text/plain": [
       "256"
      ]
     },
     "execution_count": 6,
     "metadata": {},
     "output_type": "execute_result"
    }
   ],
   "source": [
    "f.size"
   ]
  },
  {
   "cell_type": "markdown",
   "metadata": {
    "colab_type": "text",
    "id": "svFWNIYy0yOZ"
   },
   "source": [
    "# Usamos un estimador predefinido  (premade estimator)"
   ]
  },
  {
   "cell_type": "code",
   "execution_count": 7,
   "metadata": {
    "colab": {
     "base_uri": "https://localhost:8080/",
     "height": 414
    },
    "colab_type": "code",
    "id": "Fjcx0Gw60nlX",
    "outputId": "2e67e42d-5482-4af8-8f0f-a859563beddf"
   },
   "outputs": [
    {
     "name": "stdout",
     "output_type": "stream",
     "text": [
      "INFO:tensorflow:Using default config.\n",
      "INFO:tensorflow:Using config: {'_model_dir': 'models', '_tf_random_seed': None, '_save_summary_steps': 100, '_save_checkpoints_steps': None, '_save_checkpoints_secs': 600, '_session_config': None, '_keep_checkpoint_max': 5, '_keep_checkpoint_every_n_hours': 10000, '_log_step_count_steps': 100, '_train_distribute': None, '_device_fn': None, '_service': None, '_cluster_spec': <tensorflow.python.training.server_lib.ClusterSpec object at 0x000002511B67BB00>, '_task_type': 'worker', '_task_id': 0, '_global_id_in_cluster': 0, '_master': '', '_evaluation_master': '', '_is_chief': True, '_num_ps_replicas': 0, '_num_worker_replicas': 1}\n",
      "INFO:tensorflow:Calling model_fn.\n",
      "INFO:tensorflow:Saver not created because there are no variables in the graph to restore\n",
      "INFO:tensorflow:Saver not created because there are no variables in the graph to restore\n",
      "INFO:tensorflow:Saver not created because there are no variables in the graph to restore\n",
      "INFO:tensorflow:Saver not created because there are no variables in the graph to restore\n",
      "INFO:tensorflow:Done calling model_fn.\n",
      "INFO:tensorflow:Create CheckpointSaverHook.\n",
      "INFO:tensorflow:Graph was finalized.\n",
      "INFO:tensorflow:Restoring parameters from models\\model.ckpt-241\n",
      "INFO:tensorflow:Running local_init_op.\n",
      "INFO:tensorflow:Done running local_init_op.\n",
      "INFO:tensorflow:Saving checkpoints for 241 into models\\model.ckpt.\n",
      "INFO:tensorflow:loss = 11.081831, step = 242\n",
      "INFO:tensorflow:global_step/sec: 36.5296\n",
      "INFO:tensorflow:loss = 5.3133497, step = 342 (2.730 sec)\n",
      "INFO:tensorflow:global_step/sec: 50.1075\n",
      "INFO:tensorflow:loss = 7.0692353, step = 442 (1.972 sec)\n",
      "INFO:tensorflow:Saving checkpoints for 482 into models\\model.ckpt.\n",
      "INFO:tensorflow:Loss for final step: 2.4765434.\n"
     ]
    },
    {
     "data": {
      "text/plain": [
       "<tensorflow.python.estimator.canned.dnn.DNNClassifier at 0x25112b7e320>"
      ]
     },
     "execution_count": 7,
     "metadata": {},
     "output_type": "execute_result"
    }
   ],
   "source": [
    "classifier = tf.estimator.DNNClassifier(hidden_units=[100,50,10], \n",
    "                                        activation_fn = tf.nn.relu,\n",
    "                                        feature_columns=get_features_defs(),                                        \n",
    "                                        n_classes = len(type_label),\n",
    "                                        model_dir=\"models\")\n",
    "\n",
    "tf.logging.set_verbosity(tf.logging.INFO)\n",
    "#!rm -rf models\n",
    "train_input_fn = lambda: get_dataset(\"dataFake/fake_train.csv\", repeat=2, batch_size=10, shuffle=True)\n",
    "\n",
    "classifier.train(train_input_fn)"
   ]
  },
  {
   "cell_type": "code",
   "execution_count": null,
   "metadata": {
    "colab": {
     "base_uri": "https://localhost:8080/",
     "height": 275
    },
    "colab_type": "code",
    "id": "R6qSDGsRm00u",
    "outputId": "298d69d6-6963-419a-f0a9-6b58712ec341"
   },
   "outputs": [
    {
     "name": "stdout",
     "output_type": "stream",
     "text": [
      "INFO:tensorflow:Calling model_fn.\n",
      "INFO:tensorflow:Saver not created because there are no variables in the graph to restore\n",
      "INFO:tensorflow:Saver not created because there are no variables in the graph to restore\n",
      "INFO:tensorflow:Saver not created because there are no variables in the graph to restore\n",
      "INFO:tensorflow:Saver not created because there are no variables in the graph to restore\n",
      "INFO:tensorflow:Done calling model_fn.\n",
      "INFO:tensorflow:Starting evaluation at 2018-09-04-22:09:45\n",
      "INFO:tensorflow:Graph was finalized.\n",
      "INFO:tensorflow:Restoring parameters from models\\model.ckpt-482\n"
     ]
    }
   ],
   "source": [
    "test_input_fn = lambda: get_dataset(\"dataFake/fake_test.csv\", repeat=1, batch_size=10, shuffle=False)\n",
    "result = classifier.evaluate(test_input_fn)\n"
   ]
  },
  {
   "cell_type": "code",
   "execution_count": 14,
   "metadata": {
    "colab": {
     "base_uri": "https://localhost:8080/",
     "height": 34
    },
    "colab_type": "code",
    "id": "QTnyv16XxVTC",
    "outputId": "b2f9a90a-960f-4f95-e4aa-a8f1b5e95775"
   },
   "outputs": [
    {
     "name": "stdout",
     "output_type": "stream",
     "text": [
      "{'accuracy': 0.6743421, 'average_loss': 0.9403539, 'loss': 9.221535, 'global_step': 482}\n"
     ]
    }
   ],
   "source": [
    "print(result)"
   ]
  },
  {
   "cell_type": "code",
   "execution_count": 10,
   "metadata": {
    "colab": {
     "base_uri": "https://localhost:8080/",
     "height": 181
    },
    "colab_type": "code",
    "id": "1fJ572k4p5tg",
    "outputId": "b2702eaa-4620-4f61-8308-256f0a23c23d"
   },
   "outputs": [
    {
     "ename": "NameError",
     "evalue": "ignored",
     "output_type": "error",
     "traceback": [
      "\u001b[0;31m\u001b[0m",
      "\u001b[0;31mNameError\u001b[0mTraceback (most recent call last)",
      "\u001b[0;32m<ipython-input-10-fc51a3f187a7>\u001b[0m in \u001b[0;36m<module>\u001b[0;34m()\u001b[0m\n\u001b[0;32m----> 1\u001b[0;31m \u001b[0mhistory_dict\u001b[0m \u001b[0;34m=\u001b[0m \u001b[0mhistory\u001b[0m\u001b[0;34m.\u001b[0m\u001b[0mhistory\u001b[0m\u001b[0;34m\u001b[0m\u001b[0m\n\u001b[0m\u001b[1;32m      2\u001b[0m \u001b[0mhistory_dict\u001b[0m\u001b[0;34m.\u001b[0m\u001b[0mkeys\u001b[0m\u001b[0;34m(\u001b[0m\u001b[0;34m)\u001b[0m\u001b[0;34m\u001b[0m\u001b[0m\n",
      "\u001b[0;31mNameError\u001b[0m: name 'history' is not defined"
     ]
    }
   ],
   "source": [
    "history_dict = history.history\n",
    "history_dict.keys()"
   ]
  },
  {
   "cell_type": "code",
   "execution_count": 0,
   "metadata": {
    "colab": {},
    "colab_type": "code",
    "collapsed": true,
    "id": "s85ucbTzqH2-"
   },
   "outputs": [],
   "source": [
    "acc = history.history['acc']\n",
    "val_acc = history.history['val_acc']\n",
    "loss = history.history['loss']\n",
    "val_loss = history.history['val_loss']\n",
    "\n",
    "epochs = range(1, len(acc) + 1)\n",
    "\n",
    "# \"bo\" is for \"blue dot\"\n",
    "plt.plot(epochs, loss, 'bo', label='Training loss')\n",
    "# b is for \"solid blue line\"\n",
    "plt.plot(epochs, val_loss, 'b', label='Validation loss')\n",
    "plt.title('Training and validation loss')\n",
    "plt.xlabel('Epochs')\n",
    "plt.ylabel('Loss')\n",
    "plt.legend()\n",
    "\n",
    "plt.show()"
   ]
  }
 ],
 "metadata": {
  "colab": {
   "name": "FakeNews-mod.ipynb",
   "provenance": [],
   "toc_visible": true,
   "version": "0.3.2"
  },
  "kernelspec": {
   "display_name": "Python 3",
   "language": "python",
   "name": "python3"
  },
  "language_info": {
   "codemirror_mode": {
    "name": "ipython",
    "version": 3
   },
   "file_extension": ".py",
   "mimetype": "text/x-python",
   "name": "python",
   "nbconvert_exporter": "python",
   "pygments_lexer": "ipython3",
   "version": "3.6.5"
  },
  "widgets": {
   "application/vnd.jupyter.widget-state+json": {
    "state": {},
    "version_major": 2,
    "version_minor": 0
   }
  }
 },
 "nbformat": 4,
 "nbformat_minor": 1
}
